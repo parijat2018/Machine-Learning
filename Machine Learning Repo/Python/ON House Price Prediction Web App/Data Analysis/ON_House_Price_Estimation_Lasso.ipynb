{
 "cells": [
  {
   "cell_type": "code",
   "execution_count": 4,
   "metadata": {},
   "outputs": [],
   "source": [
    "# \n",
    "import pandas as pd\n",
    "import numpy as np\n",
    "import re\n",
    "import time\n",
    "import pickle\n",
    "\n",
    "# \n",
    "import requests \n",
    "\n",
    "#\n",
    "from sklearn.model_selection import train_test_split\n",
    "\n",
    "# \n",
    "from sklearn.preprocessing import MinMaxScaler\n",
    "\n",
    "from sklearn.linear_model import Lasso\n",
    "\n",
    "\n",
    "from sklearn.feature_selection import SelectFromModel\n",
    "\n",
    "\n",
    "# for Q-Q plots\n",
    "import pylab\n",
    "import scipy.stats as stats\n",
    "\n",
    "# for plotting\n",
    "import matplotlib.pyplot as plt\n",
    "import seaborn as sns\n",
    "%matplotlib inline\n",
    "\n",
    "# to display all the columns of a dataframe\n",
    "pd.pandas.set_option('display.max_columns', None)"
   ]
  },
  {
   "cell_type": "code",
   "execution_count": 5,
   "metadata": {
    "scrolled": true
   },
   "outputs": [
    {
     "name": "stdout",
     "output_type": "stream",
     "text": [
      "(653171, 36)\n"
     ]
    },
    {
     "data": {
      "text/html": [
       "<div>\n",
       "<style scoped>\n",
       "    .dataframe tbody tr th:only-of-type {\n",
       "        vertical-align: middle;\n",
       "    }\n",
       "\n",
       "    .dataframe tbody tr th {\n",
       "        vertical-align: top;\n",
       "    }\n",
       "\n",
       "    .dataframe thead th {\n",
       "        text-align: right;\n",
       "    }\n",
       "</style>\n",
       "<table border=\"1\" class=\"dataframe\">\n",
       "  <thead>\n",
       "    <tr style=\"text-align: right;\">\n",
       "      <th></th>\n",
       "      <th>Unnamed: 0</th>\n",
       "      <th>id</th>\n",
       "      <th>type</th>\n",
       "      <th>province</th>\n",
       "      <th>community</th>\n",
       "      <th>postcode</th>\n",
       "      <th>bedrooms</th>\n",
       "      <th>bedroomplus</th>\n",
       "      <th>washrooms</th>\n",
       "      <th>kitchens</th>\n",
       "      <th>bedroomstotal</th>\n",
       "      <th>propertytype</th>\n",
       "      <th>approxage</th>\n",
       "      <th>approxsqft</th>\n",
       "      <th>price</th>\n",
       "      <th>soldprice</th>\n",
       "      <th>laststatus</th>\n",
       "      <th>mlsnumber</th>\n",
       "      <th>brokeragename</th>\n",
       "      <th>contractdate</th>\n",
       "      <th>solddate</th>\n",
       "      <th>closeddate</th>\n",
       "      <th>terminateddate</th>\n",
       "      <th>entrydate</th>\n",
       "      <th>updatedtimestamp</th>\n",
       "      <th>propertynew</th>\n",
       "      <th>city</th>\n",
       "      <th>crossstreets</th>\n",
       "      <th>maintenancefee</th>\n",
       "      <th>area</th>\n",
       "      <th>fronton</th>\n",
       "      <th>longitude</th>\n",
       "      <th>latitude</th>\n",
       "      <th>coop</th>\n",
       "      <th>sprice</th>\n",
       "      <th>lprice</th>\n",
       "    </tr>\n",
       "  </thead>\n",
       "  <tbody>\n",
       "    <tr>\n",
       "      <th>0</th>\n",
       "      <td>0</td>\n",
       "      <td>{\"$oid\":\"59dd1c1519bd90351291bbd8\"}</td>\n",
       "      <td>Sale</td>\n",
       "      <td>Ontario</td>\n",
       "      <td>Willowdale East</td>\n",
       "      <td>M2N6X5</td>\n",
       "      <td>1.0</td>\n",
       "      <td>NaN</td>\n",
       "      <td>1.0</td>\n",
       "      <td>1.0</td>\n",
       "      <td>1</td>\n",
       "      <td>Condo Apt</td>\n",
       "      <td>NaN</td>\n",
       "      <td>600-699</td>\n",
       "      <td>300000.0</td>\n",
       "      <td>NaN</td>\n",
       "      <td>Sus</td>\n",
       "      <td>C3160165</td>\n",
       "      <td>CENTURY 21 PERCY FULTON LTD., BROKERAGE</td>\n",
       "      <td>2015-04-07</td>\n",
       "      <td>NaN</td>\n",
       "      <td>NaN</td>\n",
       "      <td>NaN</td>\n",
       "      <td>2015-04-07</td>\n",
       "      <td>2018-03-13 05:56:39</td>\n",
       "      <td>Condo</td>\n",
       "      <td>Toronto</td>\n",
       "      <td>Yonge/Finch</td>\n",
       "      <td>341.81</td>\n",
       "      <td>Toronto</td>\n",
       "      <td>NaN</td>\n",
       "      <td>NaN</td>\n",
       "      <td>NaN</td>\n",
       "      <td>NaN</td>\n",
       "      <td>NaN</td>\n",
       "      <td>NaN</td>\n",
       "    </tr>\n",
       "    <tr>\n",
       "      <th>1</th>\n",
       "      <td>1</td>\n",
       "      <td>{\"$oid\":\"59d526eba219a85352c2fd10\"}</td>\n",
       "      <td>Sale</td>\n",
       "      <td>Ontario</td>\n",
       "      <td>Niagara</td>\n",
       "      <td>M5V1B2</td>\n",
       "      <td>2.0</td>\n",
       "      <td>NaN</td>\n",
       "      <td>2.0</td>\n",
       "      <td>1.0</td>\n",
       "      <td>2</td>\n",
       "      <td>Condo Apt</td>\n",
       "      <td>6-10</td>\n",
       "      <td>800-899</td>\n",
       "      <td>436800.0</td>\n",
       "      <td>NaN</td>\n",
       "      <td>Ter</td>\n",
       "      <td>C3240681</td>\n",
       "      <td>CENTURY 21 LEADING EDGE REALTY INC., BROKERAGE</td>\n",
       "      <td>2015-06-22</td>\n",
       "      <td>NaN</td>\n",
       "      <td>NaN</td>\n",
       "      <td>2015-09-19</td>\n",
       "      <td>2015-06-22</td>\n",
       "      <td>2018-03-13 05:56:39</td>\n",
       "      <td>Condo</td>\n",
       "      <td>Toronto</td>\n",
       "      <td>Bathurst / Lakeshore</td>\n",
       "      <td>511.00</td>\n",
       "      <td>Toronto</td>\n",
       "      <td>NaN</td>\n",
       "      <td>NaN</td>\n",
       "      <td>NaN</td>\n",
       "      <td>NaN</td>\n",
       "      <td>NaN</td>\n",
       "      <td>NaN</td>\n",
       "    </tr>\n",
       "  </tbody>\n",
       "</table>\n",
       "</div>"
      ],
      "text/plain": [
       "   Unnamed: 0                                   id  type province  \\\n",
       "0           0  {\"$oid\":\"59dd1c1519bd90351291bbd8\"}  Sale  Ontario   \n",
       "1           1  {\"$oid\":\"59d526eba219a85352c2fd10\"}  Sale  Ontario   \n",
       "\n",
       "         community postcode  bedrooms  bedroomplus  washrooms  kitchens  \\\n",
       "0  Willowdale East   M2N6X5       1.0          NaN        1.0       1.0   \n",
       "1          Niagara   M5V1B2       2.0          NaN        2.0       1.0   \n",
       "\n",
       "   bedroomstotal propertytype approxage approxsqft     price  soldprice  \\\n",
       "0              1    Condo Apt       NaN    600-699  300000.0        NaN   \n",
       "1              2    Condo Apt      6-10    800-899  436800.0        NaN   \n",
       "\n",
       "  laststatus mlsnumber                                   brokeragename  \\\n",
       "0        Sus  C3160165         CENTURY 21 PERCY FULTON LTD., BROKERAGE   \n",
       "1        Ter  C3240681  CENTURY 21 LEADING EDGE REALTY INC., BROKERAGE   \n",
       "\n",
       "  contractdate solddate closeddate terminateddate   entrydate  \\\n",
       "0   2015-04-07      NaN        NaN            NaN  2015-04-07   \n",
       "1   2015-06-22      NaN        NaN     2015-09-19  2015-06-22   \n",
       "\n",
       "      updatedtimestamp propertynew     city          crossstreets  \\\n",
       "0  2018-03-13 05:56:39       Condo  Toronto           Yonge/Finch   \n",
       "1  2018-03-13 05:56:39       Condo  Toronto  Bathurst / Lakeshore   \n",
       "\n",
       "   maintenancefee     area fronton  longitude  latitude coop  sprice  lprice  \n",
       "0          341.81  Toronto     NaN        NaN       NaN  NaN     NaN     NaN  \n",
       "1          511.00  Toronto     NaN        NaN       NaN  NaN     NaN     NaN  "
      ]
     },
     "execution_count": 5,
     "metadata": {},
     "output_type": "execute_result"
    }
   ],
   "source": [
    "# loading the dataset\n",
    "df = pd.read_csv ('treb_history.txt', delimiter = '\\t') # House price Dataset\n",
    "\n",
    "print(df.shape)\n",
    "\n",
    "# visualising the dataset\n",
    "df.head(2)"
   ]
  },
  {
   "cell_type": "code",
   "execution_count": 6,
   "metadata": {},
   "outputs": [
    {
     "data": {
      "text/plain": [
       "Unnamed: 0            int64\n",
       "id                   object\n",
       "type                 object\n",
       "province             object\n",
       "community            object\n",
       "postcode             object\n",
       "bedrooms            float64\n",
       "bedroomplus         float64\n",
       "washrooms           float64\n",
       "kitchens            float64\n",
       "bedroomstotal         int64\n",
       "propertytype         object\n",
       "approxage            object\n",
       "approxsqft           object\n",
       "price               float64\n",
       "soldprice           float64\n",
       "laststatus           object\n",
       "mlsnumber            object\n",
       "brokeragename        object\n",
       "contractdate         object\n",
       "solddate             object\n",
       "closeddate           object\n",
       "terminateddate       object\n",
       "entrydate            object\n",
       "updatedtimestamp     object\n",
       "propertynew          object\n",
       "city                 object\n",
       "crossstreets         object\n",
       "maintenancefee      float64\n",
       "area                 object\n",
       "fronton              object\n",
       "longitude           float64\n",
       "latitude            float64\n",
       "coop                 object\n",
       "sprice              float64\n",
       "lprice              float64\n",
       "dtype: object"
      ]
     },
     "execution_count": 6,
     "metadata": {},
     "output_type": "execute_result"
    }
   ],
   "source": [
    "df.dtypes # variable types"
   ]
  },
  {
   "cell_type": "markdown",
   "metadata": {},
   "source": [
    "# 1. Data Analysis and Basic Cleaning"
   ]
  },
  {
   "cell_type": "code",
   "execution_count": 7,
   "metadata": {},
   "outputs": [
    {
     "data": {
      "text/plain": [
       "[('longitude', 0.895),\n",
       " ('latitude', 0.895),\n",
       " ('lprice', 0.785),\n",
       " ('maintenancefee', 0.772),\n",
       " ('terminateddate', 0.734),\n",
       " ('bedroomplus', 0.597),\n",
       " ('sprice', 0.589),\n",
       " ('approxage', 0.558),\n",
       " ('fronton', 0.398),\n",
       " ('closeddate', 0.379),\n",
       " ('soldprice', 0.373),\n",
       " ('solddate', 0.373),\n",
       " ('coop', 0.371),\n",
       " ('approxsqft', 0.318),\n",
       " ('kitchens', 0.006),\n",
       " ('bedrooms', 0.006),\n",
       " ('postcode', 0.001),\n",
       " ('washrooms', 0.0),\n",
       " ('province', 0.0),\n",
       " ('propertytype', 0.0),\n",
       " ('crossstreets', 0.0),\n",
       " ('community', 0.0)]"
      ]
     },
     "execution_count": 7,
     "metadata": {},
     "output_type": "execute_result"
    }
   ],
   "source": [
    "# list of the variables that contain missing values\n",
    "vars_with_na = [var for var in df.columns if df[var].isnull().sum()>1]\n",
    "\n",
    "d={}\n",
    "\n",
    "# rounding missing values to three decimal places\n",
    "for var in vars_with_na:\n",
    "    d[var]= np.round(df[var].isnull().mean(), 3)\n",
    "\n",
    "#Sorting missing values in Variables in DESC manner\n",
    "\n",
    "sd= (sorted(d.items(), key =lambda kv:(kv[1], kv[0]), reverse= True))\n",
    "\n",
    "sd\n",
    " "
   ]
  },
  {
   "cell_type": "code",
   "execution_count": 8,
   "metadata": {},
   "outputs": [
    {
     "data": {
      "text/plain": [
       "Index(['Unnamed: 0', 'id', 'type', 'province', 'community', 'postcode',\n",
       "       'bedrooms', 'bedroomplus', 'washrooms', 'kitchens', 'bedroomstotal',\n",
       "       'propertytype', 'approxage', 'approxsqft', 'price', 'soldprice',\n",
       "       'laststatus', 'mlsnumber', 'brokeragename', 'contractdate', 'solddate',\n",
       "       'closeddate', 'terminateddate', 'entrydate', 'updatedtimestamp',\n",
       "       'propertynew', 'city', 'crossstreets', 'maintenancefee', 'area',\n",
       "       'fronton', 'longitude', 'latitude', 'coop', 'sprice', 'lprice'],\n",
       "      dtype='object')"
      ]
     },
     "execution_count": 8,
     "metadata": {},
     "output_type": "execute_result"
    }
   ],
   "source": [
    "df.columns"
   ]
  },
  {
   "cell_type": "code",
   "execution_count": 9,
   "metadata": {},
   "outputs": [],
   "source": [
    "# Taking relevant cols(e.g. dropping id) only and choosing among similar cols based on lesser missing values\n",
    "#(e.g. bedroomstotal instead of bedrooms )"
   ]
  },
  {
   "cell_type": "code",
   "execution_count": 10,
   "metadata": {},
   "outputs": [],
   "source": [
    "cols=['postcode','province','city','area','community','type','approxage','approxsqft','propertynew','bedroomstotal','kitchens','washrooms','maintenancefee','entrydate','solddate','soldprice','latitude','longitude']"
   ]
  },
  {
   "cell_type": "code",
   "execution_count": 11,
   "metadata": {},
   "outputs": [],
   "source": [
    "df=df[cols]"
   ]
  },
  {
   "cell_type": "code",
   "execution_count": 12,
   "metadata": {},
   "outputs": [
    {
     "data": {
      "text/html": [
       "<div>\n",
       "<style scoped>\n",
       "    .dataframe tbody tr th:only-of-type {\n",
       "        vertical-align: middle;\n",
       "    }\n",
       "\n",
       "    .dataframe tbody tr th {\n",
       "        vertical-align: top;\n",
       "    }\n",
       "\n",
       "    .dataframe thead th {\n",
       "        text-align: right;\n",
       "    }\n",
       "</style>\n",
       "<table border=\"1\" class=\"dataframe\">\n",
       "  <thead>\n",
       "    <tr style=\"text-align: right;\">\n",
       "      <th></th>\n",
       "      <th>postcode</th>\n",
       "      <th>province</th>\n",
       "      <th>city</th>\n",
       "      <th>area</th>\n",
       "      <th>community</th>\n",
       "      <th>type</th>\n",
       "      <th>approxage</th>\n",
       "      <th>approxsqft</th>\n",
       "      <th>propertynew</th>\n",
       "      <th>bedroomstotal</th>\n",
       "      <th>kitchens</th>\n",
       "      <th>washrooms</th>\n",
       "      <th>maintenancefee</th>\n",
       "      <th>entrydate</th>\n",
       "      <th>solddate</th>\n",
       "      <th>soldprice</th>\n",
       "      <th>latitude</th>\n",
       "      <th>longitude</th>\n",
       "    </tr>\n",
       "  </thead>\n",
       "  <tbody>\n",
       "    <tr>\n",
       "      <th>0</th>\n",
       "      <td>M2N6X5</td>\n",
       "      <td>Ontario</td>\n",
       "      <td>Toronto</td>\n",
       "      <td>Toronto</td>\n",
       "      <td>Willowdale East</td>\n",
       "      <td>Sale</td>\n",
       "      <td>NaN</td>\n",
       "      <td>600-699</td>\n",
       "      <td>Condo</td>\n",
       "      <td>1</td>\n",
       "      <td>1.0</td>\n",
       "      <td>1.0</td>\n",
       "      <td>341.81</td>\n",
       "      <td>2015-04-07</td>\n",
       "      <td>NaN</td>\n",
       "      <td>NaN</td>\n",
       "      <td>NaN</td>\n",
       "      <td>NaN</td>\n",
       "    </tr>\n",
       "  </tbody>\n",
       "</table>\n",
       "</div>"
      ],
      "text/plain": [
       "  postcode province     city     area        community  type approxage  \\\n",
       "0   M2N6X5  Ontario  Toronto  Toronto  Willowdale East  Sale       NaN   \n",
       "\n",
       "  approxsqft propertynew  bedroomstotal  kitchens  washrooms  maintenancefee  \\\n",
       "0    600-699       Condo              1       1.0        1.0          341.81   \n",
       "\n",
       "    entrydate solddate  soldprice  latitude  longitude  \n",
       "0  2015-04-07      NaN        NaN       NaN        NaN  "
      ]
     },
     "execution_count": 12,
     "metadata": {},
     "output_type": "execute_result"
    }
   ],
   "source": [
    "df.head(1)"
   ]
  },
  {
   "cell_type": "code",
   "execution_count": 13,
   "metadata": {},
   "outputs": [
    {
     "data": {
      "text/plain": [
       "(653171, 18)"
      ]
     },
     "execution_count": 13,
     "metadata": {},
     "output_type": "execute_result"
    }
   ],
   "source": [
    "df.shape"
   ]
  },
  {
   "cell_type": "markdown",
   "metadata": {},
   "source": [
    "## Filtering 'type' to only 'Sale'"
   ]
  },
  {
   "cell_type": "code",
   "execution_count": 14,
   "metadata": {},
   "outputs": [
    {
     "data": {
      "text/plain": [
       "array(['Sale', 'Lease'], dtype=object)"
      ]
     },
     "execution_count": 14,
     "metadata": {},
     "output_type": "execute_result"
    }
   ],
   "source": [
    "df['type'].unique()"
   ]
  },
  {
   "cell_type": "code",
   "execution_count": 15,
   "metadata": {},
   "outputs": [],
   "source": [
    "df=df[df['type']=='Sale']"
   ]
  },
  {
   "cell_type": "code",
   "execution_count": 16,
   "metadata": {},
   "outputs": [
    {
     "data": {
      "text/plain": [
       "array(['Sale'], dtype=object)"
      ]
     },
     "execution_count": 16,
     "metadata": {},
     "output_type": "execute_result"
    }
   ],
   "source": [
    "df['type'].unique() # checking that Sale only exists"
   ]
  },
  {
   "cell_type": "code",
   "execution_count": 17,
   "metadata": {},
   "outputs": [
    {
     "data": {
      "text/plain": [
       "(452566, 18)"
      ]
     },
     "execution_count": 17,
     "metadata": {},
     "output_type": "execute_result"
    }
   ],
   "source": [
    "df.shape"
   ]
  },
  {
   "cell_type": "code",
   "execution_count": 18,
   "metadata": {},
   "outputs": [
    {
     "data": {
      "text/plain": [
       "91096"
      ]
     },
     "execution_count": 18,
     "metadata": {},
     "output_type": "execute_result"
    }
   ],
   "source": [
    "df['postcode'].nunique()"
   ]
  },
  {
   "cell_type": "markdown",
   "metadata": {},
   "source": [
    "## PostCode Cleaning"
   ]
  },
  {
   "cell_type": "code",
   "execution_count": 19,
   "metadata": {},
   "outputs": [],
   "source": [
    "    df['postcode'] = df['postcode'].str.upper()\n",
    "    df['postcode'] = df['postcode'].str.replace(' ', '')\n",
    "    df['postcode'] = df['postcode'].str.replace('-', '')\n",
    "    df=df[df['postcode'].str.len()==6] \n",
    "    # POSTCODE in CANADA consists of 6 digits[alternate Letters and Numbers]"
   ]
  },
  {
   "cell_type": "code",
   "execution_count": 20,
   "metadata": {},
   "outputs": [
    {
     "data": {
      "text/plain": [
       "73215"
      ]
     },
     "execution_count": 20,
     "metadata": {},
     "output_type": "execute_result"
    }
   ],
   "source": [
    "df['postcode'].nunique()"
   ]
  },
  {
   "cell_type": "code",
   "execution_count": 21,
   "metadata": {},
   "outputs": [],
   "source": [
    "# POSTCODE of ONTARIO starts with any of  K,L,M,N,P[ 6 digits and alternate Letters and Numbers]"
   ]
  },
  {
   "cell_type": "code",
   "execution_count": 22,
   "metadata": {},
   "outputs": [],
   "source": [
    "df=df[df['postcode'].str.contains('^[KLMNP]{1}[0-9]{1}[a-zA-Z]{1}[- ]{0,1}[0-9]{1}[a-zA-Z]{1}[0-9]{1}',regex=True)]"
   ]
  },
  {
   "cell_type": "code",
   "execution_count": 23,
   "metadata": {},
   "outputs": [
    {
     "data": {
      "text/plain": [
       "72216"
      ]
     },
     "execution_count": 23,
     "metadata": {},
     "output_type": "execute_result"
    }
   ],
   "source": [
    "df['postcode'].nunique()"
   ]
  },
  {
   "cell_type": "code",
   "execution_count": 24,
   "metadata": {},
   "outputs": [
    {
     "data": {
      "text/plain": [
       "50"
      ]
     },
     "execution_count": 24,
     "metadata": {},
     "output_type": "execute_result"
    }
   ],
   "source": [
    "df['city'].nunique() # Has records for all 50 cities"
   ]
  },
  {
   "cell_type": "code",
   "execution_count": 25,
   "metadata": {},
   "outputs": [
    {
     "data": {
      "text/plain": [
       "(448730, 18)"
      ]
     },
     "execution_count": 25,
     "metadata": {},
     "output_type": "execute_result"
    }
   ],
   "source": [
    "df.shape"
   ]
  },
  {
   "cell_type": "code",
   "execution_count": 26,
   "metadata": {},
   "outputs": [],
   "source": [
    "# Imputing missing values for 'province' to 'Ontario' flatly"
   ]
  },
  {
   "cell_type": "code",
   "execution_count": 27,
   "metadata": {},
   "outputs": [],
   "source": [
    "df['province']='Ontario' # "
   ]
  },
  {
   "cell_type": "markdown",
   "metadata": {},
   "source": [
    "## Exploring Numerical Variables"
   ]
  },
  {
   "cell_type": "code",
   "execution_count": 28,
   "metadata": {},
   "outputs": [
    {
     "name": "stdout",
     "output_type": "stream",
     "text": [
      "Number of numerical variables:  7\n"
     ]
    },
    {
     "data": {
      "text/html": [
       "<div>\n",
       "<style scoped>\n",
       "    .dataframe tbody tr th:only-of-type {\n",
       "        vertical-align: middle;\n",
       "    }\n",
       "\n",
       "    .dataframe tbody tr th {\n",
       "        vertical-align: top;\n",
       "    }\n",
       "\n",
       "    .dataframe thead th {\n",
       "        text-align: right;\n",
       "    }\n",
       "</style>\n",
       "<table border=\"1\" class=\"dataframe\">\n",
       "  <thead>\n",
       "    <tr style=\"text-align: right;\">\n",
       "      <th></th>\n",
       "      <th>bedroomstotal</th>\n",
       "      <th>kitchens</th>\n",
       "      <th>washrooms</th>\n",
       "      <th>maintenancefee</th>\n",
       "      <th>soldprice</th>\n",
       "      <th>latitude</th>\n",
       "      <th>longitude</th>\n",
       "    </tr>\n",
       "  </thead>\n",
       "  <tbody>\n",
       "    <tr>\n",
       "      <th>0</th>\n",
       "      <td>1</td>\n",
       "      <td>1.0</td>\n",
       "      <td>1.0</td>\n",
       "      <td>341.81</td>\n",
       "      <td>NaN</td>\n",
       "      <td>NaN</td>\n",
       "      <td>NaN</td>\n",
       "    </tr>\n",
       "    <tr>\n",
       "      <th>1</th>\n",
       "      <td>2</td>\n",
       "      <td>1.0</td>\n",
       "      <td>2.0</td>\n",
       "      <td>511.00</td>\n",
       "      <td>NaN</td>\n",
       "      <td>NaN</td>\n",
       "      <td>NaN</td>\n",
       "    </tr>\n",
       "    <tr>\n",
       "      <th>2</th>\n",
       "      <td>5</td>\n",
       "      <td>1.0</td>\n",
       "      <td>3.0</td>\n",
       "      <td>NaN</td>\n",
       "      <td>NaN</td>\n",
       "      <td>NaN</td>\n",
       "      <td>NaN</td>\n",
       "    </tr>\n",
       "    <tr>\n",
       "      <th>3</th>\n",
       "      <td>2</td>\n",
       "      <td>1.0</td>\n",
       "      <td>2.0</td>\n",
       "      <td>935.00</td>\n",
       "      <td>NaN</td>\n",
       "      <td>NaN</td>\n",
       "      <td>NaN</td>\n",
       "    </tr>\n",
       "    <tr>\n",
       "      <th>4</th>\n",
       "      <td>2</td>\n",
       "      <td>1.0</td>\n",
       "      <td>2.0</td>\n",
       "      <td>516.00</td>\n",
       "      <td>NaN</td>\n",
       "      <td>NaN</td>\n",
       "      <td>NaN</td>\n",
       "    </tr>\n",
       "  </tbody>\n",
       "</table>\n",
       "</div>"
      ],
      "text/plain": [
       "   bedroomstotal  kitchens  washrooms  maintenancefee  soldprice  latitude  \\\n",
       "0              1       1.0        1.0          341.81        NaN       NaN   \n",
       "1              2       1.0        2.0          511.00        NaN       NaN   \n",
       "2              5       1.0        3.0             NaN        NaN       NaN   \n",
       "3              2       1.0        2.0          935.00        NaN       NaN   \n",
       "4              2       1.0        2.0          516.00        NaN       NaN   \n",
       "\n",
       "   longitude  \n",
       "0        NaN  \n",
       "1        NaN  \n",
       "2        NaN  \n",
       "3        NaN  \n",
       "4        NaN  "
      ]
     },
     "execution_count": 28,
     "metadata": {},
     "output_type": "execute_result"
    }
   ],
   "source": [
    "# list of numerical variables\n",
    "num_vars = [var for var in df.columns if df[var].dtypes != 'O']\n",
    "\n",
    "print('Number of numerical variables: ', len(num_vars))\n",
    "\n",
    "# visualising the numerical variables\n",
    "df[num_vars].head()"
   ]
  },
  {
   "cell_type": "markdown",
   "metadata": {},
   "source": [
    "### Discrete Numerical Variables"
   ]
  },
  {
   "cell_type": "code",
   "execution_count": 29,
   "metadata": {},
   "outputs": [
    {
     "name": "stdout",
     "output_type": "stream",
     "text": [
      "Number of discrete variables:  3\n"
     ]
    }
   ],
   "source": [
    "#  list of discrete variables \n",
    "## Setting the cutoff to 36 based on the max no. of washrooms\n",
    "discrete_vars = [var for var in num_vars if len(df[var].unique())<36]\n",
    "\n",
    "print('Number of discrete variables: ', len(discrete_vars))"
   ]
  },
  {
   "cell_type": "code",
   "execution_count": 30,
   "metadata": {},
   "outputs": [
    {
     "data": {
      "text/html": [
       "<div>\n",
       "<style scoped>\n",
       "    .dataframe tbody tr th:only-of-type {\n",
       "        vertical-align: middle;\n",
       "    }\n",
       "\n",
       "    .dataframe tbody tr th {\n",
       "        vertical-align: top;\n",
       "    }\n",
       "\n",
       "    .dataframe thead th {\n",
       "        text-align: right;\n",
       "    }\n",
       "</style>\n",
       "<table border=\"1\" class=\"dataframe\">\n",
       "  <thead>\n",
       "    <tr style=\"text-align: right;\">\n",
       "      <th></th>\n",
       "      <th>bedroomstotal</th>\n",
       "      <th>kitchens</th>\n",
       "      <th>washrooms</th>\n",
       "    </tr>\n",
       "  </thead>\n",
       "  <tbody>\n",
       "    <tr>\n",
       "      <th>513552</th>\n",
       "      <td>18</td>\n",
       "      <td>9.0</td>\n",
       "      <td>35.0</td>\n",
       "    </tr>\n",
       "    <tr>\n",
       "      <th>232359</th>\n",
       "      <td>18</td>\n",
       "      <td>9.0</td>\n",
       "      <td>27.0</td>\n",
       "    </tr>\n",
       "    <tr>\n",
       "      <th>112864</th>\n",
       "      <td>0</td>\n",
       "      <td>0.0</td>\n",
       "      <td>27.0</td>\n",
       "    </tr>\n",
       "    <tr>\n",
       "      <th>110960</th>\n",
       "      <td>18</td>\n",
       "      <td>9.0</td>\n",
       "      <td>24.0</td>\n",
       "    </tr>\n",
       "    <tr>\n",
       "      <th>578358</th>\n",
       "      <td>0</td>\n",
       "      <td>0.0</td>\n",
       "      <td>24.0</td>\n",
       "    </tr>\n",
       "  </tbody>\n",
       "</table>\n",
       "</div>"
      ],
      "text/plain": [
       "        bedroomstotal  kitchens  washrooms\n",
       "513552             18       9.0       35.0\n",
       "232359             18       9.0       27.0\n",
       "112864              0       0.0       27.0\n",
       "110960             18       9.0       24.0\n",
       "578358              0       0.0       24.0"
      ]
     },
     "execution_count": 30,
     "metadata": {},
     "output_type": "execute_result"
    }
   ],
   "source": [
    "#visualising the discrete variables\n",
    "df[discrete_vars].sort_values(by='washrooms',ascending=False).head()"
   ]
  },
  {
   "cell_type": "code",
   "execution_count": 31,
   "metadata": {},
   "outputs": [
    {
     "data": {
      "text/plain": [
       "array([ 1.,  2.,  3.,  5., 12.,  4.,  6.,  7.,  9.,  8.,  0., 10., 14.,\n",
       "       11., 16., 13., 18., 15., 24., 27., nan, 17., 35.])"
      ]
     },
     "execution_count": 31,
     "metadata": {},
     "output_type": "execute_result"
    }
   ],
   "source": [
    "df['washrooms'].unique() # 35 washrooms looks too much"
   ]
  },
  {
   "cell_type": "code",
   "execution_count": 32,
   "metadata": {},
   "outputs": [
    {
     "data": {
      "text/html": [
       "<div>\n",
       "<style scoped>\n",
       "    .dataframe tbody tr th:only-of-type {\n",
       "        vertical-align: middle;\n",
       "    }\n",
       "\n",
       "    .dataframe tbody tr th {\n",
       "        vertical-align: top;\n",
       "    }\n",
       "\n",
       "    .dataframe thead th {\n",
       "        text-align: right;\n",
       "    }\n",
       "</style>\n",
       "<table border=\"1\" class=\"dataframe\">\n",
       "  <thead>\n",
       "    <tr style=\"text-align: right;\">\n",
       "      <th></th>\n",
       "      <th>postcode</th>\n",
       "      <th>city</th>\n",
       "      <th>washrooms</th>\n",
       "      <th>approxsqft</th>\n",
       "    </tr>\n",
       "  </thead>\n",
       "  <tbody>\n",
       "    <tr>\n",
       "      <th>513552</th>\n",
       "      <td>M6K2J6</td>\n",
       "      <td>Toronto</td>\n",
       "      <td>35.0</td>\n",
       "      <td>5000+</td>\n",
       "    </tr>\n",
       "    <tr>\n",
       "      <th>112864</th>\n",
       "      <td>M5R1W8</td>\n",
       "      <td>Toronto</td>\n",
       "      <td>27.0</td>\n",
       "      <td>NaN</td>\n",
       "    </tr>\n",
       "    <tr>\n",
       "      <th>232359</th>\n",
       "      <td>M4J2L1</td>\n",
       "      <td>Toronto</td>\n",
       "      <td>27.0</td>\n",
       "      <td>NaN</td>\n",
       "    </tr>\n",
       "    <tr>\n",
       "      <th>110960</th>\n",
       "      <td>M4Y2G6</td>\n",
       "      <td>Toronto</td>\n",
       "      <td>24.0</td>\n",
       "      <td>NaN</td>\n",
       "    </tr>\n",
       "    <tr>\n",
       "      <th>578358</th>\n",
       "      <td>M6K2H9</td>\n",
       "      <td>Toronto</td>\n",
       "      <td>24.0</td>\n",
       "      <td>5000+</td>\n",
       "    </tr>\n",
       "    <tr>\n",
       "      <th>35032</th>\n",
       "      <td>M5A2A5</td>\n",
       "      <td>Toronto</td>\n",
       "      <td>18.0</td>\n",
       "      <td>5000+</td>\n",
       "    </tr>\n",
       "    <tr>\n",
       "      <th>59740</th>\n",
       "      <td>M5A2A5</td>\n",
       "      <td>Toronto</td>\n",
       "      <td>18.0</td>\n",
       "      <td>5000+</td>\n",
       "    </tr>\n",
       "  </tbody>\n",
       "</table>\n",
       "</div>"
      ],
      "text/plain": [
       "       postcode     city  washrooms approxsqft\n",
       "513552   M6K2J6  Toronto       35.0      5000+\n",
       "112864   M5R1W8  Toronto       27.0        NaN\n",
       "232359   M4J2L1  Toronto       27.0        NaN\n",
       "110960   M4Y2G6  Toronto       24.0        NaN\n",
       "578358   M6K2H9  Toronto       24.0      5000+\n",
       "35032    M5A2A5  Toronto       18.0      5000+\n",
       "59740    M5A2A5  Toronto       18.0      5000+"
      ]
     },
     "execution_count": 32,
     "metadata": {},
     "output_type": "execute_result"
    }
   ],
   "source": [
    "df[df['washrooms']>4][['postcode','city','washrooms','approxsqft']].sort_values(by='washrooms',ascending=False).head(7)\n",
    "\n",
    "# Areas also look bigger where no of washrooms are higher( makes sense)"
   ]
  },
  {
   "cell_type": "code",
   "execution_count": 33,
   "metadata": {},
   "outputs": [],
   "source": [
    "# How Discrete variables affect Sale Price"
   ]
  },
  {
   "cell_type": "code",
   "execution_count": 34,
   "metadata": {},
   "outputs": [
    {
     "data": {
      "image/png": "[encoded data removed]",
      "text/plain": [
       "<Figure size 432x288 with 1 Axes>"
      ]
     },
     "metadata": {
      "needs_background": "light"
     },
     "output_type": "display_data"
    },
    {
     "data": {
      "image/png": "[encoded data removed]",
      "text/plain": [
       "<Figure size 432x288 with 1 Axes>"
      ]
     },
     "metadata": {
      "needs_background": "light"
     },
     "output_type": "display_data"
    },
    {
     "data": {
      "image/png": "[encoded data removed]",
      "text/plain": [
       "<Figure size 432x288 with 1 Axes>"
      ]
     },
     "metadata": {
      "needs_background": "light"
     },
     "output_type": "display_data"
    }
   ],
   "source": [
    "def analyse_discrete(df, var):\n",
    "    df = df.copy()\n",
    "    df.groupby(var)['soldprice'].median().plot.bar()\n",
    "    plt.title(var)\n",
    "    plt.ylabel('SalePrice')\n",
    "    plt.show()\n",
    "    \n",
    "for var in discrete_vars:\n",
    "    analyse_discrete(df, var)"
   ]
  },
  {
   "cell_type": "code",
   "execution_count": 35,
   "metadata": {},
   "outputs": [],
   "source": [
    "#### No monotonic relation found"
   ]
  },
  {
   "cell_type": "markdown",
   "metadata": {},
   "source": [
    "### Continuous Numerical Variables"
   ]
  },
  {
   "cell_type": "code",
   "execution_count": 36,
   "metadata": {},
   "outputs": [
    {
     "name": "stdout",
     "output_type": "stream",
     "text": [
      "Number of continuous variables:  4\n"
     ]
    }
   ],
   "source": [
    "# list of continuous variables\n",
    "cont_vars = [var for var in num_vars if var not in discrete_vars]\n",
    "\n",
    "print('Number of continuous variables: ', len(cont_vars))"
   ]
  },
  {
   "cell_type": "code",
   "execution_count": 37,
   "metadata": {},
   "outputs": [
    {
     "data": {
      "text/html": [
       "<div>\n",
       "<style scoped>\n",
       "    .dataframe tbody tr th:only-of-type {\n",
       "        vertical-align: middle;\n",
       "    }\n",
       "\n",
       "    .dataframe tbody tr th {\n",
       "        vertical-align: top;\n",
       "    }\n",
       "\n",
       "    .dataframe thead th {\n",
       "        text-align: right;\n",
       "    }\n",
       "</style>\n",
       "<table border=\"1\" class=\"dataframe\">\n",
       "  <thead>\n",
       "    <tr style=\"text-align: right;\">\n",
       "      <th></th>\n",
       "      <th>maintenancefee</th>\n",
       "      <th>soldprice</th>\n",
       "      <th>latitude</th>\n",
       "      <th>longitude</th>\n",
       "    </tr>\n",
       "  </thead>\n",
       "  <tbody>\n",
       "    <tr>\n",
       "      <th>0</th>\n",
       "      <td>341.81</td>\n",
       "      <td>NaN</td>\n",
       "      <td>NaN</td>\n",
       "      <td>NaN</td>\n",
       "    </tr>\n",
       "    <tr>\n",
       "      <th>1</th>\n",
       "      <td>511.00</td>\n",
       "      <td>NaN</td>\n",
       "      <td>NaN</td>\n",
       "      <td>NaN</td>\n",
       "    </tr>\n",
       "    <tr>\n",
       "      <th>2</th>\n",
       "      <td>NaN</td>\n",
       "      <td>NaN</td>\n",
       "      <td>NaN</td>\n",
       "      <td>NaN</td>\n",
       "    </tr>\n",
       "    <tr>\n",
       "      <th>3</th>\n",
       "      <td>935.00</td>\n",
       "      <td>NaN</td>\n",
       "      <td>NaN</td>\n",
       "      <td>NaN</td>\n",
       "    </tr>\n",
       "    <tr>\n",
       "      <th>4</th>\n",
       "      <td>516.00</td>\n",
       "      <td>NaN</td>\n",
       "      <td>NaN</td>\n",
       "      <td>NaN</td>\n",
       "    </tr>\n",
       "  </tbody>\n",
       "</table>\n",
       "</div>"
      ],
      "text/plain": [
       "   maintenancefee  soldprice  latitude  longitude\n",
       "0          341.81        NaN       NaN        NaN\n",
       "1          511.00        NaN       NaN        NaN\n",
       "2             NaN        NaN       NaN        NaN\n",
       "3          935.00        NaN       NaN        NaN\n",
       "4          516.00        NaN       NaN        NaN"
      ]
     },
     "execution_count": 37,
     "metadata": {},
     "output_type": "execute_result"
    }
   ],
   "source": [
    "df[cont_vars].head()"
   ]
  },
  {
   "cell_type": "code",
   "execution_count": 38,
   "metadata": {},
   "outputs": [],
   "source": [
    "l2=['latitude','longitude']"
   ]
  },
  {
   "cell_type": "code",
   "execution_count": 39,
   "metadata": {},
   "outputs": [],
   "source": [
    "cont_vars= [x for x in cont_vars if x not in l2] # dropping lats and longs"
   ]
  },
  {
   "cell_type": "code",
   "execution_count": 40,
   "metadata": {},
   "outputs": [
    {
     "data": {
      "image/png": "[encoded data removed]",
      "text/plain": [
       "<Figure size 432x288 with 1 Axes>"
      ]
     },
     "metadata": {
      "needs_background": "light"
     },
     "output_type": "display_data"
    },
    {
     "data": {
      "image/png": "[encoded data removed]",
      "text/plain": [
       "<Figure size 432x288 with 1 Axes>"
      ]
     },
     "metadata": {
      "needs_background": "light"
     },
     "output_type": "display_data"
    }
   ],
   "source": [
    "# analysing the distributions of the continious numerical variables\n",
    "def analyse_continous(df, var):\n",
    "    df = df.copy()\n",
    "    df[var].hist(bins=20)\n",
    "    plt.ylabel('Number of houses')\n",
    "    plt.xlabel(var)\n",
    "    plt.title(var)\n",
    "    plt.show()\n",
    "    \n",
    "for var in cont_vars:\n",
    "    analyse_continous(df, var)"
   ]
  },
  {
   "cell_type": "code",
   "execution_count": 41,
   "metadata": {},
   "outputs": [],
   "source": [
    "# All distributions look skewed"
   ]
  },
  {
   "cell_type": "code",
   "execution_count": 42,
   "metadata": {},
   "outputs": [
    {
     "data": {
      "image/png": "[encoded data removed]",
      "text/plain": [
       "<Figure size 432x288 with 1 Axes>"
      ]
     },
     "metadata": {
      "needs_background": "light"
     },
     "output_type": "display_data"
    }
   ],
   "source": [
    "# checking log-distributions of these variables\n",
    "def analyse_transformed_continous(df, var):\n",
    "    df = df.copy()\n",
    "    \n",
    "    # log does not take negative values or zero, so skipping those variables(e.g.maintenancefee)\n",
    "    if 0 in df[var].unique():\n",
    "        pass\n",
    "    else:\n",
    "        # log transform the variable\n",
    "        df[var] = np.log(df[var])\n",
    "        df[var].hist(bins=20)\n",
    "        plt.ylabel('Number of houses')\n",
    "        plt.xlabel(var)\n",
    "        plt.title(var)\n",
    "        plt.show()\n",
    "    \n",
    "for var in cont_vars:\n",
    "    analyse_transformed_continous(df, var)"
   ]
  },
  {
   "cell_type": "code",
   "execution_count": 43,
   "metadata": {},
   "outputs": [],
   "source": [
    "# sold price becomes a Gaussian Distribution"
   ]
  },
  {
   "cell_type": "code",
   "execution_count": 44,
   "metadata": {},
   "outputs": [
    {
     "data": {
      "text/html": [
       "<div>\n",
       "<style scoped>\n",
       "    .dataframe tbody tr th:only-of-type {\n",
       "        vertical-align: middle;\n",
       "    }\n",
       "\n",
       "    .dataframe tbody tr th {\n",
       "        vertical-align: top;\n",
       "    }\n",
       "\n",
       "    .dataframe thead th {\n",
       "        text-align: right;\n",
       "    }\n",
       "</style>\n",
       "<table border=\"1\" class=\"dataframe\">\n",
       "  <thead>\n",
       "    <tr style=\"text-align: right;\">\n",
       "      <th></th>\n",
       "      <th>postcode</th>\n",
       "      <th>province</th>\n",
       "      <th>city</th>\n",
       "      <th>area</th>\n",
       "      <th>community</th>\n",
       "      <th>type</th>\n",
       "      <th>approxage</th>\n",
       "      <th>approxsqft</th>\n",
       "      <th>propertynew</th>\n",
       "      <th>bedroomstotal</th>\n",
       "      <th>kitchens</th>\n",
       "      <th>washrooms</th>\n",
       "      <th>maintenancefee</th>\n",
       "      <th>entrydate</th>\n",
       "      <th>solddate</th>\n",
       "      <th>soldprice</th>\n",
       "      <th>latitude</th>\n",
       "      <th>longitude</th>\n",
       "    </tr>\n",
       "  </thead>\n",
       "  <tbody>\n",
       "    <tr>\n",
       "      <th>0</th>\n",
       "      <td>M2N6X5</td>\n",
       "      <td>Ontario</td>\n",
       "      <td>Toronto</td>\n",
       "      <td>Toronto</td>\n",
       "      <td>Willowdale East</td>\n",
       "      <td>Sale</td>\n",
       "      <td>NaN</td>\n",
       "      <td>600-699</td>\n",
       "      <td>Condo</td>\n",
       "      <td>1</td>\n",
       "      <td>1.0</td>\n",
       "      <td>1.0</td>\n",
       "      <td>341.81</td>\n",
       "      <td>2015-04-07</td>\n",
       "      <td>NaN</td>\n",
       "      <td>NaN</td>\n",
       "      <td>NaN</td>\n",
       "      <td>NaN</td>\n",
       "    </tr>\n",
       "  </tbody>\n",
       "</table>\n",
       "</div>"
      ],
      "text/plain": [
       "  postcode province     city     area        community  type approxage  \\\n",
       "0   M2N6X5  Ontario  Toronto  Toronto  Willowdale East  Sale       NaN   \n",
       "\n",
       "  approxsqft propertynew  bedroomstotal  kitchens  washrooms  maintenancefee  \\\n",
       "0    600-699       Condo              1       1.0        1.0          341.81   \n",
       "\n",
       "    entrydate solddate  soldprice  latitude  longitude  \n",
       "0  2015-04-07      NaN        NaN       NaN        NaN  "
      ]
     },
     "execution_count": 44,
     "metadata": {},
     "output_type": "execute_result"
    }
   ],
   "source": [
    "df.head(1)"
   ]
  },
  {
   "cell_type": "markdown",
   "metadata": {},
   "source": [
    "## Outlier detection for Continious Numerical Variable"
   ]
  },
  {
   "cell_type": "code",
   "execution_count": 45,
   "metadata": {},
   "outputs": [
    {
     "data": {
      "image/png": "[encoded data removed]",
      "text/plain": [
       "<Figure size 432x288 with 1 Axes>"
      ]
     },
     "metadata": {
      "needs_background": "light"
     },
     "output_type": "display_data"
    },
    {
     "data": {
      "image/png": "[encoded data removed]",
      "text/plain": [
       "<Figure size 432x288 with 1 Axes>"
      ]
     },
     "metadata": {
      "needs_background": "light"
     },
     "output_type": "display_data"
    }
   ],
   "source": [
    "# making boxplots to visualise outliers in the continuous variables \n",
    "\n",
    "def find_outliers(df, var):\n",
    "    df = df.copy()\n",
    "    \n",
    "    # log does not take negative values or zero,so taking normal \n",
    "    #value for those vars(e.g.maintenancefee)\n",
    "    if 0 in df[var].unique():\n",
    "        df[var] = df[var]\n",
    "        df.boxplot(column=var)\n",
    "        plt.title(var)\n",
    "        plt.ylabel(var)\n",
    "        plt.show()\n",
    "    else:\n",
    "        df[var] = np.log(df[var])\n",
    "        df.boxplot(column=var)\n",
    "        plt.title(var)\n",
    "        plt.ylabel(var)\n",
    "        plt.show()\n",
    "    \n",
    "for var in cont_vars:\n",
    "    find_outliers(df, var)"
   ]
  },
  {
   "cell_type": "code",
   "execution_count": 46,
   "metadata": {},
   "outputs": [],
   "source": [
    "# good numbers of outliers can be seen for each variable "
   ]
  },
  {
   "cell_type": "code",
   "execution_count": 47,
   "metadata": {},
   "outputs": [],
   "source": [
    "#  sns does not take var with NaN so creating another df i.e. df1 just for the sake of plotting \n",
    "#and wiping out NaNs"
   ]
  },
  {
   "cell_type": "code",
   "execution_count": 48,
   "metadata": {},
   "outputs": [],
   "source": [
    "df1=df[(df['soldprice'].isnull()==False) & (df['maintenancefee'].isnull()==False)]"
   ]
  },
  {
   "cell_type": "code",
   "execution_count": 49,
   "metadata": {},
   "outputs": [],
   "source": [
    "def diagnostic_plots_outliers(df, variable):\n",
    "\n",
    "    df = df.copy()\n",
    "    \n",
    "    # log does not take negative values and zero\n",
    "    if 0 in df[variable].unique():\n",
    "        #df[variable]=df[variable]\n",
    "        pass\n",
    "    else:\n",
    "        # log transform the variable\n",
    "        df[variable] = np.log(df[variable])\n",
    "\n",
    "    # defining figure size\n",
    "    plt.figure(figsize=(16, 4))\n",
    "\n",
    "    # histogram\n",
    "    plt.subplot(1, 3, 1)\n",
    "    sns.distplot(df[variable], bins=30)\n",
    "    plt.title('Histogram')\n",
    "    \n",
    "    \n",
    "    # Q-Q plot\n",
    "    plt.subplot(1, 3, 2)\n",
    "    stats.probplot(df[variable], dist=\"norm\", plot=pylab)\n",
    "    plt.ylabel('RM quantiles')   \n",
    "    \n",
    "\n",
    "    # boxplot\n",
    "    plt.subplot(1, 3, 3)\n",
    "    sns.boxplot(y=df[variable])\n",
    "    plt.title('Boxplot')\n",
    "\n",
    "    plt.show()"
   ]
  },
  {
   "cell_type": "code",
   "execution_count": 50,
   "metadata": {},
   "outputs": [
    {
     "name": "stderr",
     "output_type": "stream",
     "text": [
      "/Users/parijatbandyopadhyay/anaconda3/lib/python3.7/site-packages/scipy/stats/stats.py:1713: FutureWarning: Using a non-tuple sequence for multidimensional indexing is deprecated; use `arr[tuple(seq)]` instead of `arr[seq]`. In the future this will be interpreted as an array index, `arr[np.array(seq)]`, which will result either in an error or a different result.\n",
      "  return np.add.reduce(sorted[indexer] * weights, axis=axis) / sumval\n"
     ]
    },
    {
     "data": {
      "image/png": "[encoded data removed]",
      "text/plain": [
       "<Figure size 1152x288 with 3 Axes>"
      ]
     },
     "metadata": {
      "needs_background": "light"
     },
     "output_type": "display_data"
    },
    {
     "data": {
      "image/png": "[encoded data removed]",
      "text/plain": [
       "<Figure size 1152x288 with 3 Axes>"
      ]
     },
     "metadata": {
      "needs_background": "light"
     },
     "output_type": "display_data"
    }
   ],
   "source": [
    "for var in cont_vars:\n",
    "    diagnostic_plots_outliers(df1, var)"
   ]
  },
  {
   "cell_type": "markdown",
   "metadata": {},
   "source": [
    "# Exploring Categorical Variables"
   ]
  },
  {
   "cell_type": "code",
   "execution_count": 51,
   "metadata": {},
   "outputs": [
    {
     "name": "stdout",
     "output_type": "stream",
     "text": [
      "Number of categorical variables:  11\n"
     ]
    }
   ],
   "source": [
    "### Categorical variables\n",
    "\n",
    "cat_vars = [var for var in df.columns if df[var].dtypes=='O']\n",
    "\n",
    "print('Number of categorical variables: ', len(cat_vars))"
   ]
  },
  {
   "cell_type": "code",
   "execution_count": 52,
   "metadata": {},
   "outputs": [
    {
     "data": {
      "text/html": [
       "<div>\n",
       "<style scoped>\n",
       "    .dataframe tbody tr th:only-of-type {\n",
       "        vertical-align: middle;\n",
       "    }\n",
       "\n",
       "    .dataframe tbody tr th {\n",
       "        vertical-align: top;\n",
       "    }\n",
       "\n",
       "    .dataframe thead th {\n",
       "        text-align: right;\n",
       "    }\n",
       "</style>\n",
       "<table border=\"1\" class=\"dataframe\">\n",
       "  <thead>\n",
       "    <tr style=\"text-align: right;\">\n",
       "      <th></th>\n",
       "      <th>postcode</th>\n",
       "      <th>province</th>\n",
       "      <th>city</th>\n",
       "      <th>area</th>\n",
       "      <th>community</th>\n",
       "      <th>type</th>\n",
       "      <th>approxage</th>\n",
       "      <th>approxsqft</th>\n",
       "      <th>propertynew</th>\n",
       "      <th>entrydate</th>\n",
       "      <th>solddate</th>\n",
       "    </tr>\n",
       "  </thead>\n",
       "  <tbody>\n",
       "    <tr>\n",
       "      <th>0</th>\n",
       "      <td>M2N6X5</td>\n",
       "      <td>Ontario</td>\n",
       "      <td>Toronto</td>\n",
       "      <td>Toronto</td>\n",
       "      <td>Willowdale East</td>\n",
       "      <td>Sale</td>\n",
       "      <td>NaN</td>\n",
       "      <td>600-699</td>\n",
       "      <td>Condo</td>\n",
       "      <td>2015-04-07</td>\n",
       "      <td>NaN</td>\n",
       "    </tr>\n",
       "  </tbody>\n",
       "</table>\n",
       "</div>"
      ],
      "text/plain": [
       "  postcode province     city     area        community  type approxage  \\\n",
       "0   M2N6X5  Ontario  Toronto  Toronto  Willowdale East  Sale       NaN   \n",
       "\n",
       "  approxsqft propertynew   entrydate solddate  \n",
       "0    600-699       Condo  2015-04-07      NaN  "
      ]
     },
     "execution_count": 52,
     "metadata": {},
     "output_type": "execute_result"
    }
   ],
   "source": [
    "df[cat_vars].head(1)"
   ]
  },
  {
   "cell_type": "markdown",
   "metadata": {},
   "source": [
    "# Time Variables "
   ]
  },
  {
   "cell_type": "code",
   "execution_count": 53,
   "metadata": {},
   "outputs": [
    {
     "data": {
      "text/plain": [
       "['entrydate', 'solddate']"
      ]
     },
     "execution_count": 53,
     "metadata": {},
     "output_type": "execute_result"
    }
   ],
   "source": [
    "time_vars = [var for var in cat_vars if 'date' in var]\n",
    "\n",
    "time_vars"
   ]
  },
  {
   "cell_type": "code",
   "execution_count": 54,
   "metadata": {},
   "outputs": [
    {
     "data": {
      "text/plain": [
       "(448730, 18)"
      ]
     },
     "execution_count": 54,
     "metadata": {},
     "output_type": "execute_result"
    }
   ],
   "source": [
    "df.shape"
   ]
  },
  {
   "cell_type": "markdown",
   "metadata": {},
   "source": [
    "## Cleaning for time variables"
   ]
  },
  {
   "cell_type": "code",
   "execution_count": 55,
   "metadata": {},
   "outputs": [],
   "source": [
    "df= df[df['solddate'].isnull()==False] \n",
    "# Imputation is not possible for time variables so eliminating all NaNs in solddate"
   ]
  },
  {
   "cell_type": "code",
   "execution_count": 56,
   "metadata": {},
   "outputs": [],
   "source": [
    "df['YM']=pd.to_datetime(df['solddate'], format='%Y-%m-%d').dt.to_period('M').astype(str) \n",
    "\n",
    "# Feature creation: YM , for sorting purpose later"
   ]
  },
  {
   "cell_type": "code",
   "execution_count": 57,
   "metadata": {},
   "outputs": [
    {
     "data": {
      "text/html": [
       "<div>\n",
       "<style scoped>\n",
       "    .dataframe tbody tr th:only-of-type {\n",
       "        vertical-align: middle;\n",
       "    }\n",
       "\n",
       "    .dataframe tbody tr th {\n",
       "        vertical-align: top;\n",
       "    }\n",
       "\n",
       "    .dataframe thead th {\n",
       "        text-align: right;\n",
       "    }\n",
       "</style>\n",
       "<table border=\"1\" class=\"dataframe\">\n",
       "  <thead>\n",
       "    <tr style=\"text-align: right;\">\n",
       "      <th></th>\n",
       "      <th>postcode</th>\n",
       "      <th>province</th>\n",
       "      <th>city</th>\n",
       "      <th>area</th>\n",
       "      <th>community</th>\n",
       "      <th>type</th>\n",
       "      <th>approxage</th>\n",
       "      <th>approxsqft</th>\n",
       "      <th>propertynew</th>\n",
       "      <th>bedroomstotal</th>\n",
       "      <th>kitchens</th>\n",
       "      <th>washrooms</th>\n",
       "      <th>maintenancefee</th>\n",
       "      <th>entrydate</th>\n",
       "      <th>solddate</th>\n",
       "      <th>soldprice</th>\n",
       "      <th>latitude</th>\n",
       "      <th>longitude</th>\n",
       "      <th>YM</th>\n",
       "    </tr>\n",
       "  </thead>\n",
       "  <tbody>\n",
       "  </tbody>\n",
       "</table>\n",
       "</div>"
      ],
      "text/plain": [
       "Empty DataFrame\n",
       "Columns: [postcode, province, city, area, community, type, approxage, approxsqft, propertynew, bedroomstotal, kitchens, washrooms, maintenancefee, entrydate, solddate, soldprice, latitude, longitude, YM]\n",
       "Index: []"
      ]
     },
     "execution_count": 57,
     "metadata": {},
     "output_type": "execute_result"
    }
   ],
   "source": [
    "df[df.solddate.isnull()==True].head(3)"
   ]
  },
  {
   "cell_type": "code",
   "execution_count": 58,
   "metadata": {},
   "outputs": [],
   "source": [
    " listYearMonth = df.sort_values(['YM'])['YM'].unique() # sorting based on YM"
   ]
  },
  {
   "cell_type": "code",
   "execution_count": 59,
   "metadata": {},
   "outputs": [
    {
     "data": {
      "text/plain": [
       "array(['2003-10', '2015-09', '2015-10', '2015-11', '2015-12', '2016-01',\n",
       "       '2016-02', '2016-03', '2016-04', '2016-05', '2016-06', '2016-07',\n",
       "       '2016-08', '2016-09', '2016-10', '2016-11', '2016-12', '2017-01',\n",
       "       '2017-02', '2017-03', '2017-04', '2017-05', '2017-06', '2017-07',\n",
       "       '2017-08', '2017-09', '2017-10', '2017-11', '2017-12', '2018-01',\n",
       "       '2018-02', '2018-03', '2018-04', '2018-05', '2018-06'],\n",
       "      dtype=object)"
      ]
     },
     "execution_count": 59,
     "metadata": {},
     "output_type": "execute_result"
    }
   ],
   "source": [
    "listYearMonth"
   ]
  },
  {
   "cell_type": "code",
   "execution_count": 60,
   "metadata": {},
   "outputs": [],
   "source": [
    "TrainMonth= listYearMonth[-6:] # taking only last 6 months data based on 'solddate'"
   ]
  },
  {
   "cell_type": "code",
   "execution_count": 61,
   "metadata": {},
   "outputs": [
    {
     "data": {
      "text/plain": [
       "array(['2018-01', '2018-02', '2018-03', '2018-04', '2018-05', '2018-06'],\n",
       "      dtype=object)"
      ]
     },
     "execution_count": 61,
     "metadata": {},
     "output_type": "execute_result"
    }
   ],
   "source": [
    "TrainMonth"
   ]
  },
  {
   "cell_type": "code",
   "execution_count": 62,
   "metadata": {},
   "outputs": [],
   "source": [
    "df = df.loc[df['YM'].isin(TrainMonth)] # filtering df based on last 6 months and based on solddate"
   ]
  },
  {
   "cell_type": "code",
   "execution_count": 63,
   "metadata": {},
   "outputs": [
    {
     "data": {
      "text/html": [
       "<div>\n",
       "<style scoped>\n",
       "    .dataframe tbody tr th:only-of-type {\n",
       "        vertical-align: middle;\n",
       "    }\n",
       "\n",
       "    .dataframe tbody tr th {\n",
       "        vertical-align: top;\n",
       "    }\n",
       "\n",
       "    .dataframe thead th {\n",
       "        text-align: right;\n",
       "    }\n",
       "</style>\n",
       "<table border=\"1\" class=\"dataframe\">\n",
       "  <thead>\n",
       "    <tr style=\"text-align: right;\">\n",
       "      <th></th>\n",
       "      <th>postcode</th>\n",
       "      <th>province</th>\n",
       "      <th>city</th>\n",
       "      <th>area</th>\n",
       "      <th>community</th>\n",
       "      <th>type</th>\n",
       "      <th>approxage</th>\n",
       "      <th>approxsqft</th>\n",
       "      <th>propertynew</th>\n",
       "      <th>bedroomstotal</th>\n",
       "      <th>kitchens</th>\n",
       "      <th>washrooms</th>\n",
       "      <th>maintenancefee</th>\n",
       "      <th>entrydate</th>\n",
       "      <th>solddate</th>\n",
       "      <th>soldprice</th>\n",
       "      <th>latitude</th>\n",
       "      <th>longitude</th>\n",
       "      <th>YM</th>\n",
       "    </tr>\n",
       "  </thead>\n",
       "  <tbody>\n",
       "    <tr>\n",
       "      <th>116274</th>\n",
       "      <td>M5V0C4</td>\n",
       "      <td>Ontario</td>\n",
       "      <td>Toronto</td>\n",
       "      <td>Toronto</td>\n",
       "      <td>Waterfront Communities C1</td>\n",
       "      <td>Sale</td>\n",
       "      <td>0-5</td>\n",
       "      <td>900-999</td>\n",
       "      <td>Condo</td>\n",
       "      <td>3</td>\n",
       "      <td>1.0</td>\n",
       "      <td>2.0</td>\n",
       "      <td>536.53</td>\n",
       "      <td>2017-07-27</td>\n",
       "      <td>2018-03-09</td>\n",
       "      <td>880000.0</td>\n",
       "      <td>43.646</td>\n",
       "      <td>-79.3899</td>\n",
       "      <td>2018-03</td>\n",
       "    </tr>\n",
       "  </tbody>\n",
       "</table>\n",
       "</div>"
      ],
      "text/plain": [
       "       postcode province     city     area                  community  type  \\\n",
       "116274   M5V0C4  Ontario  Toronto  Toronto  Waterfront Communities C1  Sale   \n",
       "\n",
       "       approxage approxsqft propertynew  bedroomstotal  kitchens  washrooms  \\\n",
       "116274       0-5    900-999       Condo              3       1.0        2.0   \n",
       "\n",
       "        maintenancefee   entrydate    solddate  soldprice  latitude  \\\n",
       "116274          536.53  2017-07-27  2018-03-09   880000.0    43.646   \n",
       "\n",
       "        longitude       YM  \n",
       "116274   -79.3899  2018-03  "
      ]
     },
     "execution_count": 63,
     "metadata": {},
     "output_type": "execute_result"
    }
   ],
   "source": [
    "df.head(1)"
   ]
  },
  {
   "cell_type": "code",
   "execution_count": 64,
   "metadata": {},
   "outputs": [
    {
     "data": {
      "text/plain": [
       "(39611, 19)"
      ]
     },
     "execution_count": 64,
     "metadata": {},
     "output_type": "execute_result"
    }
   ],
   "source": [
    "df.shape"
   ]
  },
  {
   "cell_type": "code",
   "execution_count": 65,
   "metadata": {},
   "outputs": [],
   "source": [
    "    df['lifeofad'] = (pd.to_datetime(df['solddate'],format='%Y-%m-%d') - pd.to_datetime(df['entrydate'],format='%Y-%m-%d')).dt.days\n",
    "    \n",
    "    # Feature Creation: df['lifeofad'] = df['solddate'] - df['entrydate'] \n",
    "    # to take the effect of time\n",
    "    \n",
    "    df=df[df['lifeofad']<=180] \n",
    "    \n",
    "    # Further taking only ADs that lasted for less than or equal to 180 days\n",
    "    #i.e propery got sold within 6 months of entry\n"
   ]
  },
  {
   "cell_type": "code",
   "execution_count": 66,
   "metadata": {},
   "outputs": [
    {
     "data": {
      "text/html": [
       "<div>\n",
       "<style scoped>\n",
       "    .dataframe tbody tr th:only-of-type {\n",
       "        vertical-align: middle;\n",
       "    }\n",
       "\n",
       "    .dataframe tbody tr th {\n",
       "        vertical-align: top;\n",
       "    }\n",
       "\n",
       "    .dataframe thead th {\n",
       "        text-align: right;\n",
       "    }\n",
       "</style>\n",
       "<table border=\"1\" class=\"dataframe\">\n",
       "  <thead>\n",
       "    <tr style=\"text-align: right;\">\n",
       "      <th></th>\n",
       "      <th>postcode</th>\n",
       "      <th>province</th>\n",
       "      <th>city</th>\n",
       "      <th>area</th>\n",
       "      <th>community</th>\n",
       "      <th>type</th>\n",
       "      <th>approxage</th>\n",
       "      <th>approxsqft</th>\n",
       "      <th>propertynew</th>\n",
       "      <th>bedroomstotal</th>\n",
       "      <th>kitchens</th>\n",
       "      <th>washrooms</th>\n",
       "      <th>maintenancefee</th>\n",
       "      <th>entrydate</th>\n",
       "      <th>solddate</th>\n",
       "      <th>soldprice</th>\n",
       "      <th>latitude</th>\n",
       "      <th>longitude</th>\n",
       "      <th>YM</th>\n",
       "      <th>lifeofad</th>\n",
       "    </tr>\n",
       "  </thead>\n",
       "  <tbody>\n",
       "    <tr>\n",
       "      <th>122817</th>\n",
       "      <td>M2P1S4</td>\n",
       "      <td>Ontario</td>\n",
       "      <td>Toronto</td>\n",
       "      <td>Toronto</td>\n",
       "      <td>St. Andrew-Windfields</td>\n",
       "      <td>Sale</td>\n",
       "      <td>NaN</td>\n",
       "      <td>3500-5000</td>\n",
       "      <td>Detached</td>\n",
       "      <td>5</td>\n",
       "      <td>1.0</td>\n",
       "      <td>6.0</td>\n",
       "      <td>NaN</td>\n",
       "      <td>2017-09-07</td>\n",
       "      <td>2018-01-29</td>\n",
       "      <td>3250000.0</td>\n",
       "      <td>43.7568</td>\n",
       "      <td>-79.4012</td>\n",
       "      <td>2018-01</td>\n",
       "      <td>144</td>\n",
       "    </tr>\n",
       "  </tbody>\n",
       "</table>\n",
       "</div>"
      ],
      "text/plain": [
       "       postcode province     city     area              community  type  \\\n",
       "122817   M2P1S4  Ontario  Toronto  Toronto  St. Andrew-Windfields  Sale   \n",
       "\n",
       "       approxage approxsqft propertynew  bedroomstotal  kitchens  washrooms  \\\n",
       "122817       NaN  3500-5000    Detached              5       1.0        6.0   \n",
       "\n",
       "        maintenancefee   entrydate    solddate  soldprice  latitude  \\\n",
       "122817             NaN  2017-09-07  2018-01-29  3250000.0   43.7568   \n",
       "\n",
       "        longitude       YM  lifeofad  \n",
       "122817   -79.4012  2018-01       144  "
      ]
     },
     "execution_count": 66,
     "metadata": {},
     "output_type": "execute_result"
    }
   ],
   "source": [
    "df.head(1)"
   ]
  },
  {
   "cell_type": "code",
   "execution_count": 67,
   "metadata": {},
   "outputs": [
    {
     "data": {
      "text/plain": [
       "(39551, 20)"
      ]
     },
     "execution_count": 67,
     "metadata": {},
     "output_type": "execute_result"
    }
   ],
   "source": [
    "df.shape # not much loss of records"
   ]
  },
  {
   "cell_type": "code",
   "execution_count": 68,
   "metadata": {},
   "outputs": [],
   "source": [
    "### Plotting time vs sale price"
   ]
  },
  {
   "cell_type": "code",
   "execution_count": 69,
   "metadata": {},
   "outputs": [
    {
     "data": {
      "image/png": "[encoded data removed]",
      "text/plain": [
       "<Figure size 432x288 with 1 Axes>"
      ]
     },
     "metadata": {
      "needs_background": "light"
     },
     "output_type": "display_data"
    }
   ],
   "source": [
    "plt.scatter(df['lifeofad'], df['soldprice'])\n",
    "plt.ylabel('SalePrice')\n",
    "plt.xlabel('lifeofad')\n",
    "plt.show()\n",
    "\n"
   ]
  },
  {
   "cell_type": "code",
   "execution_count": 70,
   "metadata": {},
   "outputs": [
    {
     "data": {
      "text/plain": [
       "Text(0.5, 1.0, 'Change in House price with ADLife')"
      ]
     },
     "execution_count": 70,
     "metadata": {},
     "output_type": "execute_result"
    },
    {
     "data": {
      "image/png": "[encoded data removed]",
      "text/plain": [
       "<Figure size 432x288 with 1 Axes>"
      ]
     },
     "metadata": {
      "needs_background": "light"
     },
     "output_type": "display_data"
    }
   ],
   "source": [
    "df.groupby('lifeofad')['soldprice'].median().plot()\n",
    "plt.ylabel('Median House Price')\n",
    "plt.title('Change in House price with ADLife')"
   ]
  },
  {
   "cell_type": "markdown",
   "metadata": {},
   "source": [
    "# Exploring Categorical Variables (Continued)"
   ]
  },
  {
   "cell_type": "code",
   "execution_count": 71,
   "metadata": {},
   "outputs": [],
   "source": [
    "cat_vars=[x for x in cat_vars if x not in time_vars]"
   ]
  },
  {
   "cell_type": "code",
   "execution_count": 72,
   "metadata": {},
   "outputs": [
    {
     "data": {
      "text/html": [
       "<div>\n",
       "<style scoped>\n",
       "    .dataframe tbody tr th:only-of-type {\n",
       "        vertical-align: middle;\n",
       "    }\n",
       "\n",
       "    .dataframe tbody tr th {\n",
       "        vertical-align: top;\n",
       "    }\n",
       "\n",
       "    .dataframe thead th {\n",
       "        text-align: right;\n",
       "    }\n",
       "</style>\n",
       "<table border=\"1\" class=\"dataframe\">\n",
       "  <thead>\n",
       "    <tr style=\"text-align: right;\">\n",
       "      <th></th>\n",
       "      <th>postcode</th>\n",
       "      <th>province</th>\n",
       "      <th>city</th>\n",
       "      <th>area</th>\n",
       "      <th>community</th>\n",
       "      <th>type</th>\n",
       "      <th>approxage</th>\n",
       "      <th>approxsqft</th>\n",
       "      <th>propertynew</th>\n",
       "    </tr>\n",
       "  </thead>\n",
       "  <tbody>\n",
       "    <tr>\n",
       "      <th>122817</th>\n",
       "      <td>M2P1S4</td>\n",
       "      <td>Ontario</td>\n",
       "      <td>Toronto</td>\n",
       "      <td>Toronto</td>\n",
       "      <td>St. Andrew-Windfields</td>\n",
       "      <td>Sale</td>\n",
       "      <td>NaN</td>\n",
       "      <td>3500-5000</td>\n",
       "      <td>Detached</td>\n",
       "    </tr>\n",
       "  </tbody>\n",
       "</table>\n",
       "</div>"
      ],
      "text/plain": [
       "       postcode province     city     area              community  type  \\\n",
       "122817   M2P1S4  Ontario  Toronto  Toronto  St. Andrew-Windfields  Sale   \n",
       "\n",
       "       approxage approxsqft propertynew  \n",
       "122817       NaN  3500-5000    Detached  "
      ]
     },
     "execution_count": 72,
     "metadata": {},
     "output_type": "execute_result"
    }
   ],
   "source": [
    "df[cat_vars].head(1)"
   ]
  },
  {
   "cell_type": "code",
   "execution_count": 73,
   "metadata": {},
   "outputs": [
    {
     "data": {
      "text/plain": [
       "0-5      4682\n",
       "6-15     2860\n",
       "16-30    2845\n",
       "31-50    2106\n",
       "51-99    1399\n",
       "New      1130\n",
       "6-10     1084\n",
       "11-15     643\n",
       "100+      381\n",
       "Name: approxage, dtype: int64"
      ]
     },
     "execution_count": 73,
     "metadata": {},
     "output_type": "execute_result"
    }
   ],
   "source": [
    "df['approxage'].value_counts()"
   ]
  },
  {
   "cell_type": "code",
   "execution_count": 74,
   "metadata": {},
   "outputs": [
    {
     "data": {
      "text/plain": [
       "1500-2000    3537\n",
       "2000-2500    2673\n",
       "1000-1199    2364\n",
       "600-699      2344\n",
       "1200-1399    1957\n",
       "2500-3000    1843\n",
       "1100-1500    1809\n",
       "700-799      1765\n",
       "800-899      1457\n",
       "900-999      1423\n",
       "500-599      1414\n",
       "3000-3500     993\n",
       "1400-1599     918\n",
       "3500-5000     653\n",
       "0-499         468\n",
       "1600-1799     432\n",
       "700-1100      359\n",
       "1800-1999     227\n",
       "2000-2249     139\n",
       "5000+         126\n",
       "2250-2499      58\n",
       "2500-2749      29\n",
       "2750-2999      17\n",
       "3000-3249      10\n",
       "< 700           9\n",
       "3250-3499       8\n",
       "3500-3749       5\n",
       "500-699         3\n",
       "900-1099        3\n",
       "4250-4499       3\n",
       "4000-4249       2\n",
       "3750-3999       2\n",
       "1300-1499       2\n",
       "1100-1299       2\n",
       "700-899         1\n",
       "Name: approxsqft, dtype: int64"
      ]
     },
     "execution_count": 74,
     "metadata": {},
     "output_type": "execute_result"
    }
   ],
   "source": [
    "df['approxsqft'].value_counts()"
   ]
  },
  {
   "cell_type": "markdown",
   "metadata": {},
   "source": [
    "## Rare labels in Categorical Variable(fraction<0.01 of total no of records)"
   ]
  },
  {
   "cell_type": "code",
   "execution_count": 75,
   "metadata": {},
   "outputs": [
    {
     "name": "stdout",
     "output_type": "stream",
     "text": [
      "postcode\n",
      "L0A1E0    0.000025\n",
      "L0A1J0    0.000228\n",
      "L0B1A0    0.000177\n",
      "L0B1B0    0.000556\n",
      "L0B1C0    0.000051\n",
      "L0B1E0    0.000126\n",
      "L0B1J0    0.000354\n",
      "L0B1K0    0.000051\n",
      "L0B1L0    0.000126\n",
      "L0B1M0    0.000632\n",
      "L0C1A0    0.000202\n",
      "L0C1B0    0.000051\n",
      "L0C1C0    0.000051\n",
      "L0C1E0    0.000076\n",
      "L0C1G0    0.000152\n",
      "L0C1H0    0.000632\n",
      "L0C1L0    0.000152\n",
      "L0E1A0    0.000051\n",
      "L0E1E0    0.000607\n",
      "L0E1K0    0.000025\n",
      "L0E1L0    0.000480\n",
      "L0E1N0    0.001087\n",
      "L0E1P0    0.000025\n",
      "L0E1R0    0.001239\n",
      "L0E1S0    0.000556\n",
      "L0E1T0    0.000076\n",
      "L0G1E0    0.000025\n",
      "L0G1H0    0.000025\n",
      "L0G1K0    0.000025\n",
      "L0G1M0    0.001542\n",
      "            ...   \n",
      "M9W5V5    0.000025\n",
      "M9W5X7    0.000025\n",
      "M9W6A5    0.000455\n",
      "M9W6A6    0.000329\n",
      "M9W6A7    0.000152\n",
      "M9W6B9    0.000025\n",
      "M9W6G7    0.000025\n",
      "M9W6H1    0.000025\n",
      "M9W6S7    0.000025\n",
      "M9W6T4    0.000025\n",
      "M9W6W8    0.000025\n",
      "M9W6X8    0.000177\n",
      "M9W6Z3    0.000253\n",
      "M9W7B3    0.000025\n",
      "M9W7B8    0.000025\n",
      "M9W7B9    0.000025\n",
      "M9W7C9    0.000025\n",
      "M9W7E1    0.000025\n",
      "M9W7E2    0.000025\n",
      "M9W7E5    0.000025\n",
      "M9W7E6    0.000051\n",
      "M9W7J4    0.000506\n",
      "M9W7J5    0.000405\n",
      "M9W7J9    0.000076\n",
      "M9X1P9    0.000025\n",
      "N0B1H0    0.000025\n",
      "N0B2K0    0.000101\n",
      "N3B1B1    0.000025\n",
      "N4N7M6    0.000025\n",
      "P3E5L1    0.000025\n",
      "Name: soldprice, Length: 22461, dtype: float64\n",
      "\n",
      "Series([], Name: soldprice, dtype: float64)\n",
      "\n",
      "city\n",
      "Bradford West Gwillimbury    0.000101\n",
      "Brock                        0.002073\n",
      "East Gwillimbury             0.005689\n",
      "Essa                         0.000126\n",
      "Georgina                     0.008546\n",
      "Georgina Islands             0.000101\n",
      "Innisfil                     0.000076\n",
      "King                         0.003616\n",
      "Midland                      0.000076\n",
      "New Tecumseth                0.000202\n",
      "Orillia                      0.000051\n",
      "Scugog                       0.003034\n",
      "Tiny                         0.000025\n",
      "Uxbridge                     0.003793\n",
      "Wasaga Beach                 0.000051\n",
      "Whitchurch-Stouffville       0.006852\n",
      "Name: soldprice, dtype: float64\n",
      "\n",
      "Series([], Name: soldprice, dtype: float64)\n",
      "\n",
      "community\n",
      "400 East                            0.000354\n",
      "400 North                           0.000228\n",
      "400 West                            0.000506\n",
      "Acton                               0.001745\n",
      "Agincourt North                     0.002276\n",
      "Agincourt South-Malvern West        0.004147\n",
      "Aileen-Willowbrook                  0.001694\n",
      "Alcona                              0.000076\n",
      "Alderwood                           0.001618\n",
      "Allandale                           0.000759\n",
      "Allandale Centre                    0.000025\n",
      "Allandale Heights                   0.000354\n",
      "Alliance                            0.000025\n",
      "Alliston                            0.000076\n",
      "Alton                               0.002124\n",
      "Amberlea                            0.001795\n",
      "Angus                               0.000126\n",
      "Angus Glen                          0.000430\n",
      "Annex                               0.004981\n",
      "Appleby                             0.003843\n",
      "Applewood                           0.003818\n",
      "Ardagh                              0.002731\n",
      "Armitage                            0.000455\n",
      "Aurora Estates                      0.000303\n",
      "Aurora Grove                        0.000607\n",
      "Aurora Heights                      0.001062\n",
      "Aurora Highlands                    0.001947\n",
      "Aurora Village                      0.001643\n",
      "Avondale                            0.001517\n",
      "Baldwin                             0.000253\n",
      "                                      ...   \n",
      "Waterfront Communities C8           0.005436\n",
      "Wellington                          0.000556\n",
      "West Bayfield                       0.000784\n",
      "West Hill                           0.002807\n",
      "West Humber-Clairville              0.003565\n",
      "West Oak Trails                     0.005638\n",
      "West Shore                          0.001138\n",
      "West Woodbridge                     0.002225\n",
      "Westbrook                           0.001871\n",
      "Westgate                            0.001846\n",
      "Westminster-Branson                 0.002124\n",
      "Weston                              0.001719\n",
      "Weston-Pellam Park                  0.000910\n",
      "Wexford-Maryvale                    0.002882\n",
      "Williamsburg                        0.002225\n",
      "Willmont                            0.002705\n",
      "Willowdale West                     0.004197\n",
      "Willowridge-Martingrove-Richview    0.001669\n",
      "Windfields                          0.002174\n",
      "Wismer                              0.003742\n",
      "Woburn                              0.005487\n",
      "Woodbine Corridor                   0.001846\n",
      "Woodbine-Lumsden                    0.001669\n",
      "Woodland Hill                       0.001947\n",
      "Woodlands                           0.000278\n",
      "Wychwood                            0.001214\n",
      "Yonge-Eglinton                      0.001492\n",
      "Yonge-St. Clair                     0.002023\n",
      "York University Heights             0.002655\n",
      "Yorkdale-Glen Park                  0.003287\n",
      "Name: soldprice, Length: 492, dtype: float64\n",
      "\n",
      "Series([], Name: soldprice, dtype: float64)\n",
      "\n",
      "approxage\n",
      "100+    0.009633\n",
      "Name: soldprice, dtype: float64\n",
      "\n",
      "approxsqft\n",
      "1100-1299    0.000051\n",
      "1300-1499    0.000051\n",
      "1800-1999    0.005739\n",
      "2000-2249    0.003514\n",
      "2250-2499    0.001466\n",
      "2500-2749    0.000733\n",
      "2750-2999    0.000430\n",
      "3000-3249    0.000253\n",
      "3250-3499    0.000202\n",
      "3500-3749    0.000126\n",
      "3750-3999    0.000051\n",
      "4000-4249    0.000051\n",
      "4250-4499    0.000076\n",
      "500-699      0.000076\n",
      "5000+        0.003186\n",
      "700-1100     0.009077\n",
      "700-899      0.000025\n",
      "900-1099     0.000076\n",
      "< 700        0.000228\n",
      "Name: soldprice, dtype: float64\n",
      "\n",
      "Series([], Name: soldprice, dtype: float64)\n",
      "\n"
     ]
    }
   ],
   "source": [
    "def analyse_rare_labels(df, var, rare_perc):\n",
    "    df = df.copy()\n",
    "    tmp = df.groupby(var)['soldprice'].count() / len(df)\n",
    "    return tmp[tmp<rare_perc]\n",
    "\n",
    "for var in cat_vars:\n",
    "    print(analyse_rare_labels(df, var, 0.01))\n",
    "    print()"
   ]
  },
  {
   "cell_type": "code",
   "execution_count": 76,
   "metadata": {},
   "outputs": [],
   "source": [
    "cat_vars=['city','approxage','approxsqft','propertynew'] \n",
    "\n",
    "# choosing only variables that has effect on Sale Price and has Low Cardinality\n"
   ]
  },
  {
   "cell_type": "code",
   "execution_count": 77,
   "metadata": {},
   "outputs": [],
   "source": [
    "# cat vars and their realtion with soldprice"
   ]
  },
  {
   "cell_type": "code",
   "execution_count": 78,
   "metadata": {},
   "outputs": [
    {
     "data": {
      "image/png": "[encoded data removed]",
      "text/plain": [
       "<Figure size 432x288 with 1 Axes>"
      ]
     },
     "metadata": {
      "needs_background": "light"
     },
     "output_type": "display_data"
    },
    {
     "data": {
      "image/png": "[encoded data removed]",
      "text/plain": [
       "<Figure size 432x288 with 1 Axes>"
      ]
     },
     "metadata": {
      "needs_background": "light"
     },
     "output_type": "display_data"
    },
    {
     "data": {
      "image/png": "[encoded data removed]",
      "text/plain": [
       "<Figure size 432x288 with 1 Axes>"
      ]
     },
     "metadata": {
      "needs_background": "light"
     },
     "output_type": "display_data"
    },
    {
     "data": {
      "image/png": "[encoded data removed]",
      "text/plain": [
       "<Figure size 432x288 with 1 Axes>"
      ]
     },
     "metadata": {
      "needs_background": "light"
     },
     "output_type": "display_data"
    }
   ],
   "source": [
    "for var in cat_vars:\n",
    "    analyse_discrete(df, var)  # using same function for numerical discrete vars"
   ]
  },
  {
   "cell_type": "code",
   "execution_count": 79,
   "metadata": {},
   "outputs": [],
   "source": [
    "### Modifying Categorical Variable 'approxage' (Putting Similar logic like the rest)"
   ]
  },
  {
   "cell_type": "code",
   "execution_count": 80,
   "metadata": {},
   "outputs": [],
   "source": [
    "df.loc[df.approxage=='15-Nov','approxage']='11-15'"
   ]
  },
  {
   "cell_type": "code",
   "execution_count": 81,
   "metadata": {},
   "outputs": [],
   "source": [
    "df.loc[df.approxage=='15-Jun','approxage']='6-15'"
   ]
  },
  {
   "cell_type": "code",
   "execution_count": 82,
   "metadata": {},
   "outputs": [],
   "source": [
    "df.loc[df.approxage=='10-Jun','approxage']='6-10'"
   ]
  },
  {
   "cell_type": "code",
   "execution_count": 83,
   "metadata": {},
   "outputs": [
    {
     "data": {
      "text/plain": [
       "0-5      4682\n",
       "6-15     2860\n",
       "16-30    2845\n",
       "31-50    2106\n",
       "51-99    1399\n",
       "New      1130\n",
       "6-10     1084\n",
       "11-15     643\n",
       "100+      381\n",
       "Name: approxage, dtype: int64"
      ]
     },
     "execution_count": 83,
     "metadata": {},
     "output_type": "execute_result"
    }
   ],
   "source": [
    "df['approxage'].value_counts() # The labels under this category now looks fantastic!"
   ]
  },
  {
   "cell_type": "code",
   "execution_count": 84,
   "metadata": {},
   "outputs": [
    {
     "data": {
      "text/plain": [
       "(39551, 20)"
      ]
     },
     "execution_count": 84,
     "metadata": {},
     "output_type": "execute_result"
    }
   ],
   "source": [
    "df.shape"
   ]
  },
  {
   "cell_type": "code",
   "execution_count": 85,
   "metadata": {},
   "outputs": [
    {
     "data": {
      "text/html": [
       "<div>\n",
       "<style scoped>\n",
       "    .dataframe tbody tr th:only-of-type {\n",
       "        vertical-align: middle;\n",
       "    }\n",
       "\n",
       "    .dataframe tbody tr th {\n",
       "        vertical-align: top;\n",
       "    }\n",
       "\n",
       "    .dataframe thead th {\n",
       "        text-align: right;\n",
       "    }\n",
       "</style>\n",
       "<table border=\"1\" class=\"dataframe\">\n",
       "  <thead>\n",
       "    <tr style=\"text-align: right;\">\n",
       "      <th></th>\n",
       "      <th>postcode</th>\n",
       "      <th>province</th>\n",
       "      <th>city</th>\n",
       "      <th>area</th>\n",
       "      <th>community</th>\n",
       "      <th>type</th>\n",
       "      <th>approxage</th>\n",
       "      <th>approxsqft</th>\n",
       "      <th>propertynew</th>\n",
       "      <th>bedroomstotal</th>\n",
       "      <th>kitchens</th>\n",
       "      <th>washrooms</th>\n",
       "      <th>maintenancefee</th>\n",
       "      <th>entrydate</th>\n",
       "      <th>solddate</th>\n",
       "      <th>soldprice</th>\n",
       "      <th>latitude</th>\n",
       "      <th>longitude</th>\n",
       "      <th>YM</th>\n",
       "      <th>lifeofad</th>\n",
       "    </tr>\n",
       "  </thead>\n",
       "  <tbody>\n",
       "    <tr>\n",
       "      <th>122817</th>\n",
       "      <td>M2P1S4</td>\n",
       "      <td>Ontario</td>\n",
       "      <td>Toronto</td>\n",
       "      <td>Toronto</td>\n",
       "      <td>St. Andrew-Windfields</td>\n",
       "      <td>Sale</td>\n",
       "      <td>NaN</td>\n",
       "      <td>3500-5000</td>\n",
       "      <td>Detached</td>\n",
       "      <td>5</td>\n",
       "      <td>1.0</td>\n",
       "      <td>6.0</td>\n",
       "      <td>NaN</td>\n",
       "      <td>2017-09-07</td>\n",
       "      <td>2018-01-29</td>\n",
       "      <td>3250000.0</td>\n",
       "      <td>43.7568</td>\n",
       "      <td>-79.4012</td>\n",
       "      <td>2018-01</td>\n",
       "      <td>144</td>\n",
       "    </tr>\n",
       "    <tr>\n",
       "      <th>124383</th>\n",
       "      <td>M5V0J9</td>\n",
       "      <td>Ontario</td>\n",
       "      <td>Toronto</td>\n",
       "      <td>Toronto</td>\n",
       "      <td>Waterfront Communities C1</td>\n",
       "      <td>Sale</td>\n",
       "      <td>0-5</td>\n",
       "      <td>600-699</td>\n",
       "      <td>Condo</td>\n",
       "      <td>2</td>\n",
       "      <td>1.0</td>\n",
       "      <td>1.0</td>\n",
       "      <td>497.58</td>\n",
       "      <td>2017-09-15</td>\n",
       "      <td>2018-01-05</td>\n",
       "      <td>490000.0</td>\n",
       "      <td>NaN</td>\n",
       "      <td>NaN</td>\n",
       "      <td>2018-01</td>\n",
       "      <td>112</td>\n",
       "    </tr>\n",
       "  </tbody>\n",
       "</table>\n",
       "</div>"
      ],
      "text/plain": [
       "       postcode province     city     area                  community  type  \\\n",
       "122817   M2P1S4  Ontario  Toronto  Toronto      St. Andrew-Windfields  Sale   \n",
       "124383   M5V0J9  Ontario  Toronto  Toronto  Waterfront Communities C1  Sale   \n",
       "\n",
       "       approxage approxsqft propertynew  bedroomstotal  kitchens  washrooms  \\\n",
       "122817       NaN  3500-5000    Detached              5       1.0        6.0   \n",
       "124383       0-5    600-699       Condo              2       1.0        1.0   \n",
       "\n",
       "        maintenancefee   entrydate    solddate  soldprice  latitude  \\\n",
       "122817             NaN  2017-09-07  2018-01-29  3250000.0   43.7568   \n",
       "124383          497.58  2017-09-15  2018-01-05   490000.0       NaN   \n",
       "\n",
       "        longitude       YM  lifeofad  \n",
       "122817   -79.4012  2018-01       144  \n",
       "124383        NaN  2018-01       112  "
      ]
     },
     "execution_count": 85,
     "metadata": {},
     "output_type": "execute_result"
    }
   ],
   "source": [
    "df.head(2)"
   ]
  },
  {
   "cell_type": "code",
   "execution_count": 86,
   "metadata": {},
   "outputs": [],
   "source": [
    "# dropping other unnecessary time vars "
   ]
  },
  {
   "cell_type": "code",
   "execution_count": 87,
   "metadata": {},
   "outputs": [],
   "source": [
    "df.drop(['entrydate','solddate','YM'],axis=1, inplace=True)"
   ]
  },
  {
   "cell_type": "code",
   "execution_count": 88,
   "metadata": {},
   "outputs": [
    {
     "data": {
      "text/plain": [
       "Index(['postcode', 'province', 'city', 'area', 'community', 'type',\n",
       "       'approxage', 'approxsqft', 'propertynew', 'bedroomstotal', 'kitchens',\n",
       "       'washrooms', 'maintenancefee', 'soldprice', 'latitude', 'longitude',\n",
       "       'lifeofad'],\n",
       "      dtype='object')"
      ]
     },
     "execution_count": 88,
     "metadata": {},
     "output_type": "execute_result"
    }
   ],
   "source": [
    "df.columns"
   ]
  },
  {
   "cell_type": "code",
   "execution_count": 89,
   "metadata": {},
   "outputs": [
    {
     "data": {
      "text/plain": [
       "postcode           object\n",
       "province           object\n",
       "city               object\n",
       "area               object\n",
       "community          object\n",
       "type               object\n",
       "approxage          object\n",
       "approxsqft         object\n",
       "propertynew        object\n",
       "bedroomstotal       int64\n",
       "kitchens          float64\n",
       "washrooms         float64\n",
       "maintenancefee    float64\n",
       "soldprice         float64\n",
       "latitude          float64\n",
       "longitude         float64\n",
       "lifeofad            int64\n",
       "dtype: object"
      ]
     },
     "execution_count": 89,
     "metadata": {},
     "output_type": "execute_result"
    }
   ],
   "source": [
    "df.dtypes"
   ]
  },
  {
   "cell_type": "code",
   "execution_count": 90,
   "metadata": {},
   "outputs": [
    {
     "data": {
      "text/html": [
       "<div>\n",
       "<style scoped>\n",
       "    .dataframe tbody tr th:only-of-type {\n",
       "        vertical-align: middle;\n",
       "    }\n",
       "\n",
       "    .dataframe tbody tr th {\n",
       "        vertical-align: top;\n",
       "    }\n",
       "\n",
       "    .dataframe thead th {\n",
       "        text-align: right;\n",
       "    }\n",
       "</style>\n",
       "<table border=\"1\" class=\"dataframe\">\n",
       "  <thead>\n",
       "    <tr style=\"text-align: right;\">\n",
       "      <th></th>\n",
       "      <th>postcode</th>\n",
       "      <th>province</th>\n",
       "      <th>city</th>\n",
       "      <th>area</th>\n",
       "      <th>community</th>\n",
       "      <th>type</th>\n",
       "      <th>approxage</th>\n",
       "      <th>approxsqft</th>\n",
       "      <th>propertynew</th>\n",
       "      <th>bedroomstotal</th>\n",
       "      <th>kitchens</th>\n",
       "      <th>washrooms</th>\n",
       "      <th>maintenancefee</th>\n",
       "      <th>soldprice</th>\n",
       "      <th>latitude</th>\n",
       "      <th>longitude</th>\n",
       "      <th>lifeofad</th>\n",
       "    </tr>\n",
       "  </thead>\n",
       "  <tbody>\n",
       "    <tr>\n",
       "      <th>122817</th>\n",
       "      <td>M2P1S4</td>\n",
       "      <td>Ontario</td>\n",
       "      <td>Toronto</td>\n",
       "      <td>Toronto</td>\n",
       "      <td>St. Andrew-Windfields</td>\n",
       "      <td>Sale</td>\n",
       "      <td>NaN</td>\n",
       "      <td>3500-5000</td>\n",
       "      <td>Detached</td>\n",
       "      <td>5</td>\n",
       "      <td>1.0</td>\n",
       "      <td>6.0</td>\n",
       "      <td>NaN</td>\n",
       "      <td>3250000.0</td>\n",
       "      <td>43.7568</td>\n",
       "      <td>-79.4012</td>\n",
       "      <td>144</td>\n",
       "    </tr>\n",
       "    <tr>\n",
       "      <th>124383</th>\n",
       "      <td>M5V0J9</td>\n",
       "      <td>Ontario</td>\n",
       "      <td>Toronto</td>\n",
       "      <td>Toronto</td>\n",
       "      <td>Waterfront Communities C1</td>\n",
       "      <td>Sale</td>\n",
       "      <td>0-5</td>\n",
       "      <td>600-699</td>\n",
       "      <td>Condo</td>\n",
       "      <td>2</td>\n",
       "      <td>1.0</td>\n",
       "      <td>1.0</td>\n",
       "      <td>497.58</td>\n",
       "      <td>490000.0</td>\n",
       "      <td>NaN</td>\n",
       "      <td>NaN</td>\n",
       "      <td>112</td>\n",
       "    </tr>\n",
       "  </tbody>\n",
       "</table>\n",
       "</div>"
      ],
      "text/plain": [
       "       postcode province     city     area                  community  type  \\\n",
       "122817   M2P1S4  Ontario  Toronto  Toronto      St. Andrew-Windfields  Sale   \n",
       "124383   M5V0J9  Ontario  Toronto  Toronto  Waterfront Communities C1  Sale   \n",
       "\n",
       "       approxage approxsqft propertynew  bedroomstotal  kitchens  washrooms  \\\n",
       "122817       NaN  3500-5000    Detached              5       1.0        6.0   \n",
       "124383       0-5    600-699       Condo              2       1.0        1.0   \n",
       "\n",
       "        maintenancefee  soldprice  latitude  longitude  lifeofad  \n",
       "122817             NaN  3250000.0   43.7568   -79.4012       144  \n",
       "124383          497.58   490000.0       NaN        NaN       112  "
      ]
     },
     "execution_count": 90,
     "metadata": {},
     "output_type": "execute_result"
    }
   ],
   "source": [
    "df.head(2)"
   ]
  },
  {
   "cell_type": "code",
   "execution_count": 91,
   "metadata": {},
   "outputs": [
    {
     "data": {
      "text/plain": [
       "(39551, 17)"
      ]
     },
     "execution_count": 91,
     "metadata": {},
     "output_type": "execute_result"
    }
   ],
   "source": [
    "df.shape"
   ]
  },
  {
   "cell_type": "code",
   "execution_count": 92,
   "metadata": {},
   "outputs": [],
   "source": [
    "# saving a copy of first-cut filtered data before doing feature engineering \n",
    "#and later adding env vars(discussing with Google for possible student discount)\n",
    "# the GeoCoding is cheaper but the NearBy search API is very costly"
   ]
  },
  {
   "cell_type": "code",
   "execution_count": 93,
   "metadata": {},
   "outputs": [],
   "source": [
    "df.to_csv('df_wo_env.csv',index=False) \n",
    "\n",
    "# Later random records will be used as Alien data to test the \n",
    "#prediction power of the reressor engine"
   ]
  },
  {
   "cell_type": "markdown",
   "metadata": {},
   "source": [
    "# 2.Feature Engineering"
   ]
  },
  {
   "cell_type": "markdown",
   "metadata": {},
   "source": [
    "## Separating into train-test data sets"
   ]
  },
  {
   "cell_type": "code",
   "execution_count": 94,
   "metadata": {},
   "outputs": [
    {
     "data": {
      "text/plain": [
       "((35595, 17), (3956, 17))"
      ]
     },
     "execution_count": 94,
     "metadata": {},
     "output_type": "execute_result"
    }
   ],
   "source": [
    "#separating into train and test data sets\n",
    "# SEED=0\n",
    "\n",
    "X_train, X_test, y_train, y_test = train_test_split(df, df.soldprice,\n",
    "                                                    test_size=0.1,\n",
    "                                                    random_state=0) # we are setting the seed here\n",
    "X_train.shape, X_test.shape"
   ]
  },
  {
   "cell_type": "markdown",
   "metadata": {},
   "source": [
    "# Missing Value Imputation"
   ]
  },
  {
   "cell_type": "markdown",
   "metadata": {},
   "source": [
    "## Categorical variables"
   ]
  },
  {
   "cell_type": "code",
   "execution_count": 95,
   "metadata": {},
   "outputs": [
    {
     "name": "stdout",
     "output_type": "stream",
     "text": [
      "approxage 0.567\n",
      "approxsqft 0.317\n"
     ]
    }
   ],
   "source": [
    "# making a list of the categorical variables that contain missing values\n",
    "vars_with_na = [var for var in df.columns if X_train[var].isnull().sum()>1 and X_train[var].dtypes=='O']\n",
    "\n",
    "# printing the variables name and the missing values(value*100 to get % value)\n",
    "for var in vars_with_na:\n",
    "    print(var, np.round(X_train[var].isnull().mean(), 3))"
   ]
  },
  {
   "cell_type": "code",
   "execution_count": 96,
   "metadata": {},
   "outputs": [
    {
     "data": {
      "text/plain": [
       "20183"
      ]
     },
     "execution_count": 96,
     "metadata": {},
     "output_type": "execute_result"
    }
   ],
   "source": [
    "X_train[X_train.approxage.isnull()==True].shape[0] # No of record loss if NaN is neglected"
   ]
  },
  {
   "cell_type": "code",
   "execution_count": 97,
   "metadata": {},
   "outputs": [],
   "source": [
    "# function to replace NANs in categorical variables\n",
    "def fill_categorical_na(df, var_list):\n",
    "    X = df.copy()\n",
    "    X[var_list] = df[var_list].fillna('Missing')  # introducing 'Missing' Category\n",
    "    return X"
   ]
  },
  {
   "cell_type": "code",
   "execution_count": 98,
   "metadata": {},
   "outputs": [
    {
     "data": {
      "text/plain": [
       "approxage     0\n",
       "approxsqft    0\n",
       "dtype: int64"
      ]
     },
     "execution_count": 98,
     "metadata": {},
     "output_type": "execute_result"
    }
   ],
   "source": [
    "# replacing missing values with new label: \"Missing\"\n",
    "X_train = fill_categorical_na(X_train, vars_with_na)\n",
    "X_test = fill_categorical_na(X_test, vars_with_na)\n",
    "\n",
    "# checking that no missing information exists in the engineered variables\n",
    "X_train[vars_with_na].isnull().sum()"
   ]
  },
  {
   "cell_type": "code",
   "execution_count": 99,
   "metadata": {},
   "outputs": [
    {
     "data": {
      "text/plain": [
       "[]"
      ]
     },
     "execution_count": 99,
     "metadata": {},
     "output_type": "execute_result"
    }
   ],
   "source": [
    "# checking that both train and test set does not contain null values in the engineered variables\n",
    "[vr for var in vars_with_na if X_train[var].isnull().sum()>0]"
   ]
  },
  {
   "cell_type": "code",
   "execution_count": 100,
   "metadata": {},
   "outputs": [
    {
     "data": {
      "text/plain": [
       "[]"
      ]
     },
     "execution_count": 100,
     "metadata": {},
     "output_type": "execute_result"
    }
   ],
   "source": [
    "[vr for var in vars_with_na if X_test[var].isnull().sum()>0]"
   ]
  },
  {
   "cell_type": "markdown",
   "metadata": {},
   "source": [
    "## Numerical variables "
   ]
  },
  {
   "cell_type": "code",
   "execution_count": 101,
   "metadata": {},
   "outputs": [
    {
     "name": "stdout",
     "output_type": "stream",
     "text": [
      "kitchens 0.002\n",
      "maintenancefee 0.619\n",
      "soldprice 0.0\n",
      "latitude 0.38\n",
      "longitude 0.38\n"
     ]
    }
   ],
   "source": [
    "# making a list of the numerical variables that contain missing values\n",
    "vars_with_na = [var for var in df.columns if X_train[var].isnull().sum()>1 and X_train[var].dtypes!='O']\n",
    "\n",
    "# printing the variable name and the missing values\n",
    "for var in vars_with_na:\n",
    "    print(var, np.round(X_train[var].isnull().mean(), 3))"
   ]
  },
  {
   "cell_type": "code",
   "execution_count": 102,
   "metadata": {},
   "outputs": [],
   "source": [
    "temp_vars=['latitude','longitude']"
   ]
  },
  {
   "cell_type": "code",
   "execution_count": 103,
   "metadata": {},
   "outputs": [],
   "source": [
    "vars_with_na =[ var for var in vars_with_na if var not in temp_vars  ] # discarding lat and longs"
   ]
  },
  {
   "cell_type": "code",
   "execution_count": 104,
   "metadata": {},
   "outputs": [
    {
     "data": {
      "text/plain": [
       "['kitchens', 'maintenancefee', 'soldprice']"
      ]
     },
     "execution_count": 104,
     "metadata": {},
     "output_type": "execute_result"
    }
   ],
   "source": [
    "vars_with_na"
   ]
  },
  {
   "cell_type": "markdown",
   "metadata": {},
   "source": [
    "### Discrete Variable "
   ]
  },
  {
   "cell_type": "code",
   "execution_count": 105,
   "metadata": {},
   "outputs": [],
   "source": [
    "d_vars=['kitchens','washrooms'] # washroom is taken forcefully to take care of zeros later"
   ]
  },
  {
   "cell_type": "code",
   "execution_count": 106,
   "metadata": {},
   "outputs": [
    {
     "data": {
      "text/plain": [
       "1.0"
      ]
     },
     "execution_count": 106,
     "metadata": {},
     "output_type": "execute_result"
    }
   ],
   "source": [
    "X_train.kitchens.median()"
   ]
  },
  {
   "cell_type": "code",
   "execution_count": 107,
   "metadata": {},
   "outputs": [
    {
     "data": {
      "text/plain": [
       "1.0    34535\n",
       "2.0      828\n",
       "3.0       84\n",
       "0.0       29\n",
       "4.0       20\n",
       "5.0        4\n",
       "6.0        3\n",
       "8.0        3\n",
       "9.0        2\n",
       "7.0        1\n",
       "Name: kitchens, dtype: int64"
      ]
     },
     "execution_count": 107,
     "metadata": {},
     "output_type": "execute_result"
    }
   ],
   "source": [
    "X_train.kitchens.value_counts()"
   ]
  },
  {
   "cell_type": "code",
   "execution_count": 108,
   "metadata": {},
   "outputs": [
    {
     "data": {
      "text/plain": [
       "2.0"
      ]
     },
     "execution_count": 108,
     "metadata": {},
     "output_type": "execute_result"
    }
   ],
   "source": [
    "X_train.washrooms.median()"
   ]
  },
  {
   "cell_type": "code",
   "execution_count": 109,
   "metadata": {},
   "outputs": [
    {
     "data": {
      "text/plain": [
       "2.0     12198\n",
       "3.0      8973\n",
       "1.0      6435\n",
       "4.0      6242\n",
       "5.0      1247\n",
       "6.0       285\n",
       "0.0       107\n",
       "7.0        65\n",
       "8.0        21\n",
       "9.0         9\n",
       "11.0        5\n",
       "10.0        4\n",
       "13.0        2\n",
       "15.0        1\n",
       "27.0        1\n",
       "Name: washrooms, dtype: int64"
      ]
     },
     "execution_count": 109,
     "metadata": {},
     "output_type": "execute_result"
    }
   ],
   "source": [
    "X_train.washrooms.value_counts()"
   ]
  },
  {
   "cell_type": "code",
   "execution_count": 110,
   "metadata": {},
   "outputs": [
    {
     "data": {
      "text/plain": [
       "kitchens     0\n",
       "washrooms    0\n",
       "dtype: int64"
      ]
     },
     "execution_count": 110,
     "metadata": {},
     "output_type": "execute_result"
    }
   ],
   "source": [
    "# replacing the missing values with modes\n",
    "for var in d_vars:\n",
    "    \n",
    "    # calculate the mode\n",
    "    mode_val = X_train[var].mode()[0]\n",
    "    \n",
    "    # train\n",
    "    X_train[var+'_na'] = np.where(X_train[var].isnull(), 1, 0) # replacing NaNs with Mode Value\n",
    "    X_train[var].fillna(mode_val, inplace=True)\n",
    "    \n",
    "    # test\n",
    "    X_test[var+'_na'] = np.where(X_test[var].isnull(), 1, 0) # replacing NaNs with Mode Value\n",
    "    X_test[var].fillna(mode_val, inplace=True)\n",
    "\n",
    "# check that we have no more missing values in the engineered variables\n",
    "X_train[d_vars].isnull().sum()"
   ]
  },
  {
   "cell_type": "code",
   "execution_count": 111,
   "metadata": {},
   "outputs": [
    {
     "data": {
      "text/plain": [
       "[]"
      ]
     },
     "execution_count": 111,
     "metadata": {},
     "output_type": "execute_result"
    }
   ],
   "source": [
    "# replacing Zeros with modes\n",
    "for var in d_vars:\n",
    "    \n",
    "    # calculate the mode\n",
    "    mode_val = X_train[var].mode()[0]   \n",
    "\n",
    "    \n",
    "    # train\n",
    "    X_train.loc[X_train[var]==0,var]=mode_val\n",
    "    \n",
    "    # test\n",
    "    X_test.loc[X_test[var]==0,var]=mode_val\n",
    "# checking that no more zero values in the engineered variables\n",
    "[vr for var in d_vars if X_train[X_train[var]==0].shape[0]]"
   ]
  },
  {
   "cell_type": "code",
   "execution_count": 112,
   "metadata": {},
   "outputs": [
    {
     "data": {
      "text/plain": [
       "[]"
      ]
     },
     "execution_count": 112,
     "metadata": {},
     "output_type": "execute_result"
    }
   ],
   "source": [
    "# checking for zero\n",
    "[vr for var in d_vars if X_test[X_test[var]==0].shape[0]]"
   ]
  },
  {
   "cell_type": "code",
   "execution_count": 113,
   "metadata": {},
   "outputs": [],
   "source": [
    "vars_with_na =[ var for var in vars_with_na if var not in d_vars  ] # getting only continious vars"
   ]
  },
  {
   "cell_type": "code",
   "execution_count": 114,
   "metadata": {},
   "outputs": [
    {
     "data": {
      "text/plain": [
       "['maintenancefee', 'soldprice']"
      ]
     },
     "execution_count": 114,
     "metadata": {},
     "output_type": "execute_result"
    }
   ],
   "source": [
    "vars_with_na"
   ]
  },
  {
   "cell_type": "markdown",
   "metadata": {},
   "source": [
    "### Continious variable"
   ]
  },
  {
   "cell_type": "code",
   "execution_count": 115,
   "metadata": {},
   "outputs": [
    {
     "data": {
      "text/plain": [
       "maintenancefee    0\n",
       "soldprice         0\n",
       "dtype: int64"
      ]
     },
     "execution_count": 115,
     "metadata": {},
     "output_type": "execute_result"
    }
   ],
   "source": [
    "# replacing the missing values with medians as both distributions are non-Gaussian\n",
    "for var in vars_with_na:\n",
    "    \n",
    "    # calculate the mode\n",
    "    median_val = X_train[var].median()\n",
    "    \n",
    "    # train\n",
    "    X_train[var+'_na'] = np.where(X_train[var].isnull(), 1, 0)\n",
    "    X_train[var].fillna(median_val, inplace=True)\n",
    "    \n",
    "    # test\n",
    "    X_test[var+'_na'] = np.where(X_test[var].isnull(), 1, 0)\n",
    "    X_test[var].fillna(median_val, inplace=True)\n",
    "\n",
    "# checking that no more missing values in the engineered variables\n",
    "X_train[vars_with_na].isnull().sum()"
   ]
  },
  {
   "cell_type": "code",
   "execution_count": 116,
   "metadata": {},
   "outputs": [
    {
     "data": {
      "text/plain": [
       "[]"
      ]
     },
     "execution_count": 116,
     "metadata": {},
     "output_type": "execute_result"
    }
   ],
   "source": [
    "# replacing the zeros with medians \n",
    "for var in vars_with_na:\n",
    "    \n",
    "    # calculate the mode\n",
    "    median_val = X_train[var].median()\n",
    "    \n",
    "    # train\n",
    "    X_train.loc[X_train[var]==0,var]=median_val\n",
    "    \n",
    "    # test\n",
    "    X_test.loc[X_test[var]==0,var]=median_val\n",
    "# checking that no more zero values in the engineered variables\n",
    "[vr for var in vars_with_na if X_train[X_train[var]==0].shape[0]]"
   ]
  },
  {
   "cell_type": "code",
   "execution_count": 117,
   "metadata": {},
   "outputs": [
    {
     "data": {
      "text/plain": [
       "[]"
      ]
     },
     "execution_count": 117,
     "metadata": {},
     "output_type": "execute_result"
    }
   ],
   "source": [
    "# checking that test set does not contain null values in the engineered variables\n",
    "[vr for var in vars_with_na if X_test[var].isnull().sum()>0]"
   ]
  },
  {
   "cell_type": "code",
   "execution_count": 118,
   "metadata": {},
   "outputs": [
    {
     "data": {
      "text/plain": [
       "[]"
      ]
     },
     "execution_count": 118,
     "metadata": {},
     "output_type": "execute_result"
    }
   ],
   "source": [
    "# checking for zero\n",
    "[vr for var in vars_with_na if X_test[X_test[var]==0].shape[0]]"
   ]
  },
  {
   "cell_type": "code",
   "execution_count": 119,
   "metadata": {},
   "outputs": [
    {
     "data": {
      "text/plain": [
       "0"
      ]
     },
     "execution_count": 119,
     "metadata": {},
     "output_type": "execute_result"
    }
   ],
   "source": [
    "df[df.lifeofad.isnull()==True].shape[0] # Recheckin no NaN in Temp Var"
   ]
  },
  {
   "cell_type": "markdown",
   "metadata": {},
   "source": [
    "# Handling Outliers in Categorical Variables by Rare Labels"
   ]
  },
  {
   "cell_type": "code",
   "execution_count": 120,
   "metadata": {},
   "outputs": [],
   "source": [
    "cat_vars=['city','approxage','approxsqft','propertynew']"
   ]
  },
  {
   "cell_type": "code",
   "execution_count": 121,
   "metadata": {},
   "outputs": [],
   "source": [
    "def find_frequent_labels(df, var, rare_perc):\n",
    "    # finding the labels that are shared by NOT more than a certain%(here 1%)\n",
    "    #of the records in the entire dataset i.e. df\n",
    "    df = df.copy()\n",
    "    tmp = df.groupby(var)['soldprice'].count() / len(df)\n",
    "    return tmp[tmp<rare_perc].index, tmp[tmp>rare_perc].index\n",
    "\n",
    "d={}\n",
    "for var in cat_vars:\n",
    "    rarevars,frequent_ls = find_frequent_labels(X_train, var, 0.01)\n",
    "    \n",
    "    if len(rarevars)!=0:\n",
    "        d[var]=rarevars.tolist()\n",
    "        \n",
    "    X_train[var] = np.where(X_train[var].isin(frequent_ls), X_train[var], 'Rare') # introducing Rare label\n",
    "    X_test[var] = np.where(X_test[var].isin(frequent_ls), X_test[var], 'Rare')"
   ]
  },
  {
   "cell_type": "code",
   "execution_count": 122,
   "metadata": {},
   "outputs": [],
   "source": [
    "#d # labels go under rare labels - need this for checking in web development "
   ]
  },
  {
   "cell_type": "code",
   "execution_count": 123,
   "metadata": {},
   "outputs": [
    {
     "data": {
      "text/plain": [
       "2730"
      ]
     },
     "execution_count": 123,
     "metadata": {},
     "output_type": "execute_result"
    }
   ],
   "source": [
    "X_train[(X_train.approxage=='Rare') | (X_train.approxsqft=='Rare') | (X_train.city=='Rare') ].shape[0]\n",
    "# of Rare labels"
   ]
  },
  {
   "cell_type": "markdown",
   "metadata": {},
   "source": [
    "# Encoding CategoricalVariables"
   ]
  },
  {
   "cell_type": "code",
   "execution_count": 124,
   "metadata": {},
   "outputs": [],
   "source": [
    "# this function will assign discrete values to the categorical variables, \n",
    "# so that the smaller value corresponds to the smaller mean of target( here soldprice)\n",
    "\n",
    "def replace_categories(train, test, var, target):\n",
    "    ordered_labels = train.groupby([var])[target].mean().sort_values().index\n",
    "    ordinal_label = {k:i for i, k in enumerate(ordered_labels, 0)} # to be pickled\n",
    "    train[var] = train[var].map(ordinal_label)\n",
    "    test[var] = test[var].map(ordinal_label)\n",
    "    return ordinal_label"
   ]
  },
  {
   "cell_type": "code",
   "execution_count": 125,
   "metadata": {},
   "outputs": [],
   "source": [
    "d1={}\n",
    "for var in cat_vars:\n",
    "    vals= replace_categories(X_train, X_test, var, 'soldprice')\n",
    "    d1[var]=vals"
   ]
  },
  {
   "cell_type": "code",
   "execution_count": 126,
   "metadata": {},
   "outputs": [
    {
     "data": {
      "text/plain": [
       "{'city': {'Barrie': 0,\n",
       "  'Oshawa': 1,\n",
       "  'Clarington': 2,\n",
       "  'Ajax': 3,\n",
       "  'Whitby': 4,\n",
       "  'Brampton': 5,\n",
       "  'Milton': 6,\n",
       "  'Pickering': 7,\n",
       "  'Mississauga': 8,\n",
       "  'Burlington': 9,\n",
       "  'Newmarket': 10,\n",
       "  'Rare': 11,\n",
       "  'Toronto': 12,\n",
       "  'Aurora': 13,\n",
       "  'Markham': 14,\n",
       "  'Caledon': 15,\n",
       "  'Vaughan': 16,\n",
       "  'Richmond Hill': 17,\n",
       "  'Oakville': 18},\n",
       " 'approxage': {'11-15': 0,\n",
       "  '6-10': 1,\n",
       "  '31-50': 2,\n",
       "  '16-30': 3,\n",
       "  '0-5': 4,\n",
       "  'Missing': 5,\n",
       "  'New': 6,\n",
       "  '6-15': 7,\n",
       "  '51-99': 8,\n",
       "  'Rare': 9},\n",
       " 'approxsqft': {'0-499': 0,\n",
       "  '500-599': 1,\n",
       "  '600-699': 2,\n",
       "  '700-799': 3,\n",
       "  '900-999': 4,\n",
       "  '1000-1199': 5,\n",
       "  '800-899': 6,\n",
       "  '1200-1399': 7,\n",
       "  '1400-1599': 8,\n",
       "  '1100-1500': 9,\n",
       "  '1500-2000': 10,\n",
       "  '1600-1799': 11,\n",
       "  'Missing': 12,\n",
       "  '2000-2500': 13,\n",
       "  '2500-3000': 14,\n",
       "  'Rare': 15,\n",
       "  '3000-3500': 16,\n",
       "  '3500-5000': 17},\n",
       " 'propertynew': {'Condo': 0,\n",
       "  'Condo Townhouse': 1,\n",
       "  'Other': 2,\n",
       "  'Townhouse': 3,\n",
       "  'Semi-Detached': 4,\n",
       "  'Detached': 5}}"
      ]
     },
     "execution_count": 126,
     "metadata": {},
     "output_type": "execute_result"
    }
   ],
   "source": [
    "d1 # req for web dev"
   ]
  },
  {
   "cell_type": "code",
   "execution_count": 127,
   "metadata": {},
   "outputs": [],
   "source": [
    "with open('mapdict.pkl','wb') as f:    # saving component for web dev\n",
    "    pickle.dump(d1,f)"
   ]
  },
  {
   "cell_type": "code",
   "execution_count": 128,
   "metadata": {},
   "outputs": [
    {
     "data": {
      "text/html": [
       "<div>\n",
       "<style scoped>\n",
       "    .dataframe tbody tr th:only-of-type {\n",
       "        vertical-align: middle;\n",
       "    }\n",
       "\n",
       "    .dataframe tbody tr th {\n",
       "        vertical-align: top;\n",
       "    }\n",
       "\n",
       "    .dataframe thead th {\n",
       "        text-align: right;\n",
       "    }\n",
       "</style>\n",
       "<table border=\"1\" class=\"dataframe\">\n",
       "  <thead>\n",
       "    <tr style=\"text-align: right;\">\n",
       "      <th></th>\n",
       "      <th>postcode</th>\n",
       "      <th>province</th>\n",
       "      <th>city</th>\n",
       "      <th>area</th>\n",
       "      <th>community</th>\n",
       "      <th>type</th>\n",
       "      <th>approxage</th>\n",
       "      <th>approxsqft</th>\n",
       "      <th>propertynew</th>\n",
       "      <th>bedroomstotal</th>\n",
       "      <th>kitchens</th>\n",
       "      <th>washrooms</th>\n",
       "      <th>maintenancefee</th>\n",
       "      <th>soldprice</th>\n",
       "      <th>latitude</th>\n",
       "      <th>longitude</th>\n",
       "      <th>lifeofad</th>\n",
       "      <th>kitchens_na</th>\n",
       "      <th>washrooms_na</th>\n",
       "      <th>maintenancefee_na</th>\n",
       "      <th>soldprice_na</th>\n",
       "    </tr>\n",
       "  </thead>\n",
       "  <tbody>\n",
       "    <tr>\n",
       "      <th>611422</th>\n",
       "      <td>L6Y0Y5</td>\n",
       "      <td>Ontario</td>\n",
       "      <td>5</td>\n",
       "      <td>Peel</td>\n",
       "      <td>Credit Valley</td>\n",
       "      <td>Sale</td>\n",
       "      <td>4</td>\n",
       "      <td>14</td>\n",
       "      <td>5</td>\n",
       "      <td>6</td>\n",
       "      <td>1.0</td>\n",
       "      <td>5.0</td>\n",
       "      <td>495.29</td>\n",
       "      <td>970000.0</td>\n",
       "      <td>NaN</td>\n",
       "      <td>NaN</td>\n",
       "      <td>1</td>\n",
       "      <td>0</td>\n",
       "      <td>0</td>\n",
       "      <td>1</td>\n",
       "      <td>0</td>\n",
       "    </tr>\n",
       "    <tr>\n",
       "      <th>619026</th>\n",
       "      <td>M9W7J4</td>\n",
       "      <td>Ontario</td>\n",
       "      <td>12</td>\n",
       "      <td>Toronto</td>\n",
       "      <td>West Humber-Clairville</td>\n",
       "      <td>Sale</td>\n",
       "      <td>5</td>\n",
       "      <td>3</td>\n",
       "      <td>0</td>\n",
       "      <td>2</td>\n",
       "      <td>1.0</td>\n",
       "      <td>1.0</td>\n",
       "      <td>436.00</td>\n",
       "      <td>364900.0</td>\n",
       "      <td>43.7247</td>\n",
       "      <td>-79.6153</td>\n",
       "      <td>7</td>\n",
       "      <td>0</td>\n",
       "      <td>0</td>\n",
       "      <td>0</td>\n",
       "      <td>0</td>\n",
       "    </tr>\n",
       "    <tr>\n",
       "      <th>633070</th>\n",
       "      <td>L1T0B1</td>\n",
       "      <td>Ontario</td>\n",
       "      <td>3</td>\n",
       "      <td>Durham</td>\n",
       "      <td>Central</td>\n",
       "      <td>Sale</td>\n",
       "      <td>5</td>\n",
       "      <td>12</td>\n",
       "      <td>3</td>\n",
       "      <td>3</td>\n",
       "      <td>1.0</td>\n",
       "      <td>2.0</td>\n",
       "      <td>495.29</td>\n",
       "      <td>478000.0</td>\n",
       "      <td>43.8604</td>\n",
       "      <td>-79.0333</td>\n",
       "      <td>35</td>\n",
       "      <td>0</td>\n",
       "      <td>0</td>\n",
       "      <td>1</td>\n",
       "      <td>0</td>\n",
       "    </tr>\n",
       "    <tr>\n",
       "      <th>625876</th>\n",
       "      <td>L7R2W4</td>\n",
       "      <td>Ontario</td>\n",
       "      <td>9</td>\n",
       "      <td>Halton</td>\n",
       "      <td>Brant</td>\n",
       "      <td>Sale</td>\n",
       "      <td>8</td>\n",
       "      <td>13</td>\n",
       "      <td>5</td>\n",
       "      <td>3</td>\n",
       "      <td>1.0</td>\n",
       "      <td>2.0</td>\n",
       "      <td>495.29</td>\n",
       "      <td>940000.0</td>\n",
       "      <td>43.3312</td>\n",
       "      <td>-79.7898</td>\n",
       "      <td>2</td>\n",
       "      <td>0</td>\n",
       "      <td>0</td>\n",
       "      <td>1</td>\n",
       "      <td>0</td>\n",
       "    </tr>\n",
       "    <tr>\n",
       "      <th>375866</th>\n",
       "      <td>L7B1N1</td>\n",
       "      <td>Ontario</td>\n",
       "      <td>11</td>\n",
       "      <td>York</td>\n",
       "      <td>Nobleton</td>\n",
       "      <td>Sale</td>\n",
       "      <td>4</td>\n",
       "      <td>15</td>\n",
       "      <td>5</td>\n",
       "      <td>4</td>\n",
       "      <td>1.0</td>\n",
       "      <td>5.0</td>\n",
       "      <td>495.29</td>\n",
       "      <td>2375000.0</td>\n",
       "      <td>NaN</td>\n",
       "      <td>NaN</td>\n",
       "      <td>65</td>\n",
       "      <td>0</td>\n",
       "      <td>0</td>\n",
       "      <td>1</td>\n",
       "      <td>0</td>\n",
       "    </tr>\n",
       "  </tbody>\n",
       "</table>\n",
       "</div>"
      ],
      "text/plain": [
       "       postcode province  city     area               community  type  \\\n",
       "611422   L6Y0Y5  Ontario     5     Peel           Credit Valley  Sale   \n",
       "619026   M9W7J4  Ontario    12  Toronto  West Humber-Clairville  Sale   \n",
       "633070   L1T0B1  Ontario     3   Durham                 Central  Sale   \n",
       "625876   L7R2W4  Ontario     9   Halton                   Brant  Sale   \n",
       "375866   L7B1N1  Ontario    11     York                Nobleton  Sale   \n",
       "\n",
       "        approxage  approxsqft  propertynew  bedroomstotal  kitchens  \\\n",
       "611422          4          14            5              6       1.0   \n",
       "619026          5           3            0              2       1.0   \n",
       "633070          5          12            3              3       1.0   \n",
       "625876          8          13            5              3       1.0   \n",
       "375866          4          15            5              4       1.0   \n",
       "\n",
       "        washrooms  maintenancefee  soldprice  latitude  longitude  lifeofad  \\\n",
       "611422        5.0          495.29   970000.0       NaN        NaN         1   \n",
       "619026        1.0          436.00   364900.0   43.7247   -79.6153         7   \n",
       "633070        2.0          495.29   478000.0   43.8604   -79.0333        35   \n",
       "625876        2.0          495.29   940000.0   43.3312   -79.7898         2   \n",
       "375866        5.0          495.29  2375000.0       NaN        NaN        65   \n",
       "\n",
       "        kitchens_na  washrooms_na  maintenancefee_na  soldprice_na  \n",
       "611422            0             0                  1             0  \n",
       "619026            0             0                  0             0  \n",
       "633070            0             0                  1             0  \n",
       "625876            0             0                  1             0  \n",
       "375866            0             0                  1             0  "
      ]
     },
     "execution_count": 128,
     "metadata": {},
     "output_type": "execute_result"
    }
   ],
   "source": [
    "X_train.head()"
   ]
  },
  {
   "cell_type": "code",
   "execution_count": 129,
   "metadata": {},
   "outputs": [
    {
     "data": {
      "text/plain": [
       "['latitude', 'longitude']"
      ]
     },
     "execution_count": 129,
     "metadata": {},
     "output_type": "execute_result"
    }
   ],
   "source": [
    "# ensuring the  absence of nan in train data set\n",
    "[var for var in X_train.columns if X_train[var].isnull().sum()>0]"
   ]
  },
  {
   "cell_type": "code",
   "execution_count": 130,
   "metadata": {},
   "outputs": [
    {
     "data": {
      "text/plain": [
       "['latitude', 'longitude']"
      ]
     },
     "execution_count": 130,
     "metadata": {},
     "output_type": "execute_result"
    }
   ],
   "source": [
    "# ensuring the absence of nan in test data set\n",
    "[var for var in X_test.columns if X_test[var].isnull().sum()>0]"
   ]
  },
  {
   "cell_type": "code",
   "execution_count": 131,
   "metadata": {},
   "outputs": [
    {
     "data": {
      "image/png": "[encoded data removed]",
      "text/plain": [
       "<Figure size 432x288 with 1 Axes>"
      ]
     },
     "metadata": {
      "needs_background": "light"
     },
     "output_type": "display_data"
    },
    {
     "data": {
      "image/png": "[encoded data removed]",
      "text/plain": [
       "<Figure size 432x288 with 1 Axes>"
      ]
     },
     "metadata": {
      "needs_background": "light"
     },
     "output_type": "display_data"
    },
    {
     "data": {
      "image/png": "[encoded data removed]",
      "text/plain": [
       "<Figure size 432x288 with 1 Axes>"
      ]
     },
     "metadata": {
      "needs_background": "light"
     },
     "output_type": "display_data"
    },
    {
     "data": {
      "image/png": "[encoded data removed]",
      "text/plain": [
       "<Figure size 432x288 with 1 Axes>"
      ]
     },
     "metadata": {
      "needs_background": "light"
     },
     "output_type": "display_data"
    }
   ],
   "source": [
    "# relationship between engineered cat vars and soldprice\n",
    "def analyse_vars(df, var):\n",
    "    df = df.copy()\n",
    "    df.groupby(var)['soldprice'].median().plot.bar() # plot based on median\n",
    "    plt.title(var)\n",
    "    plt.ylabel('soldprice')\n",
    "    plt.show()\n",
    "    \n",
    "for var in cat_vars:\n",
    "    analyse_vars(X_train, var)"
   ]
  },
  {
   "cell_type": "code",
   "execution_count": 132,
   "metadata": {},
   "outputs": [
    {
     "data": {
      "image/png": "[encoded data removed]",
      "text/plain": [
       "<Figure size 432x288 with 1 Axes>"
      ]
     },
     "metadata": {
      "needs_background": "light"
     },
     "output_type": "display_data"
    },
    {
     "data": {
      "image/png": "[encoded data removed]",
      "text/plain": [
       "<Figure size 432x288 with 1 Axes>"
      ]
     },
     "metadata": {
      "needs_background": "light"
     },
     "output_type": "display_data"
    },
    {
     "data": {
      "image/png": "[encoded data removed]",
      "text/plain": [
       "<Figure size 432x288 with 1 Axes>"
      ]
     },
     "metadata": {
      "needs_background": "light"
     },
     "output_type": "display_data"
    },
    {
     "data": {
      "image/png": "[encoded data removed]",
      "text/plain": [
       "<Figure size 432x288 with 1 Axes>"
      ]
     },
     "metadata": {
      "needs_background": "light"
     },
     "output_type": "display_data"
    }
   ],
   "source": [
    "# relationship between engineered cat vars and soldprice\n",
    "def analyse_vars(df, var):\n",
    "    df = df.copy()\n",
    "    df.groupby(var)['soldprice'].mean().plot.bar() # plot based on mean\n",
    "    plt.title(var)\n",
    "    plt.ylabel('soldprice')\n",
    "    plt.show()\n",
    "    \n",
    "for var in cat_vars:\n",
    "    analyse_vars(X_train, var)"
   ]
  },
  {
   "cell_type": "code",
   "execution_count": 133,
   "metadata": {},
   "outputs": [],
   "source": [
    "# now mostly monotonic relationship can be seen now"
   ]
  },
  {
   "cell_type": "code",
   "execution_count": 134,
   "metadata": {},
   "outputs": [
    {
     "name": "stdout",
     "output_type": "stream",
     "text": [
      "city 0.0\n",
      "approxage 0.0\n",
      "approxsqft 0.0\n",
      "propertynew 0.0\n",
      "bedroomstotal 0.0\n",
      "kitchens 0.0\n",
      "washrooms 0.0\n",
      "maintenancefee 0.0\n",
      "soldprice 0.0\n",
      "latitude 0.38\n",
      "longitude 0.38\n",
      "lifeofad 0.0\n"
     ]
    }
   ],
   "source": [
    "# making a list of the numerical variables that contain missing values\n",
    "vars_with_na = [var for var in df.columns if X_train[var].dtypes!='O']\n",
    "\n",
    "# print the variable name and the percentage of missing values\n",
    "for var in vars_with_na:\n",
    "    print(var, np.round(X_train[var].isnull().mean(), 3))"
   ]
  },
  {
   "cell_type": "code",
   "execution_count": 135,
   "metadata": {},
   "outputs": [],
   "source": [
    "# All categorical variables got converted to numerical\n",
    "# lat n longs are disregarded"
   ]
  },
  {
   "cell_type": "code",
   "execution_count": 136,
   "metadata": {},
   "outputs": [
    {
     "name": "stdout",
     "output_type": "stream",
     "text": [
      "postcode 0.0\n",
      "province 0.0\n",
      "area 0.0\n",
      "community 0.0\n",
      "type 0.0\n"
     ]
    }
   ],
   "source": [
    "# making a list of the non- numerical variables that contain missing values\n",
    "## only variables that are just kept for information\n",
    "vars_with_na = [var for var in df.columns if X_train[var].dtypes=='O']\n",
    "\n",
    "# print the variable name and the missing values\n",
    "for var in vars_with_na:\n",
    "    print(var, np.round(X_train[var].isnull().mean(), 3))"
   ]
  },
  {
   "cell_type": "code",
   "execution_count": 137,
   "metadata": {},
   "outputs": [],
   "source": [
    "cont_vars=['maintenancefee','soldprice'] # getting continious variables"
   ]
  },
  {
   "cell_type": "code",
   "execution_count": 138,
   "metadata": {},
   "outputs": [
    {
     "data": {
      "text/plain": [
       "(35595, 21)"
      ]
     },
     "execution_count": 138,
     "metadata": {},
     "output_type": "execute_result"
    }
   ],
   "source": [
    "X_train.shape"
   ]
  },
  {
   "cell_type": "code",
   "execution_count": 139,
   "metadata": {},
   "outputs": [
    {
     "data": {
      "text/plain": [
       "(3956, 21)"
      ]
     },
     "execution_count": 139,
     "metadata": {},
     "output_type": "execute_result"
    }
   ],
   "source": [
    "X_test.shape"
   ]
  },
  {
   "cell_type": "markdown",
   "metadata": {},
   "source": [
    "## Outlier Removal in Continious Numerical Variables by both-end capping( all have Skewed Distributions)"
   ]
  },
  {
   "cell_type": "code",
   "execution_count": 140,
   "metadata": {},
   "outputs": [],
   "source": [
    "def Outlier_cont_num_var(df,var):    \n",
    "    df=df.copy()    \n",
    "    IQR = df[var].quantile(0.75) - df[var].quantile(0.25)\n",
    "    upper_fence = df[var].quantile(0.75) + (IQR * 3)\n",
    "    lower_fence = df[var].quantile(0.25) - (IQR * 3)\n",
    "    \n",
    "    upper_capp= df[var].quantile(0.95)\n",
    "    lower_capp = df[var].quantile(0.25)\n",
    "    \n",
    "    up= 0.05 # upper cut-off , user to set by trial and error\n",
    "    #lp=0.05 # lower cutoff, user to set by trial and error\n",
    "    \n",
    "    print('var:{}'.format(var))    \n",
    "    print('max:{},min:{}'.format(df[var].max(),df[var].min()))\n",
    "    print('upper cut-off:{}'.format(up))\n",
    "    print('upperfence:{},lowerfence:{}'.format(upper_fence,lower_fence))\n",
    "    print('uppercapp:{},lowercapp:{}'.format(upper_capp,lower_capp))\n",
    "    \n",
    "    \n",
    "    nu1= len(df[df[var] > upper_fence]) / len(df)\n",
    "    nu2= len(df[df[var] > upper_capp]) / len(df)\n",
    "    \n",
    " \n",
    "    if upper_capp<upper_fence and nu2<up and IQR!=0:\n",
    "        upper = upper_capp\n",
    "    elif (upper_fence<upper_capp or upper_fence==upper_capp) and nu1<up and IQR!=0:\n",
    "        upper= upper_fence\n",
    "    else:\n",
    "        upper= None\n",
    "        \n",
    "    #nl1= len(df[df[var] < lower_fence]) / len(df)\n",
    "    #nl2= len(df[df[var] < lower_capp]) / len(df)\n",
    "    \n",
    "            \n",
    "    if lower_fence >0 and lower_fence>lower_capp : #and nl1<lp\n",
    "        lower=lower_fence\n",
    "    elif lower_capp>lower_fence or lower_fence==lower_capp : #and nl2<lp\n",
    "        lower=lower_capp\n",
    "    else:\n",
    "        lower= None\n",
    "    \n",
    "    print('upper:{},lower:{}'.format(upper,lower))\n",
    "    print('\\n')\n",
    "    \n",
    "    return lower, upper\n",
    "\n",
    "\n",
    "# Logic: \n",
    "# taking min(upper_fence,upper_capp) and max(lower_fence,lower_capp)\n",
    "# if outlier> 15%, these are no more outliers and variable distribution is kept as it is(striked out)\n",
    "        \n",
    "    "
   ]
  },
  {
   "cell_type": "code",
   "execution_count": 141,
   "metadata": {},
   "outputs": [
    {
     "name": "stdout",
     "output_type": "stream",
     "text": [
      "var:maintenancefee\n",
      "max:6211.82,min:0.21\n",
      "upper cut-off:0.05\n",
      "upperfence:495.29,lowerfence:495.29\n",
      "uppercapp:790.3489999999995,lowercapp:495.29\n",
      "upper:None,lower:495.29\n",
      "\n",
      "\n",
      "var:soldprice\n",
      "max:17395000.0,min:729.0\n",
      "upper cut-off:0.05\n",
      "upperfence:2097000.0,lowerfence:-697750.0\n",
      "uppercapp:1600000.0,lowercapp:500000.0\n",
      "upper:1600000.0,lower:500000.0\n",
      "\n",
      "\n"
     ]
    }
   ],
   "source": [
    "dl={}\n",
    "du={}\n",
    "\n",
    "for var in cont_vars:\n",
    "    low, up =Outlier_cont_num_var(X_train,var)\n",
    "    \n",
    "    if low!=None:\n",
    "        dl[var]=low\n",
    "    if up!= None:\n",
    "        du[var]=up  \n",
    "    "
   ]
  },
  {
   "cell_type": "code",
   "execution_count": 142,
   "metadata": {},
   "outputs": [
    {
     "data": {
      "text/plain": [
       "{'soldprice': 1600000.0}"
      ]
     },
     "execution_count": 142,
     "metadata": {},
     "output_type": "execute_result"
    }
   ],
   "source": [
    "du # capping upper dict"
   ]
  },
  {
   "cell_type": "code",
   "execution_count": 143,
   "metadata": {},
   "outputs": [
    {
     "data": {
      "text/plain": [
       "{'maintenancefee': 495.29, 'soldprice': 500000.0}"
      ]
     },
     "execution_count": 143,
     "metadata": {},
     "output_type": "execute_result"
    }
   ],
   "source": [
    "dl # capping lower dict"
   ]
  },
  {
   "cell_type": "code",
   "execution_count": 144,
   "metadata": {},
   "outputs": [
    {
     "ename": "ModuleNotFoundError",
     "evalue": "No module named 'feature_engine'",
     "output_type": "error",
     "traceback": [
      "\u001b[0;31m---------------------------------------------------------------------------\u001b[0m",
      "\u001b[0;31mModuleNotFoundError\u001b[0m                       Traceback (most recent call last)",
      "\u001b[0;32m<ipython-input-144-3e20c11b86c2>\u001b[0m in \u001b[0;36m<module>\u001b[0;34m\u001b[0m\n\u001b[0;32m----> 1\u001b[0;31m \u001b[0;32mfrom\u001b[0m \u001b[0mfeature_engine\u001b[0m \u001b[0;32mimport\u001b[0m \u001b[0moutlier_removers\u001b[0m \u001b[0;32mas\u001b[0m \u001b[0moutr\u001b[0m\u001b[0;34m\u001b[0m\u001b[0;34m\u001b[0m\u001b[0m\n\u001b[0m\u001b[1;32m      2\u001b[0m \u001b[0;34m\u001b[0m\u001b[0m\n\u001b[1;32m      3\u001b[0m \u001b[0;32mif\u001b[0m \u001b[0mlen\u001b[0m\u001b[0;34m(\u001b[0m\u001b[0mdu\u001b[0m\u001b[0;34m)\u001b[0m\u001b[0;34m!=\u001b[0m\u001b[0;36m0\u001b[0m \u001b[0;32mor\u001b[0m \u001b[0mlen\u001b[0m\u001b[0;34m(\u001b[0m\u001b[0mdl\u001b[0m\u001b[0;34m)\u001b[0m\u001b[0;34m!=\u001b[0m\u001b[0;36m0\u001b[0m\u001b[0;34m:\u001b[0m\u001b[0;34m\u001b[0m\u001b[0;34m\u001b[0m\u001b[0m\n\u001b[1;32m      4\u001b[0m \u001b[0;34m\u001b[0m\u001b[0m\n\u001b[1;32m      5\u001b[0m     \u001b[0;32mif\u001b[0m \u001b[0mlen\u001b[0m\u001b[0;34m(\u001b[0m\u001b[0mdu\u001b[0m\u001b[0;34m)\u001b[0m\u001b[0;34m!=\u001b[0m\u001b[0;36m0\u001b[0m \u001b[0;32mand\u001b[0m \u001b[0mlen\u001b[0m\u001b[0;34m(\u001b[0m\u001b[0mdl\u001b[0m\u001b[0;34m)\u001b[0m\u001b[0;34m!=\u001b[0m\u001b[0;36m0\u001b[0m\u001b[0;34m:\u001b[0m\u001b[0;34m\u001b[0m\u001b[0;34m\u001b[0m\u001b[0m\n",
      "\u001b[0;31mModuleNotFoundError\u001b[0m: No module named 'feature_engine'"
     ]
    }
   ],
   "source": [
    "from feature_engine import outlier_removers as outr\n",
    "\n",
    "if len(du)!=0 or len(dl)!=0:\n",
    "\n",
    "    if len(du)!=0 and len(dl)!=0:\n",
    "        capper = outr.ArbitraryOutlierCapper(max_capping_dict = du, min_capping_dict = dl)\n",
    "        capper.fit(X_train)\n",
    "    elif len(du)!=0 and len(dl)==0:\n",
    "        capper = outr.ArbitraryOutlierCapper(max_capping_dict = du, min_capping_dict = None)\n",
    "        capper.fit(X_train)\n",
    "    elif len(dl)!=0 and len(du)==0:\n",
    "        capper = outr.ArbitraryOutlierCapper(max_capping_dict = None, min_capping_dict = dl)\n",
    "        capper.fit(X_train)\n",
    "    \n",
    "    X_train = capper.transform(X_train)\n",
    "    X_test = capper.transform(X_test)\n",
    "    "
   ]
  },
  {
   "cell_type": "code",
   "execution_count": null,
   "metadata": {},
   "outputs": [],
   "source": [
    "webdict={'maintenancefee': 495.29} # taking only maintenance for prediction against alien data"
   ]
  },
  {
   "cell_type": "code",
   "execution_count": null,
   "metadata": {},
   "outputs": [],
   "source": [
    "capper = outr.ArbitraryOutlierCapper(max_capping_dict = None, min_capping_dict = webdict)"
   ]
  },
  {
   "cell_type": "code",
   "execution_count": null,
   "metadata": {},
   "outputs": [],
   "source": [
    "with open('outlier_capper.pkl','wb') as f: # capper required for web development\n",
    "    pickle.dump(capper,f)"
   ]
  },
  {
   "cell_type": "code",
   "execution_count": null,
   "metadata": {},
   "outputs": [],
   "source": [
    "X_train.maintenancefee.max(),X_train.maintenancefee.min()"
   ]
  },
  {
   "cell_type": "code",
   "execution_count": null,
   "metadata": {},
   "outputs": [],
   "source": [
    "X_train.soldprice.max(),X_train.soldprice.min()"
   ]
  },
  {
   "cell_type": "code",
   "execution_count": null,
   "metadata": {},
   "outputs": [],
   "source": [
    "dp_loss= df.shape[0]-X_train.shape[0]-X_test.shape[0]"
   ]
  },
  {
   "cell_type": "code",
   "execution_count": null,
   "metadata": {},
   "outputs": [],
   "source": [
    "dp_loss # no loss in data points during FE"
   ]
  },
  {
   "cell_type": "markdown",
   "metadata": {},
   "source": [
    "## Log transformation of soldprice"
   ]
  },
  {
   "cell_type": "code",
   "execution_count": null,
   "metadata": {},
   "outputs": [],
   "source": [
    "    X_train['soldprice'] = np.log(X_train['soldprice']) \n",
    "    X_test['soldprice']= np.log(X_test['soldprice'])\n",
    "    # Lasso require gaussian distribution for IDVs and the DV"
   ]
  },
  {
   "cell_type": "markdown",
   "metadata": {},
   "source": [
    "## Best place to add correct lat/long values and other env variables"
   ]
  },
  {
   "cell_type": "markdown",
   "metadata": {},
   "source": [
    "## Feature Scaling"
   ]
  },
  {
   "cell_type": "code",
   "execution_count": null,
   "metadata": {},
   "outputs": [],
   "source": [
    "len(X_train.columns)"
   ]
  },
  {
   "cell_type": "code",
   "execution_count": null,
   "metadata": {},
   "outputs": [],
   "source": [
    "X_train.columns"
   ]
  },
  {
   "cell_type": "code",
   "execution_count": null,
   "metadata": {},
   "outputs": [],
   "source": [
    "info_vars=['postcode', 'province','area','community','type','latitude','longitude','soldprice']"
   ]
  },
  {
   "cell_type": "code",
   "execution_count": null,
   "metadata": {},
   "outputs": [],
   "source": [
    "train_vars = [var for var in X_train.columns if var not in info_vars]\n",
    "len(train_vars)"
   ]
  },
  {
   "cell_type": "code",
   "execution_count": null,
   "metadata": {},
   "outputs": [],
   "source": [
    "train_vars # features considered for analysis before feature selection"
   ]
  },
  {
   "cell_type": "code",
   "execution_count": null,
   "metadata": {},
   "outputs": [],
   "source": [
    "# fit scaler\n",
    "scaler = MinMaxScaler() # create an instance\n",
    "scaler.fit(X_train[train_vars]) #  fit  the scaler to the train set for later use\n",
    "\n",
    "# transform the train and test set, and add on the Id and SalePrice variables\n",
    "X_train = pd.concat([X_train[info_vars].reset_index(drop=True),\n",
    "                    pd.DataFrame(scaler.transform(X_train[train_vars]), columns=train_vars)],\n",
    "                    axis=1)\n",
    "\n",
    "X_test = pd.concat([X_test[info_vars].reset_index(drop=True),\n",
    "                    pd.DataFrame(scaler.transform(X_test[train_vars]), columns=train_vars)],\n",
    "                    axis=1)"
   ]
  },
  {
   "cell_type": "code",
   "execution_count": null,
   "metadata": {},
   "outputs": [],
   "source": [
    "import pickle"
   ]
  },
  {
   "cell_type": "code",
   "execution_count": null,
   "metadata": {},
   "outputs": [],
   "source": [
    "with open('scaler.pkl','wb') as f: # saving the scaler for web dev\n",
    "    pickle.dump(scaler,f)"
   ]
  },
  {
   "cell_type": "code",
   "execution_count": null,
   "metadata": {},
   "outputs": [],
   "source": [
    "X_train.head()"
   ]
  },
  {
   "cell_type": "code",
   "execution_count": null,
   "metadata": {},
   "outputs": [],
   "source": [
    "# check absence of missing values\n",
    "X_train.isnull().sum()"
   ]
  },
  {
   "cell_type": "code",
   "execution_count": null,
   "metadata": {},
   "outputs": [],
   "source": [
    "# let's now save the train and test sets for the next notebook!\n",
    "\n",
    "X_train.to_csv('xtrain.csv', index=False)\n",
    "X_test.to_csv('xtest.csv', index=False)"
   ]
  },
  {
   "cell_type": "code",
   "execution_count": null,
   "metadata": {},
   "outputs": [],
   "source": [
    "xtrain=pd.read_csv('xtrain.csv')"
   ]
  },
  {
   "cell_type": "code",
   "execution_count": null,
   "metadata": {},
   "outputs": [],
   "source": [
    "y_train=xtrain['soldprice']"
   ]
  },
  {
   "cell_type": "code",
   "execution_count": null,
   "metadata": {},
   "outputs": [],
   "source": [
    "x_train=xtrain[train_vars]"
   ]
  },
  {
   "cell_type": "code",
   "execution_count": null,
   "metadata": {},
   "outputs": [],
   "source": [
    "x_train.head()"
   ]
  },
  {
   "cell_type": "code",
   "execution_count": null,
   "metadata": {},
   "outputs": [],
   "source": [
    "xtest=pd.read_csv('xtest.csv')"
   ]
  },
  {
   "cell_type": "code",
   "execution_count": null,
   "metadata": {},
   "outputs": [],
   "source": [
    "y_test=xtest['soldprice']"
   ]
  },
  {
   "cell_type": "code",
   "execution_count": null,
   "metadata": {},
   "outputs": [],
   "source": [
    "x_test=xtest[train_vars]"
   ]
  },
  {
   "cell_type": "markdown",
   "metadata": {},
   "source": [
    "# 3.HYPER PARAMETER TUNING with GRID SEARCH"
   ]
  },
  {
   "cell_type": "code",
   "execution_count": null,
   "metadata": {},
   "outputs": [],
   "source": [
    "model=Lasso(alpha=0.05,random_state=0)"
   ]
  },
  {
   "cell_type": "code",
   "execution_count": null,
   "metadata": {},
   "outputs": [],
   "source": [
    "model.get_params().keys()"
   ]
  },
  {
   "cell_type": "code",
   "execution_count": null,
   "metadata": {},
   "outputs": [],
   "source": [
    "model.get_params()['alpha']"
   ]
  },
  {
   "cell_type": "code",
   "execution_count": null,
   "metadata": {},
   "outputs": [],
   "source": [
    "from sklearn.model_selection import GridSearchCV\n",
    "params = {'alpha':[1e-06,0.00001,0.0001,0.002,0.05]}\n",
    "model = GridSearchCV(model, params, cv=10,scoring='neg_mean_squared_error')\n",
    "model.fit(x_train,y_train)\n",
    "a= model.best_params_\n",
    "\n",
    "a['alpha']"
   ]
  },
  {
   "cell_type": "code",
   "execution_count": null,
   "metadata": {},
   "outputs": [],
   "source": [
    "score=-model.best_score_\n",
    "np.sqrt(score)"
   ]
  },
  {
   "cell_type": "code",
   "execution_count": null,
   "metadata": {},
   "outputs": [],
   "source": [
    "print(model.best_estimator_)"
   ]
  },
  {
   "cell_type": "code",
   "execution_count": null,
   "metadata": {},
   "outputs": [],
   "source": [
    "print(model)"
   ]
  },
  {
   "cell_type": "code",
   "execution_count": null,
   "metadata": {},
   "outputs": [],
   "source": [
    "model=Lasso(alpha=a['alpha'],random_state=0) # Intermediate Model"
   ]
  },
  {
   "cell_type": "markdown",
   "metadata": {},
   "source": [
    "# 4.Feature Selection"
   ]
  },
  {
   "cell_type": "code",
   "execution_count": null,
   "metadata": {},
   "outputs": [],
   "source": [
    "sel=SelectFromModel(model) "
   ]
  },
  {
   "cell_type": "code",
   "execution_count": null,
   "metadata": {},
   "outputs": [],
   "source": [
    "sel.fit(x_train,y_train) "
   ]
  },
  {
   "cell_type": "code",
   "execution_count": null,
   "metadata": {},
   "outputs": [],
   "source": [
    "a=sel.get_support()\n",
    "sfeat=x_train.columns[a]\n",
    "sfeat=list(sfeat)\n",
    "sfeat # selected features"
   ]
  },
  {
   "cell_type": "code",
   "execution_count": null,
   "metadata": {},
   "outputs": [],
   "source": [
    "with open('features.pkl','wb') as f:\n",
    "    pickle.dump(sfeat,f)"
   ]
  },
  {
   "cell_type": "code",
   "execution_count": null,
   "metadata": {},
   "outputs": [],
   "source": [
    "x_train.columns"
   ]
  },
  {
   "cell_type": "code",
   "execution_count": null,
   "metadata": {},
   "outputs": [],
   "source": [
    "len(x_train.columns)"
   ]
  },
  {
   "cell_type": "code",
   "execution_count": null,
   "metadata": {},
   "outputs": [],
   "source": [
    "len(sfeat)"
   ]
  },
  {
   "cell_type": "code",
   "execution_count": null,
   "metadata": {},
   "outputs": [],
   "source": [
    "xtrain_sel=x_train[sfeat]\n",
    "xtest_sel=x_test[sfeat]\n",
    "#converting train and test datasets to main features only"
   ]
  },
  {
   "cell_type": "markdown",
   "metadata": {},
   "source": [
    "# 5.Final ML MODEL BUILDING"
   ]
  },
  {
   "cell_type": "code",
   "execution_count": null,
   "metadata": {},
   "outputs": [],
   "source": [
    "print(model)"
   ]
  },
  {
   "cell_type": "code",
   "execution_count": null,
   "metadata": {},
   "outputs": [],
   "source": [
    "model.fit(xtrain_sel,y_train) # final model"
   ]
  },
  {
   "cell_type": "markdown",
   "metadata": {},
   "source": [
    "# 6.Estimation of RMSE<i.e.Error of the regressor Engine>"
   ]
  },
  {
   "cell_type": "code",
   "execution_count": null,
   "metadata": {},
   "outputs": [],
   "source": [
    "y_pred1=model.predict(xtrain_sel) # pred based on train set \n",
    "y_pred2=model.predict(xtest_sel) # prediction based on test set"
   ]
  },
  {
   "cell_type": "code",
   "execution_count": null,
   "metadata": {},
   "outputs": [],
   "source": [
    "    from sklearn.metrics import mean_squared_error\n",
    "   \n",
    "    error_rmse_1 = np.sqrt(mean_squared_error(np.exp(y_train),np.exp(y_pred1))) #calculate rmse\n",
    "\n",
    "    error_rmse_1 # based on train set"
   ]
  },
  {
   "cell_type": "code",
   "execution_count": null,
   "metadata": {},
   "outputs": [],
   "source": [
    "    from sklearn.metrics import mean_squared_error\n",
    "\n",
    "    error_rmse_2 = np.sqrt(mean_squared_error(np.exp(y_test),np.exp(y_pred2))) #calculate rmse\n",
    "\n",
    "    error_rmse_2 # based on test set"
   ]
  },
  {
   "cell_type": "code",
   "execution_count": null,
   "metadata": {},
   "outputs": [],
   "source": [
    "err1= abs(np.exp(y_pred1)-np.exp(y_train))*100/np.exp(y_train)\n",
    "err1.mean() # absolute mean"
   ]
  },
  {
   "cell_type": "code",
   "execution_count": null,
   "metadata": {},
   "outputs": [],
   "source": [
    "err2= abs(np.exp(y_pred2)-np.exp(y_test))*100/np.exp(y_test)\n",
    "err2.mean() # absolute mean"
   ]
  },
  {
   "cell_type": "code",
   "execution_count": null,
   "metadata": {},
   "outputs": [],
   "source": [
    "pd.DataFrame({'err1':err1,'err2':err2}).head() # err1.mean()~ err2.mean(), Little under fitting"
   ]
  },
  {
   "cell_type": "code",
   "execution_count": null,
   "metadata": {},
   "outputs": [],
   "source": [
    "pause"
   ]
  },
  {
   "cell_type": "code",
   "execution_count": null,
   "metadata": {},
   "outputs": [],
   "source": [
    "#Evaluating predictions w.r.t the original price\n",
    "plt.scatter(y_test, y_pred2)\n",
    "plt.xlabel('True House Price')\n",
    "plt.ylabel('Predicted House Price')\n",
    "plt.title('Evaluation of Lasso Predictions')"
   ]
  },
  {
   "cell_type": "code",
   "execution_count": null,
   "metadata": {},
   "outputs": [],
   "source": [
    "# Evaluating the distribution of the errors: \n",
    "# check of normal distribution- model performance\n",
    "\n",
    "errors = y_test - y_pred2\n",
    "errors.hist(bins=15)"
   ]
  },
  {
   "cell_type": "code",
   "execution_count": null,
   "metadata": {},
   "outputs": [],
   "source": [
    "### Feature importance"
   ]
  },
  {
   "cell_type": "code",
   "execution_count": null,
   "metadata": {},
   "outputs": [],
   "source": [
    "model.coef_.ravel()"
   ]
  },
  {
   "cell_type": "code",
   "execution_count": null,
   "metadata": {},
   "outputs": [],
   "source": [
    "#  Feature importance bar plot\n",
    "\n",
    "importance = pd.Series(np.abs(model.coef_.ravel()))\n",
    "importance.index = sfeat\n",
    "importance.sort_values(inplace=True, ascending=False)\n",
    "importance.plot.bar(figsize=(18,6))\n",
    "plt.ylabel('Lasso Coefficients')\n",
    "plt.title('Feature Importance')"
   ]
  },
  {
   "cell_type": "markdown",
   "metadata": {},
   "source": [
    "# 7.Final Regressor Engine Serealization"
   ]
  },
  {
   "cell_type": "code",
   "execution_count": null,
   "metadata": {},
   "outputs": [],
   "source": [
    "import pickle"
   ]
  },
  {
   "cell_type": "code",
   "execution_count": null,
   "metadata": {},
   "outputs": [],
   "source": [
    "with open('engine.pkl', 'wb') as f:\n",
    "    pickle.dump(model, f)"
   ]
  },
  {
   "cell_type": "code",
   "execution_count": null,
   "metadata": {},
   "outputs": [],
   "source": [
    "with open('engine.pkl', 'rb') as f:\n",
    "    engine = pickle.load(f)"
   ]
  },
  {
   "cell_type": "code",
   "execution_count": null,
   "metadata": {},
   "outputs": [],
   "source": [
    "engine"
   ]
  },
  {
   "cell_type": "code",
   "execution_count": null,
   "metadata": {},
   "outputs": [],
   "source": [
    "xtest_sel.head(1)"
   ]
  },
  {
   "cell_type": "code",
   "execution_count": null,
   "metadata": {},
   "outputs": [],
   "source": [
    "#d1"
   ]
  },
  {
   "cell_type": "code",
   "execution_count": null,
   "metadata": {},
   "outputs": [],
   "source": [
    "pause # execution of next cells to be done manually one-by-one"
   ]
  },
  {
   "cell_type": "markdown",
   "metadata": {},
   "source": [
    "# 8.Regressor engine applied to alien data to check it's prediction power and the correctness of web dev components"
   ]
  },
  {
   "cell_type": "code",
   "execution_count": null,
   "metadata": {},
   "outputs": [],
   "source": [
    "with open('mapdict.pkl','rb') as f:\n",
    "    d1=pickle.load(f)"
   ]
  },
  {
   "cell_type": "code",
   "execution_count": null,
   "metadata": {},
   "outputs": [],
   "source": [
    "d1"
   ]
  },
  {
   "cell_type": "code",
   "execution_count": null,
   "metadata": {},
   "outputs": [],
   "source": [
    "l5=list(d1['city'].keys())\n",
    "l5"
   ]
  },
  {
   "cell_type": "code",
   "execution_count": null,
   "metadata": {},
   "outputs": [],
   "source": [
    "var_city= input('City:')\n",
    "var_city=var_city[0].upper()+var_city[1:].lower()\n",
    "if var_city in d1['city'].keys():\n",
    "    var_city= int(d1['city'][var_city])\n",
    "else:\n",
    "    var_city= int(d1['city']['Rare'])"
   ]
  },
  {
   "cell_type": "code",
   "execution_count": null,
   "metadata": {},
   "outputs": [],
   "source": [
    "var_city"
   ]
  },
  {
   "cell_type": "code",
   "execution_count": null,
   "metadata": {},
   "outputs": [],
   "source": [
    "l1=list(d1['approxage'].keys())\n",
    "l1"
   ]
  },
  {
   "cell_type": "code",
   "execution_count": null,
   "metadata": {},
   "outputs": [],
   "source": [
    "var_approxage= input('Property age range in yrs:')\n",
    "#var_approxage=var_approxage[0].upper()+var_approxage[1:].lower()\n",
    "if var_approxage in d1['approxage'].keys():\n",
    "    var_approxage= int(d1['approxage'][var_approxage])\n",
    "else:\n",
    "    var_approxage= int(d1['approxage']['Rare'])"
   ]
  },
  {
   "cell_type": "code",
   "execution_count": null,
   "metadata": {},
   "outputs": [],
   "source": [
    "var_approxage"
   ]
  },
  {
   "cell_type": "code",
   "execution_count": null,
   "metadata": {},
   "outputs": [],
   "source": [
    "l3=list(d1['approxsqft'].keys())\n",
    "l3"
   ]
  },
  {
   "cell_type": "code",
   "execution_count": null,
   "metadata": {},
   "outputs": [],
   "source": [
    "var_approxsqft= input('Property Area range in sqft:')\n",
    "#var_approxsqft=var_approxsqft[0].upper()+var_approxsqft[1:].lower()\n",
    "if var_approxsqft in d1['approxsqft'].keys():\n",
    "    var_approxsqft= int(d1['approxsqft'][var_approxsqft])\n",
    "else:\n",
    "    var_approxsqft= int(d1['approxsqft']['Rare'])"
   ]
  },
  {
   "cell_type": "code",
   "execution_count": null,
   "metadata": {},
   "outputs": [],
   "source": [
    "var_approxsqft"
   ]
  },
  {
   "cell_type": "code",
   "execution_count": null,
   "metadata": {},
   "outputs": [],
   "source": [
    "l2=list(d1['propertynew'].keys())\n",
    "l2"
   ]
  },
  {
   "cell_type": "code",
   "execution_count": null,
   "metadata": {},
   "outputs": [],
   "source": [
    "var_propertynew= input('Property Type:')\n",
    "var_propertynew=var_propertynew[0].upper()+var_propertynew[1:].lower()\n",
    "if var_propertynew in d1['propertynew'].keys():\n",
    "    var_propertynew= int(d1['propertynew'][var_propertynew])\n",
    "else:\n",
    "    var_propertynew= int(d1['propertynew']['Rare'])"
   ]
  },
  {
   "cell_type": "code",
   "execution_count": null,
   "metadata": {},
   "outputs": [],
   "source": [
    "var_propertynew"
   ]
  },
  {
   "cell_type": "code",
   "execution_count": null,
   "metadata": {},
   "outputs": [],
   "source": [
    "var_bedroomstotal=int(input('Total No of Bedrooms:'))"
   ]
  },
  {
   "cell_type": "code",
   "execution_count": null,
   "metadata": {},
   "outputs": [],
   "source": [
    "var_kitchens=int(input('Total No of Kitchens:'))"
   ]
  },
  {
   "cell_type": "code",
   "execution_count": null,
   "metadata": {},
   "outputs": [],
   "source": [
    "var_washrooms=int(input('Total No of Washrooms:'))"
   ]
  },
  {
   "cell_type": "code",
   "execution_count": null,
   "metadata": {},
   "outputs": [],
   "source": [
    "var_maintenancefee=float(input('Approx Yearly Maintenance Fee:'))"
   ]
  },
  {
   "cell_type": "code",
   "execution_count": null,
   "metadata": {},
   "outputs": [],
   "source": [
    "var_lifeofad=int(input('How many days back the ad is listed from today- less than 180 days:'))"
   ]
  },
  {
   "cell_type": "code",
   "execution_count": null,
   "metadata": {},
   "outputs": [],
   "source": [
    "# sample input creation"
   ]
  },
  {
   "cell_type": "code",
   "execution_count": null,
   "metadata": {},
   "outputs": [],
   "source": [
    "xtest_dummy=pd.read_csv('df_wo_env.csv')"
   ]
  },
  {
   "cell_type": "code",
   "execution_count": null,
   "metadata": {},
   "outputs": [],
   "source": [
    "xtest_dummy.iloc[25:30,:]"
   ]
  },
  {
   "cell_type": "code",
   "execution_count": null,
   "metadata": {},
   "outputs": [],
   "source": [
    "alien_data={'city':var_city,'approxage':var_approxage,'approxsqft':var_approxsqft,'propertynew':var_propertynew,\\\n",
    "           'bedroomstotal':var_bedroomstotal,'kitchens':var_kitchens,'washrooms':var_washrooms,\\\n",
    "           'maintenancefee':var_maintenancefee,'lifeofad':var_lifeofad,'kitchens_na':0,'washrooms_na':0\\\n",
    "            ,'maintenancefee_na':0,'soldprice_na':0}"
   ]
  },
  {
   "cell_type": "code",
   "execution_count": null,
   "metadata": {},
   "outputs": [],
   "source": [
    "len(alien_data)"
   ]
  },
  {
   "cell_type": "code",
   "execution_count": null,
   "metadata": {},
   "outputs": [],
   "source": [
    "aliendata=pd.DataFrame(alien_data,index=[0],columns=alien_data.keys()) # single input"
   ]
  },
  {
   "cell_type": "code",
   "execution_count": null,
   "metadata": {},
   "outputs": [],
   "source": [
    "#X_train[train_vars].head(1)"
   ]
  },
  {
   "cell_type": "code",
   "execution_count": null,
   "metadata": {},
   "outputs": [],
   "source": [
    "aliendata.head()"
   ]
  },
  {
   "cell_type": "code",
   "execution_count": null,
   "metadata": {},
   "outputs": [],
   "source": [
    "cols= aliendata.columns"
   ]
  },
  {
   "cell_type": "code",
   "execution_count": null,
   "metadata": {},
   "outputs": [],
   "source": [
    "aliendata.columns.shape[0]"
   ]
  },
  {
   "cell_type": "code",
   "execution_count": null,
   "metadata": {},
   "outputs": [],
   "source": [
    "with open('outlier_capper.pkl','rb') as f:\n",
    "    capper=pickle.load(f)"
   ]
  },
  {
   "cell_type": "code",
   "execution_count": null,
   "metadata": {},
   "outputs": [],
   "source": [
    "capper.fit(aliendata)"
   ]
  },
  {
   "cell_type": "code",
   "execution_count": null,
   "metadata": {},
   "outputs": [],
   "source": [
    "aliendata=capper.transform(aliendata)"
   ]
  },
  {
   "cell_type": "code",
   "execution_count": null,
   "metadata": {},
   "outputs": [],
   "source": [
    "with open('scaler.pkl','rb') as f:\n",
    "    scaler=pickle.load(f)"
   ]
  },
  {
   "cell_type": "code",
   "execution_count": null,
   "metadata": {},
   "outputs": [],
   "source": [
    "#pd.DataFrame(scaler.transform(X_test[train_vars]), columns=train_vars)"
   ]
  },
  {
   "cell_type": "code",
   "execution_count": null,
   "metadata": {},
   "outputs": [],
   "source": [
    "aliendata_tr= pd.DataFrame(scaler.transform(aliendata), columns=cols)"
   ]
  },
  {
   "cell_type": "code",
   "execution_count": null,
   "metadata": {},
   "outputs": [],
   "source": [
    "with open ('features.pkl','rb') as f:\n",
    "    features= pickle.load(f)"
   ]
  },
  {
   "cell_type": "code",
   "execution_count": null,
   "metadata": {},
   "outputs": [],
   "source": [
    "aliendata_sel=aliendata_tr[features]"
   ]
  },
  {
   "cell_type": "code",
   "execution_count": null,
   "metadata": {},
   "outputs": [],
   "source": [
    "aliendata_sel.head(1)"
   ]
  },
  {
   "cell_type": "code",
   "execution_count": null,
   "metadata": {},
   "outputs": [],
   "source": [
    "with open('engine.pkl', 'rb') as f:\n",
    "    engine = pickle.load(f)"
   ]
  },
  {
   "cell_type": "code",
   "execution_count": null,
   "metadata": {},
   "outputs": [],
   "source": [
    "alienprice_pred=engine.predict(aliendata_sel)"
   ]
  },
  {
   "cell_type": "code",
   "execution_count": null,
   "metadata": {
    "scrolled": true
   },
   "outputs": [],
   "source": [
    "alienprice_pred"
   ]
  },
  {
   "cell_type": "code",
   "execution_count": null,
   "metadata": {},
   "outputs": [],
   "source": [
    "alienprice_pred= np.exp(alienprice_pred)\n",
    "print('house price:',round(alienprice_pred[0],2))"
   ]
  },
  {
   "cell_type": "markdown",
   "metadata": {},
   "source": [
    "## Reference"
   ]
  },
  {
   "cell_type": "code",
   "execution_count": null,
   "metadata": {},
   "outputs": [],
   "source": []
  }
 ],
 "metadata": {
  "celltoolbar": "Raw Cell Format",
  "kernelspec": {
   "display_name": "Python 3",
   "language": "python",
   "name": "python3"
  },
  "language_info": {
   "codemirror_mode": {
    "name": "ipython",
    "version": 3
   },
   "file_extension": ".py",
   "mimetype": "text/x-python",
   "name": "python",
   "nbconvert_exporter": "python",
   "pygments_lexer": "ipython3",
   "version": "3.6.5"
  }
 },
 "nbformat": 4,
 "nbformat_minor": 2
}
