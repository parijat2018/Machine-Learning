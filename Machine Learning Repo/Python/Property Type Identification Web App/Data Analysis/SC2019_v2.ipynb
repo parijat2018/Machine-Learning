{
 "cells": [
  {
   "cell_type": "code",
   "execution_count": 68,
   "metadata": {},
   "outputs": [],
   "source": [
    "import pandas as pd\n",
    "import numpy as np\n",
    "import pickle\n",
    "import re\n",
    "import nltk\n",
    "import requests\n",
    "#import stop-words\n",
    "#import nltk\n",
    "from nltk.corpus import stopwords"
   ]
  },
  {
   "cell_type": "code",
   "execution_count": 815,
   "metadata": {},
   "outputs": [
    {
     "data": {
      "text/plain": [
       "'C:\\\\Users\\\\Parijat\\\\Desktop\\\\sc2019'"
      ]
     },
     "execution_count": 815,
     "metadata": {},
     "output_type": "execute_result"
    }
   ],
   "source": [
    "pwd"
   ]
  },
  {
   "cell_type": "code",
   "execution_count": 816,
   "metadata": {},
   "outputs": [
    {
     "name": "stderr",
     "output_type": "stream",
     "text": [
      "C:\\Users\\Parijat\\Anaconda3\\lib\\site-packages\\IPython\\core\\interactiveshell.py:2785: DtypeWarning: Columns (4) have mixed types. Specify dtype option on import or set low_memory=False.\n",
      "  interactivity=interactivity, compiler=compiler, result=result)\n"
     ]
    }
   ],
   "source": [
    "data1=pd.read_csv('BASE_NS_CivicAddress_File_UT83.csv') # Residential"
   ]
  },
  {
   "cell_type": "code",
   "execution_count": 817,
   "metadata": {},
   "outputs": [
    {
     "data": {
      "text/html": [
       "<div>\n",
       "<style scoped>\n",
       "    .dataframe tbody tr th:only-of-type {\n",
       "        vertical-align: middle;\n",
       "    }\n",
       "\n",
       "    .dataframe tbody tr th {\n",
       "        vertical-align: top;\n",
       "    }\n",
       "\n",
       "    .dataframe thead th {\n",
       "        text-align: right;\n",
       "    }\n",
       "</style>\n",
       "<table border=\"1\" class=\"dataframe\">\n",
       "  <thead>\n",
       "    <tr style=\"text-align: right;\">\n",
       "      <th></th>\n",
       "      <th>SEGID</th>\n",
       "      <th>the_geom</th>\n",
       "      <th>Longz</th>\n",
       "      <th>Long</th>\n",
       "      <th>Latz</th>\n",
       "      <th>Lat</th>\n",
       "      <th>CIVICNUM</th>\n",
       "      <th>PNTID</th>\n",
       "      <th>CIVSUFFIX</th>\n",
       "      <th>UNIT_NUM</th>\n",
       "      <th>...</th>\n",
       "      <th>STRPREFIX</th>\n",
       "      <th>STRNAME</th>\n",
       "      <th>STRSUFFIX</th>\n",
       "      <th>STRDIR</th>\n",
       "      <th>COMM_ID</th>\n",
       "      <th>COMM</th>\n",
       "      <th>MUN</th>\n",
       "      <th>COUNTY</th>\n",
       "      <th>Type</th>\n",
       "      <th>Name</th>\n",
       "    </tr>\n",
       "  </thead>\n",
       "  <tbody>\n",
       "    <tr>\n",
       "      <th>0</th>\n",
       "      <td>17500026</td>\n",
       "      <td>POINT (-64.02346526630515 45.981042676909134)</td>\n",
       "      <td>-64.023465</td>\n",
       "      <td>-64.023465</td>\n",
       "      <td>45.981</td>\n",
       "      <td>45.981043</td>\n",
       "      <td>4053</td>\n",
       "      <td>17500314</td>\n",
       "      <td>NaN</td>\n",
       "      <td>NaN</td>\n",
       "      <td>...</td>\n",
       "      <td>NaN</td>\n",
       "      <td>Highway 366</td>\n",
       "      <td>NaN</td>\n",
       "      <td>NaN</td>\n",
       "      <td>175</td>\n",
       "      <td>Tidnish Cross Roads</td>\n",
       "      <td>Cumberland County</td>\n",
       "      <td>Cumberland County</td>\n",
       "      <td>0</td>\n",
       "      <td>yes residential housing</td>\n",
       "    </tr>\n",
       "    <tr>\n",
       "      <th>1</th>\n",
       "      <td>17500027</td>\n",
       "      <td>POINT (-64.00823115601295 45.99031718310066)</td>\n",
       "      <td>-64.008231</td>\n",
       "      <td>-64.008231</td>\n",
       "      <td>45.9903</td>\n",
       "      <td>45.990317</td>\n",
       "      <td>4399</td>\n",
       "      <td>17500135</td>\n",
       "      <td>NaN</td>\n",
       "      <td>NaN</td>\n",
       "      <td>...</td>\n",
       "      <td>NaN</td>\n",
       "      <td>Highway 366</td>\n",
       "      <td>NaN</td>\n",
       "      <td>NaN</td>\n",
       "      <td>175</td>\n",
       "      <td>Tidnish Cross Roads</td>\n",
       "      <td>Cumberland County</td>\n",
       "      <td>Cumberland County</td>\n",
       "      <td>0</td>\n",
       "      <td>yes residential housing</td>\n",
       "    </tr>\n",
       "  </tbody>\n",
       "</table>\n",
       "<p>2 rows × 21 columns</p>\n",
       "</div>"
      ],
      "text/plain": [
       "      SEGID                                       the_geom      Longz  \\\n",
       "0  17500026  POINT (-64.02346526630515 45.981042676909134) -64.023465   \n",
       "1  17500027   POINT (-64.00823115601295 45.99031718310066) -64.008231   \n",
       "\n",
       "        Long     Latz        Lat  CIVICNUM     PNTID CIVSUFFIX UNIT_NUM  \\\n",
       "0 -64.023465   45.981  45.981043      4053  17500314       NaN      NaN   \n",
       "1 -64.008231  45.9903  45.990317      4399  17500135       NaN      NaN   \n",
       "\n",
       "             ...            STRPREFIX      STRNAME STRSUFFIX STRDIR COMM_ID  \\\n",
       "0            ...                  NaN  Highway 366       NaN    NaN     175   \n",
       "1            ...                  NaN  Highway 366       NaN    NaN     175   \n",
       "\n",
       "                  COMM                MUN             COUNTY Type  \\\n",
       "0  Tidnish Cross Roads  Cumberland County  Cumberland County    0   \n",
       "1  Tidnish Cross Roads  Cumberland County  Cumberland County    0   \n",
       "\n",
       "                       Name  \n",
       "0  yes residential housing   \n",
       "1  yes residential housing   \n",
       "\n",
       "[2 rows x 21 columns]"
      ]
     },
     "execution_count": 817,
     "metadata": {},
     "output_type": "execute_result"
    }
   ],
   "source": [
    "data1.head(2)"
   ]
  },
  {
   "cell_type": "code",
   "execution_count": 818,
   "metadata": {},
   "outputs": [],
   "source": [
    "cols=['Name','Long','Lat','Type']"
   ]
  },
  {
   "cell_type": "code",
   "execution_count": 819,
   "metadata": {},
   "outputs": [],
   "source": [
    "data=data1[cols]"
   ]
  },
  {
   "cell_type": "code",
   "execution_count": 820,
   "metadata": {},
   "outputs": [
    {
     "data": {
      "text/html": [
       "<div>\n",
       "<style scoped>\n",
       "    .dataframe tbody tr th:only-of-type {\n",
       "        vertical-align: middle;\n",
       "    }\n",
       "\n",
       "    .dataframe tbody tr th {\n",
       "        vertical-align: top;\n",
       "    }\n",
       "\n",
       "    .dataframe thead th {\n",
       "        text-align: right;\n",
       "    }\n",
       "</style>\n",
       "<table border=\"1\" class=\"dataframe\">\n",
       "  <thead>\n",
       "    <tr style=\"text-align: right;\">\n",
       "      <th></th>\n",
       "      <th>Name</th>\n",
       "      <th>Long</th>\n",
       "      <th>Lat</th>\n",
       "      <th>Type</th>\n",
       "    </tr>\n",
       "  </thead>\n",
       "  <tbody>\n",
       "    <tr>\n",
       "      <th>0</th>\n",
       "      <td>yes residential housing</td>\n",
       "      <td>-64.023465</td>\n",
       "      <td>45.981043</td>\n",
       "      <td>0</td>\n",
       "    </tr>\n",
       "    <tr>\n",
       "      <th>1</th>\n",
       "      <td>yes residential housing</td>\n",
       "      <td>-64.008231</td>\n",
       "      <td>45.990317</td>\n",
       "      <td>0</td>\n",
       "    </tr>\n",
       "  </tbody>\n",
       "</table>\n",
       "</div>"
      ],
      "text/plain": [
       "                       Name       Long        Lat  Type\n",
       "0  yes residential housing  -64.023465  45.981043     0\n",
       "1  yes residential housing  -64.008231  45.990317     0"
      ]
     },
     "execution_count": 820,
     "metadata": {},
     "output_type": "execute_result"
    }
   ],
   "source": [
    "data.head(2)"
   ]
  },
  {
   "cell_type": "code",
   "execution_count": 821,
   "metadata": {},
   "outputs": [],
   "source": [
    "data2=pd.read_csv('Day_Programs.csv') #Commercial"
   ]
  },
  {
   "cell_type": "code",
   "execution_count": 822,
   "metadata": {},
   "outputs": [
    {
     "data": {
      "text/html": [
       "<div>\n",
       "<style scoped>\n",
       "    .dataframe tbody tr th:only-of-type {\n",
       "        vertical-align: middle;\n",
       "    }\n",
       "\n",
       "    .dataframe tbody tr th {\n",
       "        vertical-align: top;\n",
       "    }\n",
       "\n",
       "    .dataframe thead th {\n",
       "        text-align: right;\n",
       "    }\n",
       "</style>\n",
       "<table border=\"1\" class=\"dataframe\">\n",
       "  <thead>\n",
       "    <tr style=\"text-align: right;\">\n",
       "      <th></th>\n",
       "      <th>UID</th>\n",
       "      <th>Name</th>\n",
       "      <th>Address</th>\n",
       "      <th>Phone</th>\n",
       "      <th>Fax</th>\n",
       "      <th>Email</th>\n",
       "      <th>Facebook</th>\n",
       "      <th>Website</th>\n",
       "      <th>Hours</th>\n",
       "      <th>Long</th>\n",
       "      <th>Lat</th>\n",
       "      <th>Location</th>\n",
       "      <th>Type</th>\n",
       "    </tr>\n",
       "  </thead>\n",
       "  <tbody>\n",
       "    <tr>\n",
       "      <th>0</th>\n",
       "      <td>1</td>\n",
       "      <td>Beehive Adult Service Centre</td>\n",
       "      <td>1119 Station Street Aylesford, Nova Scotia B0P...</td>\n",
       "      <td>(902) 847-9696</td>\n",
       "      <td>(902) 847-9189</td>\n",
       "      <td>beehiveasc@eastlink.ca</td>\n",
       "      <td>https://www.facebook.com/beehiveASC/</td>\n",
       "      <td>http://www.beehiveasc.ca/</td>\n",
       "      <td>8:00 am - 4:00 pm (M-F) (8-2 Sat)</td>\n",
       "      <td>-64.838389</td>\n",
       "      <td>45.030217</td>\n",
       "      <td>(45.030217321, -64.83838879)</td>\n",
       "      <td>1</td>\n",
       "    </tr>\n",
       "    <tr>\n",
       "      <th>1</th>\n",
       "      <td>2</td>\n",
       "      <td>Bonny Lea (SSCSA)</td>\n",
       "      <td>5 Collicutt Rd, Windsor Road</td>\n",
       "      <td>(902) 275-5622</td>\n",
       "      <td>(902) 275-2567</td>\n",
       "      <td>davidouthouse@sswap.ca</td>\n",
       "      <td>NaN</td>\n",
       "      <td>NaN</td>\n",
       "      <td>NaN</td>\n",
       "      <td>-64.270608</td>\n",
       "      <td>44.592503</td>\n",
       "      <td>(44.592502947, -64.270607962)</td>\n",
       "      <td>1</td>\n",
       "    </tr>\n",
       "  </tbody>\n",
       "</table>\n",
       "</div>"
      ],
      "text/plain": [
       "   UID                          Name  \\\n",
       "0    1  Beehive Adult Service Centre   \n",
       "1    2             Bonny Lea (SSCSA)   \n",
       "\n",
       "                                             Address           Phone  \\\n",
       "0  1119 Station Street Aylesford, Nova Scotia B0P...  (902) 847-9696   \n",
       "1                       5 Collicutt Rd, Windsor Road  (902) 275-5622   \n",
       "\n",
       "              Fax                   Email  \\\n",
       "0  (902) 847-9189  beehiveasc@eastlink.ca   \n",
       "1  (902) 275-2567  davidouthouse@sswap.ca   \n",
       "\n",
       "                               Facebook                    Website  \\\n",
       "0  https://www.facebook.com/beehiveASC/  http://www.beehiveasc.ca/   \n",
       "1                                   NaN                        NaN   \n",
       "\n",
       "                               Hours       Long        Lat  \\\n",
       "0  8:00 am - 4:00 pm (M-F) (8-2 Sat) -64.838389  45.030217   \n",
       "1                                NaN -64.270608  44.592503   \n",
       "\n",
       "                        Location  Type  \n",
       "0   (45.030217321, -64.83838879)     1  \n",
       "1  (44.592502947, -64.270607962)     1  "
      ]
     },
     "execution_count": 822,
     "metadata": {},
     "output_type": "execute_result"
    }
   ],
   "source": [
    "data2.head(2)"
   ]
  },
  {
   "cell_type": "code",
   "execution_count": 823,
   "metadata": {},
   "outputs": [],
   "source": [
    "data2f=data2[cols]"
   ]
  },
  {
   "cell_type": "code",
   "execution_count": 824,
   "metadata": {},
   "outputs": [
    {
     "data": {
      "text/plain": [
       "452819"
      ]
     },
     "execution_count": 824,
     "metadata": {},
     "output_type": "execute_result"
    }
   ],
   "source": [
    "len(data)"
   ]
  },
  {
   "cell_type": "code",
   "execution_count": 825,
   "metadata": {},
   "outputs": [
    {
     "data": {
      "text/plain": [
       "44"
      ]
     },
     "execution_count": 825,
     "metadata": {},
     "output_type": "execute_result"
    }
   ],
   "source": [
    "len(data2f)"
   ]
  },
  {
   "cell_type": "code",
   "execution_count": 826,
   "metadata": {},
   "outputs": [],
   "source": [
    "data=data.append(data2f)"
   ]
  },
  {
   "cell_type": "code",
   "execution_count": 827,
   "metadata": {},
   "outputs": [
    {
     "data": {
      "text/plain": [
       "452863"
      ]
     },
     "execution_count": 827,
     "metadata": {},
     "output_type": "execute_result"
    }
   ],
   "source": [
    "len(data)"
   ]
  },
  {
   "cell_type": "code",
   "execution_count": 828,
   "metadata": {},
   "outputs": [],
   "source": [
    "data3=pd.read_csv('Hospitals.csv')#"
   ]
  },
  {
   "cell_type": "code",
   "execution_count": 829,
   "metadata": {},
   "outputs": [
    {
     "data": {
      "text/html": [
       "<div>\n",
       "<style scoped>\n",
       "    .dataframe tbody tr th:only-of-type {\n",
       "        vertical-align: middle;\n",
       "    }\n",
       "\n",
       "    .dataframe tbody tr th {\n",
       "        vertical-align: top;\n",
       "    }\n",
       "\n",
       "    .dataframe thead th {\n",
       "        text-align: right;\n",
       "    }\n",
       "</style>\n",
       "<table border=\"1\" class=\"dataframe\">\n",
       "  <thead>\n",
       "    <tr style=\"text-align: right;\">\n",
       "      <th></th>\n",
       "      <th>Name</th>\n",
       "      <th>Address</th>\n",
       "      <th>TOWN</th>\n",
       "      <th>COUNTY</th>\n",
       "      <th>TYPE</th>\n",
       "      <th>Phone</th>\n",
       "      <th>Long</th>\n",
       "      <th>Lat</th>\n",
       "      <th>Location 1</th>\n",
       "      <th>Type</th>\n",
       "    </tr>\n",
       "  </thead>\n",
       "  <tbody>\n",
       "    <tr>\n",
       "      <th>0</th>\n",
       "      <td>Guysborough Memorial Hospital</td>\n",
       "      <td>10560 Route 16</td>\n",
       "      <td>Guysborough</td>\n",
       "      <td>Guysborough</td>\n",
       "      <td>Community</td>\n",
       "      <td>(902) 533-3702</td>\n",
       "      <td>-61.507135</td>\n",
       "      <td>45.402341</td>\n",
       "      <td>(45.402341, -61.507136)</td>\n",
       "      <td>1</td>\n",
       "    </tr>\n",
       "    <tr>\n",
       "      <th>1</th>\n",
       "      <td>Buchanan Memorial Community Health Centre</td>\n",
       "      <td>32610 Cabot Trail</td>\n",
       "      <td>Neil's Harbour</td>\n",
       "      <td>Victoria</td>\n",
       "      <td>Community Health Centre</td>\n",
       "      <td>(902) 336-2200</td>\n",
       "      <td>-60.334327</td>\n",
       "      <td>46.810570</td>\n",
       "      <td>(46.81057, -60.334327)</td>\n",
       "      <td>1</td>\n",
       "    </tr>\n",
       "  </tbody>\n",
       "</table>\n",
       "</div>"
      ],
      "text/plain": [
       "                                        Name            Address  \\\n",
       "0              Guysborough Memorial Hospital     10560 Route 16   \n",
       "1  Buchanan Memorial Community Health Centre  32610 Cabot Trail   \n",
       "\n",
       "             TOWN       COUNTY                     TYPE           Phone  \\\n",
       "0     Guysborough  Guysborough                Community  (902) 533-3702   \n",
       "1  Neil's Harbour     Victoria  Community Health Centre  (902) 336-2200   \n",
       "\n",
       "        Long        Lat               Location 1  Type  \n",
       "0 -61.507135  45.402341  (45.402341, -61.507136)     1  \n",
       "1 -60.334327  46.810570   (46.81057, -60.334327)     1  "
      ]
     },
     "execution_count": 829,
     "metadata": {},
     "output_type": "execute_result"
    }
   ],
   "source": [
    "data3.head(2)"
   ]
  },
  {
   "cell_type": "code",
   "execution_count": 830,
   "metadata": {},
   "outputs": [],
   "source": [
    "data=data.append(data3[cols])"
   ]
  },
  {
   "cell_type": "code",
   "execution_count": 831,
   "metadata": {},
   "outputs": [],
   "source": [
    "data4=pd.read_csv('Nova_Scotia_Business_Inc._Export_Development_and_Investment_Attraction_Activity.csv')"
   ]
  },
  {
   "cell_type": "code",
   "execution_count": 832,
   "metadata": {},
   "outputs": [
    {
     "data": {
      "text/html": [
       "<div>\n",
       "<style scoped>\n",
       "    .dataframe tbody tr th:only-of-type {\n",
       "        vertical-align: middle;\n",
       "    }\n",
       "\n",
       "    .dataframe tbody tr th {\n",
       "        vertical-align: top;\n",
       "    }\n",
       "\n",
       "    .dataframe thead th {\n",
       "        text-align: right;\n",
       "    }\n",
       "</style>\n",
       "<table border=\"1\" class=\"dataframe\">\n",
       "  <thead>\n",
       "    <tr style=\"text-align: right;\">\n",
       "      <th></th>\n",
       "      <th>Name</th>\n",
       "      <th>nsbi_sector</th>\n",
       "      <th>Deal Type</th>\n",
       "      <th>NSBI Financial Contribution (Commitment/Announced)</th>\n",
       "      <th>Place Name</th>\n",
       "      <th>nsbi_county</th>\n",
       "      <th>PostalCode</th>\n",
       "      <th>fiscal year</th>\n",
       "      <th>Long</th>\n",
       "      <th>Lat</th>\n",
       "      <th>New Georeferenced Column</th>\n",
       "      <th>Type</th>\n",
       "    </tr>\n",
       "  </thead>\n",
       "  <tbody>\n",
       "    <tr>\n",
       "      <th>0</th>\n",
       "      <td>Northern Business Intelligence</td>\n",
       "      <td>ICT (includes Digital Media)</td>\n",
       "      <td>Business Development Program</td>\n",
       "      <td>10,850</td>\n",
       "      <td>Dartmouth</td>\n",
       "      <td>Halifax Regional Municipality</td>\n",
       "      <td>B3B1T4</td>\n",
       "      <td>2018 - 2019</td>\n",
       "      <td>-63.592360</td>\n",
       "      <td>44.706090</td>\n",
       "      <td>POINT (-63.59236 44.70609)</td>\n",
       "      <td>1</td>\n",
       "    </tr>\n",
       "    <tr>\n",
       "      <th>1</th>\n",
       "      <td>Fourth State Energy Incorporated</td>\n",
       "      <td>Energy</td>\n",
       "      <td>Business Development Program</td>\n",
       "      <td>3,750</td>\n",
       "      <td>Halifax</td>\n",
       "      <td>Halifax Regional Municipality</td>\n",
       "      <td>B3J2L4</td>\n",
       "      <td>2018 - 2019</td>\n",
       "      <td>-63.632286</td>\n",
       "      <td>44.654755</td>\n",
       "      <td>POINT (-63.632286 44.654755)</td>\n",
       "      <td>1</td>\n",
       "    </tr>\n",
       "  </tbody>\n",
       "</table>\n",
       "</div>"
      ],
      "text/plain": [
       "                               Name                   nsbi_sector  \\\n",
       "0    Northern Business Intelligence  ICT (includes Digital Media)   \n",
       "1  Fourth State Energy Incorporated                        Energy   \n",
       "\n",
       "                      Deal Type  \\\n",
       "0  Business Development Program   \n",
       "1  Business Development Program   \n",
       "\n",
       "  NSBI Financial Contribution (Commitment/Announced) Place Name  \\\n",
       "0                                             10,850  Dartmouth   \n",
       "1                                              3,750    Halifax   \n",
       "\n",
       "                     nsbi_county PostalCode  fiscal year       Long  \\\n",
       "0  Halifax Regional Municipality     B3B1T4  2018 - 2019 -63.592360   \n",
       "1  Halifax Regional Municipality     B3J2L4  2018 - 2019 -63.632286   \n",
       "\n",
       "         Lat      New Georeferenced Column  Type  \n",
       "0  44.706090    POINT (-63.59236 44.70609)     1  \n",
       "1  44.654755  POINT (-63.632286 44.654755)     1  "
      ]
     },
     "execution_count": 832,
     "metadata": {},
     "output_type": "execute_result"
    }
   ],
   "source": [
    "data4.head(2)"
   ]
  },
  {
   "cell_type": "code",
   "execution_count": 833,
   "metadata": {},
   "outputs": [],
   "source": [
    "data=data.append(data4[cols])"
   ]
  },
  {
   "cell_type": "code",
   "execution_count": 834,
   "metadata": {},
   "outputs": [],
   "source": [
    "data5=pd.read_csv('Public_Housing_Units_-_Nova_Scotia_Seniors.csv')"
   ]
  },
  {
   "cell_type": "code",
   "execution_count": 835,
   "metadata": {},
   "outputs": [
    {
     "data": {
      "text/html": [
       "<div>\n",
       "<style scoped>\n",
       "    .dataframe tbody tr th:only-of-type {\n",
       "        vertical-align: middle;\n",
       "    }\n",
       "\n",
       "    .dataframe tbody tr th {\n",
       "        vertical-align: top;\n",
       "    }\n",
       "\n",
       "    .dataframe thead th {\n",
       "        text-align: right;\n",
       "    }\n",
       "</style>\n",
       "<table border=\"1\" class=\"dataframe\">\n",
       "  <thead>\n",
       "    <tr style=\"text-align: right;\">\n",
       "      <th></th>\n",
       "      <th>OBJECTID</th>\n",
       "      <th>PROPERTY (Project Number)</th>\n",
       "      <th>PID</th>\n",
       "      <th>Namez</th>\n",
       "      <th>Civic Address</th>\n",
       "      <th>Community</th>\n",
       "      <th>Postal Code</th>\n",
       "      <th>Number of Floors</th>\n",
       "      <th>Residential Units</th>\n",
       "      <th>Housing Authority</th>\n",
       "      <th>...</th>\n",
       "      <th>OIL Heat</th>\n",
       "      <th>ELECTRIC Heat</th>\n",
       "      <th>Public WATER</th>\n",
       "      <th>Well Water</th>\n",
       "      <th>Public Sewer</th>\n",
       "      <th>Long</th>\n",
       "      <th>Lat</th>\n",
       "      <th>Location</th>\n",
       "      <th>Type</th>\n",
       "      <th>Name</th>\n",
       "    </tr>\n",
       "  </thead>\n",
       "  <tbody>\n",
       "    <tr>\n",
       "      <th>0</th>\n",
       "      <td>117</td>\n",
       "      <td>330101X</td>\n",
       "      <td>65032708</td>\n",
       "      <td>Riverton Heights I</td>\n",
       "      <td>19/27/29 Riverton Heights Drive</td>\n",
       "      <td>Pictou County</td>\n",
       "      <td>B0K 1S0</td>\n",
       "      <td>2</td>\n",
       "      <td>20</td>\n",
       "      <td>Eastern Mainland Housing Authority</td>\n",
       "      <td>...</td>\n",
       "      <td>Y</td>\n",
       "      <td>N</td>\n",
       "      <td>N</td>\n",
       "      <td>Y</td>\n",
       "      <td>Y</td>\n",
       "      <td>-62.666417</td>\n",
       "      <td>45.543238</td>\n",
       "      <td>(45.543238, -62.666417)</td>\n",
       "      <td>0</td>\n",
       "      <td>Riverton Heights IEastern Mainland Housing Aut...</td>\n",
       "    </tr>\n",
       "    <tr>\n",
       "      <th>1</th>\n",
       "      <td>324</td>\n",
       "      <td>200214X</td>\n",
       "      <td>50067362</td>\n",
       "      <td>Bellevue</td>\n",
       "      <td>10 Grand Etang</td>\n",
       "      <td>Grand Etang</td>\n",
       "      <td>B0E 1L0</td>\n",
       "      <td>2</td>\n",
       "      <td>15</td>\n",
       "      <td>Cape Breton Island Housing Authority</td>\n",
       "      <td>...</td>\n",
       "      <td>N</td>\n",
       "      <td>Y</td>\n",
       "      <td>N</td>\n",
       "      <td>Y</td>\n",
       "      <td>N</td>\n",
       "      <td>-61.055994</td>\n",
       "      <td>46.537269</td>\n",
       "      <td>(46.537269, -61.055994)</td>\n",
       "      <td>0</td>\n",
       "      <td>BellevueCape Breton Island Housing Authority</td>\n",
       "    </tr>\n",
       "  </tbody>\n",
       "</table>\n",
       "<p>2 rows × 22 columns</p>\n",
       "</div>"
      ],
      "text/plain": [
       "   OBJECTID PROPERTY (Project Number)       PID               Namez  \\\n",
       "0       117                   330101X  65032708  Riverton Heights I   \n",
       "1       324                   200214X  50067362            Bellevue   \n",
       "\n",
       "                     Civic Address      Community Postal Code  \\\n",
       "0  19/27/29 Riverton Heights Drive  Pictou County     B0K 1S0   \n",
       "1                   10 Grand Etang    Grand Etang     B0E 1L0   \n",
       "\n",
       "   Number of Floors  Residential Units                     Housing Authority  \\\n",
       "0                 2                 20    Eastern Mainland Housing Authority   \n",
       "1                 2                 15  Cape Breton Island Housing Authority   \n",
       "\n",
       "                         ...                         OIL Heat ELECTRIC Heat  \\\n",
       "0                        ...                                Y             N   \n",
       "1                        ...                                N             Y   \n",
       "\n",
       "  Public WATER Well Water Public Sewer       Long        Lat  \\\n",
       "0            N          Y            Y -62.666417  45.543238   \n",
       "1            N          Y            N -61.055994  46.537269   \n",
       "\n",
       "                  Location  Type  \\\n",
       "0  (45.543238, -62.666417)     0   \n",
       "1  (46.537269, -61.055994)     0   \n",
       "\n",
       "                                                Name  \n",
       "0  Riverton Heights IEastern Mainland Housing Aut...  \n",
       "1       BellevueCape Breton Island Housing Authority  \n",
       "\n",
       "[2 rows x 22 columns]"
      ]
     },
     "execution_count": 835,
     "metadata": {},
     "output_type": "execute_result"
    }
   ],
   "source": [
    "data5.head(2)"
   ]
  },
  {
   "cell_type": "code",
   "execution_count": 836,
   "metadata": {},
   "outputs": [],
   "source": [
    "data=data.append(data5[cols])"
   ]
  },
  {
   "cell_type": "code",
   "execution_count": 837,
   "metadata": {},
   "outputs": [],
   "source": [
    "data6=pd.read_csv('Register_of_Private_Career_Colleges.csv')"
   ]
  },
  {
   "cell_type": "code",
   "execution_count": 838,
   "metadata": {},
   "outputs": [
    {
     "data": {
      "text/html": [
       "<div>\n",
       "<style scoped>\n",
       "    .dataframe tbody tr th:only-of-type {\n",
       "        vertical-align: middle;\n",
       "    }\n",
       "\n",
       "    .dataframe tbody tr th {\n",
       "        vertical-align: top;\n",
       "    }\n",
       "\n",
       "    .dataframe thead th {\n",
       "        text-align: right;\n",
       "    }\n",
       "</style>\n",
       "<table border=\"1\" class=\"dataframe\">\n",
       "  <thead>\n",
       "    <tr style=\"text-align: right;\">\n",
       "      <th></th>\n",
       "      <th>Date (yyyy-mm-dd)</th>\n",
       "      <th>Name</th>\n",
       "      <th>Program</th>\n",
       "      <th>Center Name</th>\n",
       "      <th>Street Address</th>\n",
       "      <th>Suite/Floor/Mailbox</th>\n",
       "      <th>City/Town</th>\n",
       "      <th>Province</th>\n",
       "      <th>Postal Code</th>\n",
       "      <th>Mailing Address - PO Box/Street</th>\n",
       "      <th>...</th>\n",
       "      <th>Fax</th>\n",
       "      <th>Toll Free</th>\n",
       "      <th>Web</th>\n",
       "      <th>Location</th>\n",
       "      <th>Longz</th>\n",
       "      <th>Long</th>\n",
       "      <th>Latitude</th>\n",
       "      <th>Latz</th>\n",
       "      <th>Lat</th>\n",
       "      <th>Type</th>\n",
       "    </tr>\n",
       "  </thead>\n",
       "  <tbody>\n",
       "    <tr>\n",
       "      <th>0</th>\n",
       "      <td>12/9/2019</td>\n",
       "      <td>Academy of Cosmetology</td>\n",
       "      <td>Cosmetology-Hairdressing</td>\n",
       "      <td>NaN</td>\n",
       "      <td>363 Windmill Road</td>\n",
       "      <td>NaN</td>\n",
       "      <td>Dartmouth</td>\n",
       "      <td>NS</td>\n",
       "      <td>B3A 1J2</td>\n",
       "      <td>NaN</td>\n",
       "      <td>...</td>\n",
       "      <td>902-461-4625</td>\n",
       "      <td>NaN</td>\n",
       "      <td>http://www.academyofcosmetology.com</td>\n",
       "      <td>(44.680924, -63.595946)</td>\n",
       "      <td>-63.595946</td>\n",
       "      <td>-63.595946</td>\n",
       "      <td>44.680924</td>\n",
       "      <td>44.680924</td>\n",
       "      <td>44.680924</td>\n",
       "      <td>1</td>\n",
       "    </tr>\n",
       "    <tr>\n",
       "      <th>1</th>\n",
       "      <td>12/9/2019</td>\n",
       "      <td>Academy of Cosmetology</td>\n",
       "      <td>Esthetics</td>\n",
       "      <td>NaN</td>\n",
       "      <td>363 Windmill Road</td>\n",
       "      <td>NaN</td>\n",
       "      <td>Dartmouth</td>\n",
       "      <td>NS</td>\n",
       "      <td>B3A 1J2</td>\n",
       "      <td>NaN</td>\n",
       "      <td>...</td>\n",
       "      <td>902-461-4625</td>\n",
       "      <td>NaN</td>\n",
       "      <td>http://www.academyofcosmetology.com</td>\n",
       "      <td>(44.680924, -63.595946)</td>\n",
       "      <td>-63.595946</td>\n",
       "      <td>-63.595946</td>\n",
       "      <td>44.680924</td>\n",
       "      <td>44.680924</td>\n",
       "      <td>44.680924</td>\n",
       "      <td>1</td>\n",
       "    </tr>\n",
       "  </tbody>\n",
       "</table>\n",
       "<p>2 rows × 29 columns</p>\n",
       "</div>"
      ],
      "text/plain": [
       "  Date (yyyy-mm-dd)                    Name                   Program  \\\n",
       "0         12/9/2019  Academy of Cosmetology  Cosmetology-Hairdressing   \n",
       "1         12/9/2019  Academy of Cosmetology                 Esthetics   \n",
       "\n",
       "  Center Name    Street Address  Suite/Floor/Mailbox  City/Town Province  \\\n",
       "0         NaN  363 Windmill Road                 NaN  Dartmouth       NS   \n",
       "1         NaN  363 Windmill Road                 NaN  Dartmouth       NS   \n",
       "\n",
       "  Postal Code Mailing Address - PO Box/Street ...            Fax Toll Free  \\\n",
       "0     B3A 1J2                             NaN ...   902-461-4625       NaN   \n",
       "1     B3A 1J2                             NaN ...   902-461-4625       NaN   \n",
       "\n",
       "                                   Web                 Location       Longz  \\\n",
       "0  http://www.academyofcosmetology.com  (44.680924, -63.595946)  -63.595946   \n",
       "1  http://www.academyofcosmetology.com  (44.680924, -63.595946)  -63.595946   \n",
       "\n",
       "        Long   Latitude       Latz        Lat Type  \n",
       "0 -63.595946  44.680924  44.680924  44.680924    1  \n",
       "1 -63.595946  44.680924  44.680924  44.680924    1  \n",
       "\n",
       "[2 rows x 29 columns]"
      ]
     },
     "execution_count": 838,
     "metadata": {},
     "output_type": "execute_result"
    }
   ],
   "source": [
    "data6.head(2)"
   ]
  },
  {
   "cell_type": "code",
   "execution_count": 839,
   "metadata": {},
   "outputs": [],
   "source": [
    "data=data.append(data6[cols])"
   ]
  },
  {
   "cell_type": "code",
   "execution_count": 840,
   "metadata": {},
   "outputs": [],
   "source": [
    "data7=pd.read_csv('Victim_Services_Offices.csv')"
   ]
  },
  {
   "cell_type": "code",
   "execution_count": 841,
   "metadata": {},
   "outputs": [],
   "source": [
    "data=data.append(data7[cols])"
   ]
  },
  {
   "cell_type": "code",
   "execution_count": 842,
   "metadata": {},
   "outputs": [],
   "source": [
    "data8=pd.read_csv('google_tags.csv')"
   ]
  },
  {
   "cell_type": "code",
   "execution_count": 843,
   "metadata": {},
   "outputs": [],
   "source": [
    "data=data.append(data8[cols])"
   ]
  },
  {
   "cell_type": "code",
   "execution_count": 844,
   "metadata": {},
   "outputs": [
    {
     "data": {
      "text/plain": [
       "(454271, 4)"
      ]
     },
     "execution_count": 844,
     "metadata": {},
     "output_type": "execute_result"
    }
   ],
   "source": [
    "data.shape"
   ]
  },
  {
   "cell_type": "code",
   "execution_count": 845,
   "metadata": {},
   "outputs": [
    {
     "data": {
      "text/html": [
       "<div>\n",
       "<style scoped>\n",
       "    .dataframe tbody tr th:only-of-type {\n",
       "        vertical-align: middle;\n",
       "    }\n",
       "\n",
       "    .dataframe tbody tr th {\n",
       "        vertical-align: top;\n",
       "    }\n",
       "\n",
       "    .dataframe thead th {\n",
       "        text-align: right;\n",
       "    }\n",
       "</style>\n",
       "<table border=\"1\" class=\"dataframe\">\n",
       "  <thead>\n",
       "    <tr style=\"text-align: right;\">\n",
       "      <th></th>\n",
       "      <th>Name</th>\n",
       "      <th>Long</th>\n",
       "      <th>Lat</th>\n",
       "      <th>Type</th>\n",
       "    </tr>\n",
       "  </thead>\n",
       "  <tbody>\n",
       "    <tr>\n",
       "      <th>0</th>\n",
       "      <td>yes residential housing</td>\n",
       "      <td>-64.023465</td>\n",
       "      <td>45.981043</td>\n",
       "      <td>0</td>\n",
       "    </tr>\n",
       "    <tr>\n",
       "      <th>1</th>\n",
       "      <td>yes residential housing</td>\n",
       "      <td>-64.008231</td>\n",
       "      <td>45.990317</td>\n",
       "      <td>0</td>\n",
       "    </tr>\n",
       "  </tbody>\n",
       "</table>\n",
       "</div>"
      ],
      "text/plain": [
       "                       Name       Long        Lat  Type\n",
       "0  yes residential housing  -64.023465  45.981043     0\n",
       "1  yes residential housing  -64.008231  45.990317     0"
      ]
     },
     "execution_count": 845,
     "metadata": {},
     "output_type": "execute_result"
    }
   ],
   "source": [
    "data.head(2)"
   ]
  },
  {
   "cell_type": "code",
   "execution_count": 846,
   "metadata": {},
   "outputs": [],
   "source": [
    "datan=data[(data['Long'].isnull()==True) |(data['Lat'].isnull()==True) |(data['Type'].isnull()==True) ]"
   ]
  },
  {
   "cell_type": "code",
   "execution_count": 847,
   "metadata": {},
   "outputs": [
    {
     "data": {
      "text/html": [
       "<div>\n",
       "<style scoped>\n",
       "    .dataframe tbody tr th:only-of-type {\n",
       "        vertical-align: middle;\n",
       "    }\n",
       "\n",
       "    .dataframe tbody tr th {\n",
       "        vertical-align: top;\n",
       "    }\n",
       "\n",
       "    .dataframe thead th {\n",
       "        text-align: right;\n",
       "    }\n",
       "</style>\n",
       "<table border=\"1\" class=\"dataframe\">\n",
       "  <thead>\n",
       "    <tr style=\"text-align: right;\">\n",
       "      <th></th>\n",
       "      <th>Name</th>\n",
       "      <th>Long</th>\n",
       "      <th>Lat</th>\n",
       "      <th>Type</th>\n",
       "    </tr>\n",
       "  </thead>\n",
       "  <tbody>\n",
       "    <tr>\n",
       "      <th>557</th>\n",
       "      <td>Influitive Corporation</td>\n",
       "      <td>NaN</td>\n",
       "      <td>NaN</td>\n",
       "      <td>1</td>\n",
       "    </tr>\n",
       "    <tr>\n",
       "      <th>566</th>\n",
       "      <td>Columbus AI</td>\n",
       "      <td>NaN</td>\n",
       "      <td>NaN</td>\n",
       "      <td>1</td>\n",
       "    </tr>\n",
       "    <tr>\n",
       "      <th>744</th>\n",
       "      <td>Clearwater Fine Foods (Europe) Ltd</td>\n",
       "      <td>NaN</td>\n",
       "      <td>NaN</td>\n",
       "      <td>1</td>\n",
       "    </tr>\n",
       "    <tr>\n",
       "      <th>745</th>\n",
       "      <td>Clearwater Fine Foods (Europe) Ltd</td>\n",
       "      <td>NaN</td>\n",
       "      <td>NaN</td>\n",
       "      <td>1</td>\n",
       "    </tr>\n",
       "  </tbody>\n",
       "</table>\n",
       "</div>"
      ],
      "text/plain": [
       "                                   Name  Long  Lat  Type\n",
       "557              Influitive Corporation   NaN  NaN     1\n",
       "566                         Columbus AI   NaN  NaN     1\n",
       "744  Clearwater Fine Foods (Europe) Ltd   NaN  NaN     1\n",
       "745  Clearwater Fine Foods (Europe) Ltd   NaN  NaN     1"
      ]
     },
     "execution_count": 847,
     "metadata": {},
     "output_type": "execute_result"
    }
   ],
   "source": [
    "datan"
   ]
  },
  {
   "cell_type": "code",
   "execution_count": 848,
   "metadata": {},
   "outputs": [],
   "source": [
    "l2=datan.index.tolist()"
   ]
  },
  {
   "cell_type": "code",
   "execution_count": 849,
   "metadata": {},
   "outputs": [
    {
     "data": {
      "text/plain": [
       "4"
      ]
     },
     "execution_count": 849,
     "metadata": {},
     "output_type": "execute_result"
    }
   ],
   "source": [
    "len(l2)"
   ]
  },
  {
   "cell_type": "code",
   "execution_count": 850,
   "metadata": {},
   "outputs": [],
   "source": [
    "#data.drop(datan.index,inplace=True)\n",
    "data.drop(l2,inplace=True)"
   ]
  },
  {
   "cell_type": "code",
   "execution_count": 851,
   "metadata": {},
   "outputs": [],
   "source": [
    "datan=data[(data['Long'].isnull()==True) |(data['Lat'].isnull()==True) |(data['Type'].isnull()==True) ]"
   ]
  },
  {
   "cell_type": "code",
   "execution_count": 852,
   "metadata": {},
   "outputs": [
    {
     "data": {
      "text/html": [
       "<div>\n",
       "<style scoped>\n",
       "    .dataframe tbody tr th:only-of-type {\n",
       "        vertical-align: middle;\n",
       "    }\n",
       "\n",
       "    .dataframe tbody tr th {\n",
       "        vertical-align: top;\n",
       "    }\n",
       "\n",
       "    .dataframe thead th {\n",
       "        text-align: right;\n",
       "    }\n",
       "</style>\n",
       "<table border=\"1\" class=\"dataframe\">\n",
       "  <thead>\n",
       "    <tr style=\"text-align: right;\">\n",
       "      <th></th>\n",
       "      <th>Name</th>\n",
       "      <th>Long</th>\n",
       "      <th>Lat</th>\n",
       "      <th>Type</th>\n",
       "    </tr>\n",
       "  </thead>\n",
       "  <tbody>\n",
       "  </tbody>\n",
       "</table>\n",
       "</div>"
      ],
      "text/plain": [
       "Empty DataFrame\n",
       "Columns: [Name, Long, Lat, Type]\n",
       "Index: []"
      ]
     },
     "execution_count": 852,
     "metadata": {},
     "output_type": "execute_result"
    }
   ],
   "source": [
    "datan"
   ]
  },
  {
   "cell_type": "code",
   "execution_count": 853,
   "metadata": {},
   "outputs": [
    {
     "data": {
      "text/plain": [
       "(454263, 4)"
      ]
     },
     "execution_count": 853,
     "metadata": {},
     "output_type": "execute_result"
    }
   ],
   "source": [
    "data.shape"
   ]
  },
  {
   "cell_type": "code",
   "execution_count": 854,
   "metadata": {},
   "outputs": [
    {
     "data": {
      "text/html": [
       "<div>\n",
       "<style scoped>\n",
       "    .dataframe tbody tr th:only-of-type {\n",
       "        vertical-align: middle;\n",
       "    }\n",
       "\n",
       "    .dataframe tbody tr th {\n",
       "        vertical-align: top;\n",
       "    }\n",
       "\n",
       "    .dataframe thead th {\n",
       "        text-align: right;\n",
       "    }\n",
       "</style>\n",
       "<table border=\"1\" class=\"dataframe\">\n",
       "  <thead>\n",
       "    <tr style=\"text-align: right;\">\n",
       "      <th></th>\n",
       "      <th>Name</th>\n",
       "      <th>Long</th>\n",
       "      <th>Lat</th>\n",
       "      <th>Type</th>\n",
       "    </tr>\n",
       "  </thead>\n",
       "  <tbody>\n",
       "    <tr>\n",
       "      <th>0</th>\n",
       "      <td>yes residential housing</td>\n",
       "      <td>-64.023465</td>\n",
       "      <td>45.981043</td>\n",
       "      <td>0</td>\n",
       "    </tr>\n",
       "    <tr>\n",
       "      <th>1</th>\n",
       "      <td>yes residential housing</td>\n",
       "      <td>-64.008231</td>\n",
       "      <td>45.990317</td>\n",
       "      <td>0</td>\n",
       "    </tr>\n",
       "    <tr>\n",
       "      <th>2</th>\n",
       "      <td>yes residential housing</td>\n",
       "      <td>-64.005109</td>\n",
       "      <td>45.990115</td>\n",
       "      <td>0</td>\n",
       "    </tr>\n",
       "    <tr>\n",
       "      <th>3</th>\n",
       "      <td>yes residential housing</td>\n",
       "      <td>-64.003100</td>\n",
       "      <td>45.991033</td>\n",
       "      <td>0</td>\n",
       "    </tr>\n",
       "    <tr>\n",
       "      <th>4</th>\n",
       "      <td>yes residential housing</td>\n",
       "      <td>-64.003262</td>\n",
       "      <td>45.991681</td>\n",
       "      <td>0</td>\n",
       "    </tr>\n",
       "  </tbody>\n",
       "</table>\n",
       "</div>"
      ],
      "text/plain": [
       "                       Name       Long        Lat  Type\n",
       "0  yes residential housing  -64.023465  45.981043     0\n",
       "1  yes residential housing  -64.008231  45.990317     0\n",
       "2  yes residential housing  -64.005109  45.990115     0\n",
       "3  yes residential housing  -64.003100  45.991033     0\n",
       "4  yes residential housing  -64.003262  45.991681     0"
      ]
     },
     "execution_count": 854,
     "metadata": {},
     "output_type": "execute_result"
    }
   ],
   "source": [
    "data.head()"
   ]
  },
  {
   "cell_type": "code",
   "execution_count": 855,
   "metadata": {},
   "outputs": [
    {
     "data": {
      "text/plain": [
       "Name     object\n",
       "Long    float64\n",
       "Lat     float64\n",
       "Type      int64\n",
       "dtype: object"
      ]
     },
     "execution_count": 855,
     "metadata": {},
     "output_type": "execute_result"
    }
   ],
   "source": [
    "data.dtypes"
   ]
  },
  {
   "cell_type": "code",
   "execution_count": 856,
   "metadata": {},
   "outputs": [],
   "source": [
    "data.to_csv('clubbeddata.csv')"
   ]
  },
  {
   "cell_type": "code",
   "execution_count": 10,
   "metadata": {},
   "outputs": [],
   "source": [
    "data=pd.read_csv('clubbeddata.csv')"
   ]
  },
  {
   "cell_type": "code",
   "execution_count": 23,
   "metadata": {},
   "outputs": [
    {
     "data": {
      "text/html": [
       "<div>\n",
       "<style scoped>\n",
       "    .dataframe tbody tr th:only-of-type {\n",
       "        vertical-align: middle;\n",
       "    }\n",
       "\n",
       "    .dataframe tbody tr th {\n",
       "        vertical-align: top;\n",
       "    }\n",
       "\n",
       "    .dataframe thead th {\n",
       "        text-align: right;\n",
       "    }\n",
       "</style>\n",
       "<table border=\"1\" class=\"dataframe\">\n",
       "  <thead>\n",
       "    <tr style=\"text-align: right;\">\n",
       "      <th></th>\n",
       "      <th>Unnamed: 0</th>\n",
       "      <th>Name</th>\n",
       "      <th>Long</th>\n",
       "      <th>Lat</th>\n",
       "      <th>Type</th>\n",
       "    </tr>\n",
       "  </thead>\n",
       "  <tbody>\n",
       "    <tr>\n",
       "      <th>0</th>\n",
       "      <td>0</td>\n",
       "      <td>yes residential housing</td>\n",
       "      <td>-64.023465</td>\n",
       "      <td>45.981043</td>\n",
       "      <td>0</td>\n",
       "    </tr>\n",
       "    <tr>\n",
       "      <th>1</th>\n",
       "      <td>1</td>\n",
       "      <td>yes residential housing</td>\n",
       "      <td>-64.008231</td>\n",
       "      <td>45.990317</td>\n",
       "      <td>0</td>\n",
       "    </tr>\n",
       "    <tr>\n",
       "      <th>2</th>\n",
       "      <td>2</td>\n",
       "      <td>yes residential housing</td>\n",
       "      <td>-64.005109</td>\n",
       "      <td>45.990115</td>\n",
       "      <td>0</td>\n",
       "    </tr>\n",
       "    <tr>\n",
       "      <th>3</th>\n",
       "      <td>3</td>\n",
       "      <td>yes residential housing</td>\n",
       "      <td>-64.003100</td>\n",
       "      <td>45.991033</td>\n",
       "      <td>0</td>\n",
       "    </tr>\n",
       "  </tbody>\n",
       "</table>\n",
       "</div>"
      ],
      "text/plain": [
       "   Unnamed: 0                      Name       Long        Lat  Type\n",
       "0           0  yes residential housing  -64.023465  45.981043     0\n",
       "1           1  yes residential housing  -64.008231  45.990317     0\n",
       "2           2  yes residential housing  -64.005109  45.990115     0\n",
       "3           3  yes residential housing  -64.003100  45.991033     0"
      ]
     },
     "execution_count": 23,
     "metadata": {},
     "output_type": "execute_result"
    }
   ],
   "source": [
    "data.head(4)"
   ]
  },
  {
   "cell_type": "code",
   "execution_count": 2,
   "metadata": {},
   "outputs": [
    {
     "name": "stdout",
     "output_type": "stream",
     "text": [
      "[nltk_data] Downloading package stopwords to\n",
      "[nltk_data]     C:\\Users\\Parijat\\AppData\\Roaming\\nltk_data...\n",
      "[nltk_data]   Package stopwords is already up-to-date!\n"
     ]
    }
   ],
   "source": [
    "nltk.download('stopwords')\n",
    "from nltk.corpus import stopwords\n",
    "from nltk.stem.porter import PorterStemmer\n",
    "corpus = []"
   ]
  },
  {
   "cell_type": "code",
   "execution_count": 859,
   "metadata": {},
   "outputs": [],
   "source": [
    "#breaks"
   ]
  },
  {
   "cell_type": "code",
   "execution_count": 860,
   "metadata": {
    "scrolled": false
   },
   "outputs": [],
   "source": [
    "for i in range(0, len(data)):\n",
    "    #print(i)\n",
    "    review = re.sub('[^a-zA-Z]', ' ', data.iloc[i,0])\n",
    "    review = review.lower()\n",
    "    review = review.split()\n",
    "    ps = PorterStemmer()\n",
    "    review = [ps.stem(word) for word in review if not word in set(stopwords.words('english'))]\n",
    "    review = ' '.join(review)\n",
    "    corpus.append(review)"
   ]
  },
  {
   "cell_type": "code",
   "execution_count": 861,
   "metadata": {},
   "outputs": [],
   "source": [
    "with open('corpus.pkl','wb') as f:\n",
    "    pickle.dump(corpus,f)"
   ]
  },
  {
   "cell_type": "code",
   "execution_count": 12,
   "metadata": {},
   "outputs": [],
   "source": [
    "with open('corpus.pkl','rb') as f:\n",
    "    corpus=pickle.load(f)"
   ]
  },
  {
   "cell_type": "code",
   "execution_count": 4,
   "metadata": {},
   "outputs": [],
   "source": [
    "#l=[x for x in corpus if x!='premis build hous']"
   ]
  },
  {
   "cell_type": "code",
   "execution_count": 5,
   "metadata": {},
   "outputs": [],
   "source": [
    "#l"
   ]
  },
  {
   "cell_type": "code",
   "execution_count": 6,
   "metadata": {},
   "outputs": [
    {
     "data": {
      "text/plain": [
       "454263"
      ]
     },
     "execution_count": 6,
     "metadata": {},
     "output_type": "execute_result"
    }
   ],
   "source": [
    "len(corpus)"
   ]
  },
  {
   "cell_type": "code",
   "execution_count": 7,
   "metadata": {},
   "outputs": [
    {
     "ename": "NameError",
     "evalue": "name 'data' is not defined",
     "output_type": "error",
     "traceback": [
      "\u001b[1;31m---------------------------------------------------------------------------\u001b[0m",
      "\u001b[1;31mNameError\u001b[0m                                 Traceback (most recent call last)",
      "\u001b[1;32m<ipython-input-7-f9a8800d572d>\u001b[0m in \u001b[0;36m<module>\u001b[1;34m()\u001b[0m\n\u001b[0;32m      4\u001b[0m \u001b[0mcv\u001b[0m \u001b[1;33m=\u001b[0m \u001b[0mCountVectorizer\u001b[0m\u001b[1;33m(\u001b[0m\u001b[1;33m)\u001b[0m\u001b[1;33m\u001b[0m\u001b[0m\n\u001b[0;32m      5\u001b[0m \u001b[0mx\u001b[0m \u001b[1;33m=\u001b[0m \u001b[0mcv\u001b[0m\u001b[1;33m.\u001b[0m\u001b[0mfit_transform\u001b[0m\u001b[1;33m(\u001b[0m\u001b[0mcorpus\u001b[0m\u001b[1;33m)\u001b[0m\u001b[1;33m.\u001b[0m\u001b[0mtoarray\u001b[0m\u001b[1;33m(\u001b[0m\u001b[1;33m)\u001b[0m\u001b[1;33m\u001b[0m\u001b[0m\n\u001b[1;32m----> 6\u001b[1;33m \u001b[0my\u001b[0m \u001b[1;33m=\u001b[0m \u001b[0mdata\u001b[0m\u001b[1;33m.\u001b[0m\u001b[0miloc\u001b[0m\u001b[1;33m[\u001b[0m\u001b[1;33m:\u001b[0m\u001b[1;33m,\u001b[0m \u001b[1;36m3\u001b[0m\u001b[1;33m]\u001b[0m\u001b[1;33m.\u001b[0m\u001b[0mvalues\u001b[0m\u001b[1;33m\u001b[0m\u001b[0m\n\u001b[0m",
      "\u001b[1;31mNameError\u001b[0m: name 'data' is not defined"
     ]
    }
   ],
   "source": [
    "# Creating the Bag of Words model\n",
    "from sklearn.feature_extraction.text import CountVectorizer\n",
    "cv = CountVectorizer(max_features = 1380)\n",
    "#cv = CountVectorizer()\n",
    "x = cv.fit_transform(corpus).toarray()\n",
    "y = data.iloc[:, 4].values"
   ]
  },
  {
   "cell_type": "code",
   "execution_count": 13,
   "metadata": {},
   "outputs": [],
   "source": [
    "#y = data.iloc[:, 4].values"
   ]
  },
  {
   "cell_type": "code",
   "execution_count": 25,
   "metadata": {},
   "outputs": [],
   "source": [
    "with open('cv.pkl', 'wb') as f:\n",
    "    pickle.dump(cv, f)"
   ]
  },
  {
   "cell_type": "code",
   "execution_count": null,
   "metadata": {},
   "outputs": [],
   "source": []
  },
  {
   "cell_type": "code",
   "execution_count": 26,
   "metadata": {},
   "outputs": [
    {
     "data": {
      "text/plain": [
       "(454263, 1380)"
      ]
     },
     "execution_count": 26,
     "metadata": {},
     "output_type": "execute_result"
    }
   ],
   "source": [
    "x.shape"
   ]
  },
  {
   "cell_type": "code",
   "execution_count": 27,
   "metadata": {},
   "outputs": [
    {
     "data": {
      "text/plain": [
       "array([[0, 0, 0, ..., 0, 0, 0],\n",
       "       [0, 0, 0, ..., 0, 0, 0],\n",
       "       [0, 0, 0, ..., 0, 0, 0],\n",
       "       ...,\n",
       "       [0, 0, 0, ..., 0, 0, 0],\n",
       "       [0, 0, 0, ..., 0, 0, 0],\n",
       "       [0, 0, 0, ..., 0, 0, 0]], dtype=int64)"
      ]
     },
     "execution_count": 27,
     "metadata": {},
     "output_type": "execute_result"
    }
   ],
   "source": [
    "x"
   ]
  },
  {
   "cell_type": "code",
   "execution_count": 85,
   "metadata": {},
   "outputs": [
    {
     "data": {
      "text/plain": [
       "(454263, 1380)"
      ]
     },
     "execution_count": 85,
     "metadata": {},
     "output_type": "execute_result"
    }
   ],
   "source": [
    "x.shape"
   ]
  },
  {
   "cell_type": "code",
   "execution_count": 28,
   "metadata": {},
   "outputs": [
    {
     "data": {
      "text/plain": [
       "(454263,)"
      ]
     },
     "execution_count": 28,
     "metadata": {},
     "output_type": "execute_result"
    }
   ],
   "source": [
    "y.shape"
   ]
  },
  {
   "cell_type": "code",
   "execution_count": 29,
   "metadata": {},
   "outputs": [
    {
     "data": {
      "text/plain": [
       "array([0, 0, 0, ..., 1, 1, 1], dtype=int64)"
      ]
     },
     "execution_count": 29,
     "metadata": {},
     "output_type": "execute_result"
    }
   ],
   "source": [
    "y"
   ]
  },
  {
   "cell_type": "code",
   "execution_count": 86,
   "metadata": {},
   "outputs": [
    {
     "data": {
      "text/plain": [
       "(454263,)"
      ]
     },
     "execution_count": 86,
     "metadata": {},
     "output_type": "execute_result"
    }
   ],
   "source": [
    "y.shape"
   ]
  },
  {
   "cell_type": "code",
   "execution_count": null,
   "metadata": {},
   "outputs": [],
   "source": [
    "#data['Long']=data['Long'].astype(float)"
   ]
  },
  {
   "cell_type": "code",
   "execution_count": null,
   "metadata": {},
   "outputs": [],
   "source": [
    "breaks"
   ]
  },
  {
   "cell_type": "code",
   "execution_count": null,
   "metadata": {},
   "outputs": [],
   "source": [
    "#x=np.array(data[['Long','Lat']])"
   ]
  },
  {
   "cell_type": "code",
   "execution_count": null,
   "metadata": {},
   "outputs": [],
   "source": [
    "#x"
   ]
  },
  {
   "cell_type": "code",
   "execution_count": null,
   "metadata": {},
   "outputs": [],
   "source": [
    "#y=np.ravel(data[['Type']])"
   ]
  },
  {
   "cell_type": "code",
   "execution_count": null,
   "metadata": {},
   "outputs": [],
   "source": [
    "#y"
   ]
  },
  {
   "cell_type": "code",
   "execution_count": 11,
   "metadata": {},
   "outputs": [
    {
     "ename": "NameError",
     "evalue": "name 'x' is not defined",
     "output_type": "error",
     "traceback": [
      "\u001b[1;31m---------------------------------------------------------------------------\u001b[0m",
      "\u001b[1;31mNameError\u001b[0m                                 Traceback (most recent call last)",
      "\u001b[1;32m<ipython-input-11-9c2f0ecfdb6f>\u001b[0m in \u001b[0;36m<module>\u001b[1;34m()\u001b[0m\n\u001b[0;32m      1\u001b[0m \u001b[1;32mfrom\u001b[0m \u001b[0msklearn\u001b[0m\u001b[1;33m.\u001b[0m\u001b[0mmodel_selection\u001b[0m \u001b[1;32mimport\u001b[0m \u001b[0mtrain_test_split\u001b[0m\u001b[1;33m\u001b[0m\u001b[0m\n\u001b[1;32m----> 2\u001b[1;33m \u001b[0mx_train\u001b[0m\u001b[1;33m,\u001b[0m \u001b[0mx_test\u001b[0m\u001b[1;33m,\u001b[0m \u001b[0my_train\u001b[0m\u001b[1;33m,\u001b[0m \u001b[0my_test\u001b[0m \u001b[1;33m=\u001b[0m \u001b[0mtrain_test_split\u001b[0m\u001b[1;33m(\u001b[0m\u001b[0mx\u001b[0m\u001b[1;33m,\u001b[0m \u001b[0my\u001b[0m\u001b[1;33m,\u001b[0m \u001b[0mtest_size\u001b[0m \u001b[1;33m=\u001b[0m \u001b[1;36m0.20\u001b[0m\u001b[1;33m,\u001b[0m \u001b[0mrandom_state\u001b[0m \u001b[1;33m=\u001b[0m \u001b[1;36m0\u001b[0m\u001b[1;33m)\u001b[0m\u001b[1;33m\u001b[0m\u001b[0m\n\u001b[0m",
      "\u001b[1;31mNameError\u001b[0m: name 'x' is not defined"
     ]
    }
   ],
   "source": [
    "from sklearn.model_selection import train_test_split\n",
    "x_train, x_test, y_train, y_test = train_test_split(x, y, test_size = 0.20, random_state = 0)"
   ]
  },
  {
   "cell_type": "code",
   "execution_count": 31,
   "metadata": {},
   "outputs": [],
   "source": [
    "with open('x_train.pkl', 'wb') as f:\n",
    "    pickle.dump(x_train, f)"
   ]
  },
  {
   "cell_type": "code",
   "execution_count": 87,
   "metadata": {},
   "outputs": [
    {
     "data": {
      "text/plain": [
       "(363410, 1380)"
      ]
     },
     "execution_count": 87,
     "metadata": {},
     "output_type": "execute_result"
    }
   ],
   "source": [
    "x_train.shape"
   ]
  },
  {
   "cell_type": "code",
   "execution_count": 88,
   "metadata": {},
   "outputs": [
    {
     "data": {
      "text/plain": [
       "array([[0, 0, 0, ..., 0, 0, 0],\n",
       "       [0, 0, 0, ..., 0, 0, 0],\n",
       "       [0, 0, 0, ..., 0, 0, 0],\n",
       "       ...,\n",
       "       [0, 0, 0, ..., 0, 0, 0],\n",
       "       [0, 0, 0, ..., 0, 0, 0],\n",
       "       [0, 0, 0, ..., 0, 0, 0]], dtype=int64)"
      ]
     },
     "execution_count": 88,
     "metadata": {},
     "output_type": "execute_result"
    }
   ],
   "source": [
    "x_train"
   ]
  },
  {
   "cell_type": "code",
   "execution_count": 32,
   "metadata": {},
   "outputs": [],
   "source": [
    "with open('x_test.pkl', 'wb') as f:\n",
    "    pickle.dump(x_test, f)"
   ]
  },
  {
   "cell_type": "code",
   "execution_count": 19,
   "metadata": {},
   "outputs": [
    {
     "data": {
      "text/plain": [
       "dtype('int64')"
      ]
     },
     "execution_count": 19,
     "metadata": {},
     "output_type": "execute_result"
    }
   ],
   "source": [
    "x_test.dtype"
   ]
  },
  {
   "cell_type": "code",
   "execution_count": 33,
   "metadata": {},
   "outputs": [],
   "source": [
    "with open('y_train.pkl', 'wb') as f:\n",
    "    pickle.dump(y_train, f)"
   ]
  },
  {
   "cell_type": "code",
   "execution_count": null,
   "metadata": {},
   "outputs": [],
   "source": []
  },
  {
   "cell_type": "code",
   "execution_count": 34,
   "metadata": {},
   "outputs": [],
   "source": [
    "with open('y_test.pkl', 'wb') as f:\n",
    "    pickle.dump(y_test, f)"
   ]
  },
  {
   "cell_type": "code",
   "execution_count": 26,
   "metadata": {},
   "outputs": [],
   "source": [
    "def accuracy(confusion_matrix):\n",
    "    diagonal_sum = confusion_matrix.trace()\n",
    "    sum_of_all_elements = confusion_matrix.sum()\n",
    "    return diagonal_sum / sum_of_all_elements "
   ]
  },
  {
   "cell_type": "code",
   "execution_count": 36,
   "metadata": {},
   "outputs": [
    {
     "name": "stdout",
     "output_type": "stream",
     "text": [
      "NB Accuracy: 100.0 %\n"
     ]
    }
   ],
   "source": [
    "# Naive Bayes Classifier------------------------>>>\n",
    "from sklearn.naive_bayes import GaussianNB\n",
    "classifier = GaussianNB()\n",
    "classifier.fit(x_train, y_train)\n",
    "\n",
    "# Predicting the Test set results\n",
    "y_pred = classifier.predict(x_test)\n",
    "\n",
    "# Making the Confusion Matrix\n",
    "from sklearn.metrics import confusion_matrix\n",
    "cm = confusion_matrix(y_test, y_pred)\n",
    "\n",
    "print('NB Accuracy:',accuracy(cm)*100,'%')\n",
    "\n",
    "# saving the DT model \n",
    "filename = 'NB_model.sav'\n",
    "pickle.dump(classifier, open(filename, 'wb'))"
   ]
  },
  {
   "cell_type": "code",
   "execution_count": 95,
   "metadata": {},
   "outputs": [
    {
     "ename": "AttributeError",
     "evalue": "'GaussianNB' object has no attribute 'shape'",
     "output_type": "error",
     "traceback": [
      "\u001b[1;31m---------------------------------------------------------------------------\u001b[0m",
      "\u001b[1;31mAttributeError\u001b[0m                            Traceback (most recent call last)",
      "\u001b[1;32m<ipython-input-95-b30ae9a072bf>\u001b[0m in \u001b[0;36m<module>\u001b[1;34m()\u001b[0m\n\u001b[1;32m----> 1\u001b[1;33m \u001b[0mclassifier\u001b[0m\u001b[1;33m.\u001b[0m\u001b[0mshape\u001b[0m\u001b[1;33m(\u001b[0m\u001b[1;33m)\u001b[0m\u001b[1;33m\u001b[0m\u001b[0m\n\u001b[0m",
      "\u001b[1;31mAttributeError\u001b[0m: 'GaussianNB' object has no attribute 'shape'"
     ]
    }
   ],
   "source": [
    "#classifier.shape()"
   ]
  },
  {
   "cell_type": "code",
   "execution_count": 96,
   "metadata": {},
   "outputs": [
    {
     "name": "stdout",
     "output_type": "stream",
     "text": [
      "RF Accuracy: 100.0 %\n"
     ]
    }
   ],
   "source": [
    "from sklearn.ensemble import RandomForestClassifier\n",
    "classifier = RandomForestClassifier(n_estimators = 50, criterion = 'entropy', random_state = 0)\n",
    "classifier.fit(x_train, y_train)\n",
    "\n",
    "# Predicting the Test set results\n",
    "y_pred = classifier.predict(x_test)\n",
    "\n",
    "# Making the Confusion Matrix\n",
    "from sklearn.metrics import confusion_matrix\n",
    "cm = confusion_matrix(y_test, y_pred)\n",
    "\n",
    "print('RF Accuracy:',accuracy(cm)*100,'%')"
   ]
  },
  {
   "cell_type": "code",
   "execution_count": 97,
   "metadata": {},
   "outputs": [],
   "source": [
    "# saving the DT model \n",
    "filename = 'RF_model.sav'\n",
    "pickle.dump(classifier, open(filename, 'wb'))"
   ]
  },
  {
   "cell_type": "code",
   "execution_count": 5,
   "metadata": {},
   "outputs": [],
   "source": [
    "with open('x_train.pkl','rb') as f:\n",
    "    x_train=pickle.load(f)"
   ]
  },
  {
   "cell_type": "code",
   "execution_count": 20,
   "metadata": {},
   "outputs": [
    {
     "data": {
      "text/plain": [
       "dtype('int64')"
      ]
     },
     "execution_count": 20,
     "metadata": {},
     "output_type": "execute_result"
    }
   ],
   "source": [
    "x_train.dtype"
   ]
  },
  {
   "cell_type": "code",
   "execution_count": 6,
   "metadata": {},
   "outputs": [],
   "source": [
    "with open('y_train.pkl','rb') as f:\n",
    "    y_train=pickle.load(f)   "
   ]
  },
  {
   "cell_type": "code",
   "execution_count": 21,
   "metadata": {},
   "outputs": [
    {
     "data": {
      "text/plain": [
       "dtype('int64')"
      ]
     },
     "execution_count": 21,
     "metadata": {},
     "output_type": "execute_result"
    }
   ],
   "source": [
    "y_train.dtype"
   ]
  },
  {
   "cell_type": "code",
   "execution_count": 7,
   "metadata": {},
   "outputs": [],
   "source": [
    "with open('x_test.pkl','rb') as f:\n",
    "    x_test=pickle.load(f)  "
   ]
  },
  {
   "cell_type": "code",
   "execution_count": 22,
   "metadata": {},
   "outputs": [
    {
     "data": {
      "text/plain": [
       "dtype('int64')"
      ]
     },
     "execution_count": 22,
     "metadata": {},
     "output_type": "execute_result"
    }
   ],
   "source": [
    "x_test.dtype"
   ]
  },
  {
   "cell_type": "code",
   "execution_count": 8,
   "metadata": {},
   "outputs": [],
   "source": [
    "with open('y_test.pkl','rb') as f:\n",
    "    y_test=pickle.load(f) "
   ]
  },
  {
   "cell_type": "code",
   "execution_count": 23,
   "metadata": {},
   "outputs": [
    {
     "data": {
      "text/plain": [
       "dtype('int64')"
      ]
     },
     "execution_count": 23,
     "metadata": {},
     "output_type": "execute_result"
    }
   ],
   "source": [
    "y_test.dtype"
   ]
  },
  {
   "cell_type": "code",
   "execution_count": 24,
   "metadata": {},
   "outputs": [
    {
     "ename": "NameError",
     "evalue": "name 'accuracy' is not defined",
     "output_type": "error",
     "traceback": [
      "\u001b[1;31m---------------------------------------------------------------------------\u001b[0m",
      "\u001b[1;31mNameError\u001b[0m                                 Traceback (most recent call last)",
      "\u001b[1;32m<ipython-input-24-3cb71c7e0a66>\u001b[0m in \u001b[0;36m<module>\u001b[1;34m()\u001b[0m\n\u001b[0;32m     10\u001b[0m \u001b[0mcm\u001b[0m \u001b[1;33m=\u001b[0m \u001b[0mconfusion_matrix\u001b[0m\u001b[1;33m(\u001b[0m\u001b[0my_test\u001b[0m\u001b[1;33m,\u001b[0m \u001b[0my_pred\u001b[0m\u001b[1;33m)\u001b[0m\u001b[1;33m\u001b[0m\u001b[0m\n\u001b[0;32m     11\u001b[0m \u001b[1;33m\u001b[0m\u001b[0m\n\u001b[1;32m---> 12\u001b[1;33m \u001b[0mprint\u001b[0m\u001b[1;33m(\u001b[0m\u001b[1;34m'SVM Accuracy:'\u001b[0m\u001b[1;33m,\u001b[0m\u001b[0maccuracy\u001b[0m\u001b[1;33m(\u001b[0m\u001b[0mcm\u001b[0m\u001b[1;33m)\u001b[0m\u001b[1;33m*\u001b[0m\u001b[1;36m100\u001b[0m\u001b[1;33m,\u001b[0m\u001b[1;34m'%'\u001b[0m\u001b[1;33m)\u001b[0m\u001b[1;33m\u001b[0m\u001b[0m\n\u001b[0m",
      "\u001b[1;31mNameError\u001b[0m: name 'accuracy' is not defined"
     ]
    }
   ],
   "source": [
    "from sklearn.svm import SVC\n",
    "classifier = SVC(kernel='linear')\n",
    "classifier.fit(x_train, y_train) \n",
    "\n",
    "# Predicting the Test set results\n",
    "y_pred = classifier.predict(x_test)\n",
    "\n",
    "# Making the Confusion Matrix\n",
    "from sklearn.metrics import confusion_matrix\n",
    "cm = confusion_matrix(y_test, y_pred)\n",
    "\n",
    "print('SVM Accuracy:',accuracy(cm)*100,'%')"
   ]
  },
  {
   "cell_type": "code",
   "execution_count": 27,
   "metadata": {},
   "outputs": [
    {
     "name": "stdout",
     "output_type": "stream",
     "text": [
      "SVM Accuracy: 100.0 %\n"
     ]
    }
   ],
   "source": [
    "print('SVM Accuracy:',accuracy(cm)*100,'%')"
   ]
  },
  {
   "cell_type": "code",
   "execution_count": 28,
   "metadata": {},
   "outputs": [],
   "source": [
    "# saving the DT model \n",
    "filename = 'SVM_model.sav'\n",
    "pickle.dump(classifier, open(filename, 'wb'))"
   ]
  },
  {
   "cell_type": "code",
   "execution_count": 37,
   "metadata": {},
   "outputs": [],
   "source": [
    "engine_nb = pickle.load(open('NB_model.sav', 'rb'))\n",
    "#result = cls_engine.score(x_test, y_test)\n",
    "#print(result)"
   ]
  },
  {
   "cell_type": "code",
   "execution_count": 150,
   "metadata": {},
   "outputs": [],
   "source": [
    "engine_rf = pickle.load(open('RF_model.sav', 'rb'))\n",
    "#result = cls_engine.score(x_test, y_test)\n",
    "#print(result)"
   ]
  },
  {
   "cell_type": "code",
   "execution_count": 29,
   "metadata": {},
   "outputs": [],
   "source": [
    "engine_svm = pickle.load(open('SVM_model.sav', 'rb'))\n",
    "#result = cls_engine.score(x_test, y_test)\n",
    "#print(result)"
   ]
  },
  {
   "cell_type": "markdown",
   "metadata": {},
   "source": [
    "# Application"
   ]
  },
  {
   "cell_type": "code",
   "execution_count": 204,
   "metadata": {},
   "outputs": [],
   "source": [
    "with open('apikey.txt') as f:\n",
    "    api_key = f.readline()\n",
    "    f.close"
   ]
  },
  {
   "cell_type": "code",
   "execution_count": 232,
   "metadata": {},
   "outputs": [
    {
     "name": "stdout",
     "output_type": "stream",
     "text": [
      "Type an adress:41 Brundage Lane\n"
     ]
    }
   ],
   "source": [
    "address= input('Type an adress:')"
   ]
  },
  {
   "cell_type": "code",
   "execution_count": 233,
   "metadata": {},
   "outputs": [
    {
     "data": {
      "text/plain": [
       "'41BrundageLane'"
      ]
     },
     "execution_count": 233,
     "metadata": {},
     "output_type": "execute_result"
    }
   ],
   "source": [
    "address_raw=address\n",
    "adrs=re.sub('[^a-zA-Z0-9]', '', address)\n",
    "adrs"
   ]
  },
  {
   "cell_type": "code",
   "execution_count": 234,
   "metadata": {},
   "outputs": [
    {
     "data": {
      "text/plain": [
       "'41 Brundage Lane,NS,Canada'"
      ]
     },
     "execution_count": 234,
     "metadata": {},
     "output_type": "execute_result"
    }
   ],
   "source": [
    "address=address+',NS,Canada'\n",
    "address"
   ]
  },
  {
   "cell_type": "code",
   "execution_count": 235,
   "metadata": {},
   "outputs": [
    {
     "data": {
      "text/plain": [
       "{'place_id': 15019411,\n",
       " 'licence': 'Data © OpenStreetMap contributors, ODbL 1.0. https://osm.org/copyright',\n",
       " 'osm_type': 'way',\n",
       " 'osm_id': 241058475,\n",
       " 'boundingbox': ['45.990354333307',\n",
       "  '45.990454333307',\n",
       "  '-63.980848733151',\n",
       "  '-63.980748733151'],\n",
       " 'lat': '45.990404333307',\n",
       " 'lon': '-63.9807987331509',\n",
       " 'display_name': '41, Brundage Lane, Tidnish Cross Road, Municipality of the County of Cumberland, Cumberland County, Nova Scotia, B4H 3X9, Canada',\n",
       " 'class': 'place',\n",
       " 'type': 'house',\n",
       " 'importance': 0.42099999999999993}"
      ]
     },
     "execution_count": 235,
     "metadata": {},
     "output_type": "execute_result"
    }
   ],
   "source": [
    "from geopy.geocoders import Nominatim\n",
    "geolocator = Nominatim(user_agent=\"XX\")\n",
    "location = geolocator.geocode(address)\n",
    "#print(location)\n",
    "aa=location.raw\n",
    "aa"
   ]
  },
  {
   "cell_type": "code",
   "execution_count": 246,
   "metadata": {},
   "outputs": [
    {
     "name": "stdout",
     "output_type": "stream",
     "text": [
      "hello\n"
     ]
    }
   ],
   "source": [
    "if aa!=None:\n",
    "    print('hello')"
   ]
  },
  {
   "cell_type": "code",
   "execution_count": 247,
   "metadata": {},
   "outputs": [
    {
     "data": {
      "text/plain": [
       "NoneType"
      ]
     },
     "execution_count": 247,
     "metadata": {},
     "output_type": "execute_result"
    }
   ],
   "source": [
    "type(None)"
   ]
  },
  {
   "cell_type": "code",
   "execution_count": 239,
   "metadata": {},
   "outputs": [
    {
     "data": {
      "text/plain": [
       "'45.990404333307'"
      ]
     },
     "execution_count": 239,
     "metadata": {},
     "output_type": "execute_result"
    }
   ],
   "source": [
    "latt=aa['lat']\n",
    "latt"
   ]
  },
  {
   "cell_type": "code",
   "execution_count": 242,
   "metadata": {},
   "outputs": [
    {
     "data": {
      "text/plain": [
       "str"
      ]
     },
     "execution_count": 242,
     "metadata": {},
     "output_type": "execute_result"
    }
   ],
   "source": [
    "longg=aa['lon']\n",
    "type(longg)"
   ]
  },
  {
   "cell_type": "code",
   "execution_count": 245,
   "metadata": {},
   "outputs": [],
   "source": [
    "longg=float(longg)"
   ]
  },
  {
   "cell_type": "code",
   "execution_count": 226,
   "metadata": {},
   "outputs": [
    {
     "data": {
      "text/plain": [
       "('Bank of Montreal Building, 5151, George Street, Downtown Halifax, Halifax, Halifax Regional Municipality, Halifax County, Nova Scotia, B3J 2P8, Canada',\n",
       " 'building',\n",
       " 'yes')"
      ]
     },
     "execution_count": 226,
     "metadata": {},
     "output_type": "execute_result"
    }
   ],
   "source": [
    "a1=aa['display_name']\n",
    "a2=aa['class']\n",
    "a3=aa['type']\n",
    "\n",
    "a1,a2,a3"
   ]
  },
  {
   "cell_type": "code",
   "execution_count": 227,
   "metadata": {},
   "outputs": [
    {
     "data": {
      "text/plain": [
       "['Bank of Montreal Building',\n",
       " '5151',\n",
       " 'George Street',\n",
       " 'Downtown Halifax',\n",
       " 'Halifax',\n",
       " 'Halifax Regional Municipality',\n",
       " 'Halifax County',\n",
       " 'Nova Scotia',\n",
       " 'B3J 2P8',\n",
       " 'Canada']"
      ]
     },
     "execution_count": 227,
     "metadata": {},
     "output_type": "execute_result"
    }
   ],
   "source": [
    "address=a1\n",
    "a12=address.split(', ')\n",
    "a12"
   ]
  },
  {
   "cell_type": "code",
   "execution_count": 228,
   "metadata": {},
   "outputs": [
    {
     "data": {
      "text/plain": [
       "'BankofMontrealBuilding5151'"
      ]
     },
     "execution_count": 228,
     "metadata": {},
     "output_type": "execute_result"
    }
   ],
   "source": [
    "adrs2=a12[0]+''+a12[1]\n",
    "adrs2=re.sub('[^a-zA-Z0-9]', '', adrs2)\n",
    "adrs2"
   ]
  },
  {
   "cell_type": "code",
   "execution_count": 229,
   "metadata": {},
   "outputs": [
    {
     "data": {
      "text/plain": [
       "'Bank of Montreal Building,5151'"
      ]
     },
     "execution_count": 229,
     "metadata": {},
     "output_type": "execute_result"
    }
   ],
   "source": [
    "if adrs==adrs2:\n",
    "    address=address_raw\n",
    "else:    \n",
    "    address=''\n",
    "    n=2\n",
    "    for i in range(n):\n",
    "        if i!=n-1:\n",
    "            address+=a12[i]+','\n",
    "        else:\n",
    "            address+=a12[i] \n",
    "address"
   ]
  },
  {
   "cell_type": "code",
   "execution_count": 230,
   "metadata": {},
   "outputs": [
    {
     "data": {
      "text/plain": [
       "'Bank of Montreal Building,5151,Halifax,Canada'"
      ]
     },
     "execution_count": 230,
     "metadata": {},
     "output_type": "execute_result"
    }
   ],
   "source": [
    "address=address+',Halifax,Canada'\n",
    "address"
   ]
  },
  {
   "cell_type": "code",
   "execution_count": 231,
   "metadata": {},
   "outputs": [
    {
     "data": {
      "text/plain": [
       "{'candidates': [{'formatted_address': '1695 Grafton St, Halifax, NS B3J 0E7, Canada',\n",
       "   'geometry': {'location': {'lat': 44.6460845, 'lng': -63.5749315},\n",
       "    'viewport': {'northeast': {'lat': 44.64743522989272,\n",
       "      'lng': -63.57357817010728},\n",
       "     'southwest': {'lat': 44.64473557010727, 'lng': -63.57627782989272}}},\n",
       "   'name': 'BMO Bank of Montreal',\n",
       "   'photos': [{'height': 4048,\n",
       "     'html_attributions': ['<a href=\"https://maps.google.com/maps/contrib/107762529086617450118/photos\">John Hayne</a>'],\n",
       "     'photo_reference': 'CmRaAAAAhOcz0KeNWplvn1TuSfCtgz2Hj1Stb2jRNBmk527Hvf1N9s8IUMV53_lu9uHnqOISS67fgH1ulX3Ek0J0LYVWPV5x2n2rAWxPr8WMN5nXrqpIe86oknnDZ-mpom0MrPISEhAoEftUUmk_DSzyB4oGHcLCGhSYuEfQRzpw9BA0ZKv_1UzxGI3EDw',\n",
       "     'width': 3036}],\n",
       "   'place_id': 'ChIJFZ3xrc0jWksRCOKeGGYNBOI',\n",
       "   'types': ['bank', 'atm', 'finance', 'point_of_interest', 'establishment']},\n",
       "  {'formatted_address': '5151 George St, Halifax, NS B3J 1M5, Canada',\n",
       "   'geometry': {'location': {'lat': 44.6487608, 'lng': -63.57308159999999},\n",
       "    'viewport': {'northeast': {'lat': 44.65004752989272,\n",
       "      'lng': -63.57169892010728},\n",
       "     'southwest': {'lat': 44.64734787010728, 'lng': -63.57439857989272}}},\n",
       "   'name': 'Trust Co of the Bank-Montreal',\n",
       "   'place_id': 'ChIJFZ3xrc0jWksR0sgH3RWj2l0',\n",
       "   'types': ['bank', 'finance', 'point_of_interest', 'establishment']}],\n",
       " 'status': 'OK'}"
      ]
     },
     "execution_count": 231,
     "metadata": {},
     "output_type": "execute_result"
    }
   ],
   "source": [
    "URL3='https://maps.googleapis.com/maps/api/place/findplacefromtext/json?fields=photos,formatted_address,name,types,geometry,place_id'\n",
    "inputtype='textquery'\n",
    "PARAMS3 = {'input':address,'inputtype':inputtype,'key':api_key}\n",
    "r3 = requests.get(url = URL3, params = PARAMS3)\n",
    "r3\n",
    "data33=r3.json()\n",
    "data33\n"
   ]
  },
  {
   "cell_type": "markdown",
   "metadata": {},
   "source": [
    "name=''\n",
    "for i in range (len(data33['candidates'][0]['name'])):\n",
    "    if i!=len(data33['candidates'][0]['name'])-1:\n",
    "        name+=data33['candidates'][0]['name'][i]+','\n",
    "    else:\n",
    "        name+=data33['candidates'][0]['name'][i]\n",
    "name"
   ]
  },
  {
   "cell_type": "code",
   "execution_count": 147,
   "metadata": {},
   "outputs": [
    {
     "data": {
      "text/plain": [
       "'6362 Pepperell St'"
      ]
     },
     "execution_count": 147,
     "metadata": {},
     "output_type": "execute_result"
    }
   ],
   "source": [
    "name=data33['candidates'][0]['name']\n",
    "name"
   ]
  },
  {
   "cell_type": "code",
   "execution_count": 148,
   "metadata": {},
   "outputs": [
    {
     "data": {
      "text/plain": [
       "'6362 Pepperell St yes'"
      ]
     },
     "execution_count": 148,
     "metadata": {},
     "output_type": "execute_result"
    }
   ],
   "source": [
    "xalien=''\n",
    "if a2!='building':\n",
    "    xalien=name+' '+a2+' '+a3\n",
    "elif a2=='building':\n",
    "    if 'premise'in data33['candidates'][0]['types']:\n",
    "        xalien=name+' '+a3\n",
    "    else:\n",
    "        xalien=name+' '\n",
    "        for i in range(len(data33['candidates'][0]['types'])):\n",
    "            if i!=len(data33['candidates'][0]['types'])-1:                   \n",
    "                   xalien+=data33['candidates'][0]['types'][i]+' '\n",
    "            else:\n",
    "                   xalien+=data33['candidates'][0]['types'][i]\n",
    "                   \n",
    "    \n",
    "xalien\n"
   ]
  },
  {
   "cell_type": "code",
   "execution_count": 149,
   "metadata": {},
   "outputs": [],
   "source": [
    "#review=xalien"
   ]
  },
  {
   "cell_type": "code",
   "execution_count": 150,
   "metadata": {},
   "outputs": [],
   "source": [
    "with open('corpus.pkl','rb') as f:\n",
    "    corpus_alien=pickle.load(f)"
   ]
  },
  {
   "cell_type": "code",
   "execution_count": 151,
   "metadata": {},
   "outputs": [
    {
     "name": "stdout",
     "output_type": "stream",
     "text": [
      "[nltk_data] Downloading package stopwords to\n",
      "[nltk_data]     C:\\Users\\Parijat\\AppData\\Roaming\\nltk_data...\n",
      "[nltk_data]   Package stopwords is already up-to-date!\n"
     ]
    },
    {
     "data": {
      "text/plain": [
       "True"
      ]
     },
     "execution_count": 151,
     "metadata": {},
     "output_type": "execute_result"
    }
   ],
   "source": [
    "from nltk.corpus import stopwords\n",
    "from nltk.stem.porter import PorterStemmer\n",
    "\n",
    "nltk.download('stopwords')"
   ]
  },
  {
   "cell_type": "code",
   "execution_count": 152,
   "metadata": {},
   "outputs": [],
   "source": [
    "review = re.sub('[^a-zA-Z]', ' ', xalien)\n",
    "review = review.lower()\n",
    "review = review.split()\n",
    "ps = PorterStemmer()\n",
    "review = [ps.stem(word) for word in review if not word in set(stopwords.words('english'))]\n",
    "review = ' '.join(review)\n",
    "corpus_alien.append(review)"
   ]
  },
  {
   "cell_type": "code",
   "execution_count": 153,
   "metadata": {},
   "outputs": [],
   "source": [
    "#corpus_alien[-1]"
   ]
  },
  {
   "cell_type": "markdown",
   "metadata": {},
   "source": [
    "with open('cv.pkl', 'rb') as f:\n",
    "    cv=pickle.load(f)"
   ]
  },
  {
   "cell_type": "code",
   "execution_count": 154,
   "metadata": {},
   "outputs": [],
   "source": [
    "from sklearn.feature_extraction.text import CountVectorizer"
   ]
  },
  {
   "cell_type": "code",
   "execution_count": 155,
   "metadata": {},
   "outputs": [],
   "source": [
    "cv = CountVectorizer(max_features = 1380)"
   ]
  },
  {
   "cell_type": "code",
   "execution_count": 156,
   "metadata": {},
   "outputs": [],
   "source": [
    "xalien= cv.fit_transform(corpus_alien).toarray()"
   ]
  },
  {
   "cell_type": "code",
   "execution_count": 157,
   "metadata": {},
   "outputs": [],
   "source": [
    "x_alien=xalien[[-1]]"
   ]
  },
  {
   "cell_type": "code",
   "execution_count": 158,
   "metadata": {},
   "outputs": [
    {
     "data": {
      "text/plain": [
       "(1, 1380)"
      ]
     },
     "execution_count": 158,
     "metadata": {},
     "output_type": "execute_result"
    }
   ],
   "source": [
    "x_alien.shape"
   ]
  },
  {
   "cell_type": "code",
   "execution_count": 159,
   "metadata": {},
   "outputs": [
    {
     "data": {
      "text/plain": [
       "array([[0, 0, 0, ..., 0, 0, 0]], dtype=int64)"
      ]
     },
     "execution_count": 159,
     "metadata": {},
     "output_type": "execute_result"
    }
   ],
   "source": [
    "x_alien"
   ]
  },
  {
   "cell_type": "code",
   "execution_count": 160,
   "metadata": {},
   "outputs": [],
   "source": [
    "with open('NB_model.sav', 'rb') as f:\n",
    "    engine_nb = pickle.load(f)"
   ]
  },
  {
   "cell_type": "code",
   "execution_count": 161,
   "metadata": {},
   "outputs": [
    {
     "data": {
      "text/plain": [
       "array([1], dtype=int64)"
      ]
     },
     "execution_count": 161,
     "metadata": {},
     "output_type": "execute_result"
    }
   ],
   "source": [
    "yalien_NB=engine_nb.predict(x_alien)\n",
    "yalien_NB"
   ]
  },
  {
   "cell_type": "code",
   "execution_count": 162,
   "metadata": {},
   "outputs": [],
   "source": [
    "with open('RF_model.sav', 'rb') as f:\n",
    "    engine_rf = pickle.load(f)"
   ]
  },
  {
   "cell_type": "code",
   "execution_count": 163,
   "metadata": {},
   "outputs": [
    {
     "data": {
      "text/plain": [
       "array([1], dtype=int64)"
      ]
     },
     "execution_count": 163,
     "metadata": {},
     "output_type": "execute_result"
    }
   ],
   "source": [
    "yalien_RF=engine_rf.predict(x_alien)\n",
    "yalien_RF"
   ]
  },
  {
   "cell_type": "code",
   "execution_count": 164,
   "metadata": {},
   "outputs": [
    {
     "data": {
      "text/plain": [
       "array([1], dtype=int64)"
      ]
     },
     "execution_count": 164,
     "metadata": {},
     "output_type": "execute_result"
    }
   ],
   "source": [
    "yalien_SVM=engine_svm.predict(x_alien)\n",
    "yalien_SVM"
   ]
  },
  {
   "cell_type": "code",
   "execution_count": 165,
   "metadata": {},
   "outputs": [],
   "source": [
    "#yalien_SVM=0"
   ]
  },
  {
   "cell_type": "code",
   "execution_count": 166,
   "metadata": {},
   "outputs": [],
   "source": [
    "def most_frequent(List): \n",
    "    return max(set(List), key = List.count) "
   ]
  },
  {
   "cell_type": "code",
   "execution_count": 167,
   "metadata": {},
   "outputs": [],
   "source": [
    "yalien_list=[yalien_NB[0],yalien_RF[0],yalien_SVM[0]]"
   ]
  },
  {
   "cell_type": "code",
   "execution_count": 168,
   "metadata": {},
   "outputs": [
    {
     "data": {
      "text/plain": [
       "1"
      ]
     },
     "execution_count": 168,
     "metadata": {},
     "output_type": "execute_result"
    }
   ],
   "source": [
    "yalien=most_frequent(yalien_list)\n",
    "yalien"
   ]
  },
  {
   "cell_type": "code",
   "execution_count": 169,
   "metadata": {},
   "outputs": [
    {
     "data": {
      "text/plain": [
       "'Commercial Property'"
      ]
     },
     "execution_count": 169,
     "metadata": {},
     "output_type": "execute_result"
    }
   ],
   "source": [
    "prediction=''\n",
    "if yalien==0:\n",
    "    prediction='Residential Property'\n",
    "elif yalien==1:\n",
    "    prediction='Commercial Property'\n",
    "    \n",
    "prediction\n",
    "    "
   ]
  },
  {
   "cell_type": "code",
   "execution_count": 67,
   "metadata": {},
   "outputs": [],
   "source": [
    "    if data33['status']=='OK':\n",
    "        # extracting latitude, longitude and formatted address \n",
    "        # of the first matching location \n",
    "        latitude = data33['candidates'][0]['geometry']['location']['lat'] \n",
    "        longitude = data33['candidates'][0]['geometry']['location']['lng'] \n",
    "        \n",
    "    else:\n",
    "        print('Enter Corrct Address')"
   ]
  },
  {
   "cell_type": "code",
   "execution_count": 165,
   "metadata": {},
   "outputs": [
    {
     "data": {
      "text/plain": [
       "(44.6487608, -63.57308159999999)"
      ]
     },
     "execution_count": 165,
     "metadata": {},
     "output_type": "execute_result"
    }
   ],
   "source": [
    "latitude, longitude"
   ]
  },
  {
   "cell_type": "code",
   "execution_count": null,
   "metadata": {},
   "outputs": [],
   "source": []
  }
 ],
 "metadata": {
  "kernelspec": {
   "display_name": "Python 3",
   "language": "python",
   "name": "python3"
  },
  "language_info": {
   "codemirror_mode": {
    "name": "ipython",
    "version": 3
   },
   "file_extension": ".py",
   "mimetype": "text/x-python",
   "name": "python",
   "nbconvert_exporter": "python",
   "pygments_lexer": "ipython3",
   "version": "3.6.5"
  }
 },
 "nbformat": 4,
 "nbformat_minor": 2
}
